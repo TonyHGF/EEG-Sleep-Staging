{
 "cells": [
  {
   "cell_type": "code",
   "execution_count": 1,
   "id": "584a7975",
   "metadata": {},
   "outputs": [
    {
     "data": {
      "text/plain": [
       "{'fft_aggregated': [{'aggtype': 'centroid'},\n",
       "  {'aggtype': 'variance'},\n",
       "  {'aggtype': 'skew'},\n",
       "  {'aggtype': 'kurtosis'}],\n",
       " 'fourier_entropy': [{'bins': 2},\n",
       "  {'bins': 3},\n",
       "  {'bins': 5},\n",
       "  {'bins': 10},\n",
       "  {'bins': 30},\n",
       "  {'bins': 60},\n",
       "  {'bins': 100}],\n",
       " 'binned_entropy': [{'max_bins': 5},\n",
       "  {'max_bins': 10},\n",
       "  {'max_bins': 30},\n",
       "  {'max_bins': 60}]}"
      ]
     },
     "execution_count": 1,
     "metadata": {},
     "output_type": "execute_result"
    }
   ],
   "source": [
    "# Create the collection of tsfresh features to extract\n",
    "\n",
    "tsfresh_settings = {\n",
    "    \"fft_aggregated\": [\n",
    "        {\"aggtype\": \"centroid\"},\n",
    "        {\"aggtype\": \"variance\"},\n",
    "        {\"aggtype\": \"skew\"},\n",
    "        {\"aggtype\": \"kurtosis\"},\n",
    "    ],\n",
    "    \"fourier_entropy\": [\n",
    "        {\"bins\": 2},\n",
    "        {\"bins\": 3},\n",
    "        {\"bins\": 5},\n",
    "        {\"bins\": 10},\n",
    "        {\"bins\": 30},\n",
    "        {\"bins\": 60},\n",
    "        {\"bins\": 100},\n",
    "    ],\n",
    "    \"binned_entropy\": [\n",
    "        {\"max_bins\": 5},\n",
    "        {\"max_bins\": 10},\n",
    "        {\"max_bins\": 30},\n",
    "        {\"max_bins\": 60},\n",
    "    ],\n",
    "}\n",
    "\n",
    "tsfresh_settings"
   ]
  },
  {
   "cell_type": "code",
   "execution_count": 4,
   "id": "44a2372e",
   "metadata": {},
   "outputs": [],
   "source": [
    "import antropy as ant\n",
    "import scipy.stats as ss\n",
    "from yasa import bandpower\n",
    "import numpy as np\n",
    "import scipy.stats as ss\n",
    "from tsflex.features import (\n",
    "    FeatureCollection,\n",
    "    FuncWrapper,\n",
    "    MultipleFeatureDescriptors,\n",
    "    FuncWrapper,\n",
    ")\n",
    "from tsflex.features.integrations import tsfresh_settings_wrapper\n",
    "\n",
    "\n",
    "def wrapped_higuchi_fd(x):\n",
    "    x = np.array(x, dtype=\"float64\")\n",
    "    return ant.higuchi_fd(x)\n",
    "\n",
    "\n",
    "bands = [\n",
    "    (0.4, 1, \"sdelta\"),\n",
    "    (1, 4, \"fdelta\"),\n",
    "    (4, 8, \"theta\"),\n",
    "    (8, 12, \"alpha\"),\n",
    "    (12, 16, \"sigma\"),\n",
    "    (16, 30, \"beta\"),\n",
    "]\n",
    "bandpowers_ouputs = [b[2] for b in bands] + [\"TotalAbsPow\"]\n",
    "\n",
    "\n",
    "def wrapped_bandpowers(x, sf, bands):\n",
    "    return bandpower(x, sf=sf, bands=bands).values[0][:-2]\n",
    "\n",
    "\n",
    "time_funcs = [\n",
    "    np.std,\n",
    "    ss.iqr,\n",
    "    ss.skew,\n",
    "    ss.kurtosis,\n",
    "    ant.num_zerocross,\n",
    "    FuncWrapper(\n",
    "        ant.hjorth_params, output_names=[\"horth_mobility\", \"hjorth_complexity\"]\n",
    "    ),\n",
    "    wrapped_higuchi_fd,\n",
    "    ant.petrosian_fd,\n",
    "    ant.perm_entropy,\n",
    "] + tsfresh_settings_wrapper(tsfresh_settings)\n",
    "\n",
    "freq_funcs = [\n",
    "    FuncWrapper(wrapped_bandpowers, sf=100, bands=bands, output_names=bandpowers_ouputs)\n",
    "]\n",
    "\n",
    "time_feats = MultipleFeatureDescriptors(\n",
    "    time_funcs,\n",
    "    [\"EEG Fpz-Cz\", \"EEG Pz-Oz\", \"EOG horizontal\", \"EMG submental\"],\n",
    "    windows=[\"30s\", \"60s\", \"90s\"],\n",
    "    strides=\"30s\",\n",
    ")\n",
    "freq_feats = MultipleFeatureDescriptors(\n",
    "    freq_funcs,\n",
    "    [\"EEG Fpz-Cz\", \"EEG Pz-Oz\", \"EOG horizontal\"],\n",
    "    windows=[\"30s\", \"60s\", \"90s\"],\n",
    "    strides=\"30s\",\n",
    ")\n",
    "\n",
    "feature_collection = FeatureCollection([time_feats, freq_feats])"
   ]
  },
  {
   "cell_type": "code",
   "execution_count": 5,
   "id": "fc89a374",
   "metadata": {},
   "outputs": [],
   "source": [
    "import logging\n",
    "\n",
    "from tsflex.features.logger import logger\n",
    "\n",
    "logger.setLevel(level=logging.ERROR)\n",
    "\n",
    "from tsflex.processing.logger import logger\n",
    "\n",
    "logger.setLevel(level=logging.ERROR)"
   ]
  },
  {
   "cell_type": "code",
   "execution_count": 12,
   "id": "ab1d625d",
   "metadata": {},
   "outputs": [],
   "source": [
    "from read_edf import *\n",
    "from read_result import *\n",
    "from split_signal import *\n",
    "from processing_data import *"
   ]
  },
  {
   "cell_type": "code",
   "execution_count": 13,
   "id": "155ffd32",
   "metadata": {},
   "outputs": [],
   "source": [
    "edf_path = \"../database/sleep-cassette/SC4001E0-PSG.edf\"\n",
    "result_path = \"../database/sleep-cassette/SC4001EC-Hypnogram.edf\""
   ]
  },
  {
   "cell_type": "code",
   "execution_count": 25,
   "id": "7dc8457a",
   "metadata": {},
   "outputs": [
    {
     "data": {
      "text/plain": [
       "(3000,)"
      ]
     },
     "execution_count": 25,
     "metadata": {},
     "output_type": "execute_result"
    }
   ],
   "source": [
    "start_times, durations, labels = read_result_file(result_path)\n",
    "res = split_edf_by_annotations(edf_path, start_times, durations, labels)\n",
    "split_signals = split_edf_by_30s(res)\n",
    "for (_, signals) in split_signals:\n",
    "    for i in range(3):\n",
    "        signals[i] = signal_filter(signals[i])"
   ]
  },
  {
   "cell_type": "code",
   "execution_count": 26,
   "id": "24748bf3",
   "metadata": {},
   "outputs": [],
   "source": [
    "from extraction import *"
   ]
  },
  {
   "cell_type": "code",
   "execution_count": 19,
   "id": "ee40640a",
   "metadata": {},
   "outputs": [
    {
     "ename": "TypeError",
     "evalue": "Non pd.Series or pd.DataFrame object passed.",
     "output_type": "error",
     "traceback": [
      "\u001b[1;31m---------------------------------------------------------------------------\u001b[0m",
      "\u001b[1;31mTypeError\u001b[0m                                 Traceback (most recent call last)",
      "Cell \u001b[1;32mIn[19], line 1\u001b[0m\n\u001b[1;32m----> 1\u001b[0m feats \u001b[38;5;241m=\u001b[39m feature_collection\u001b[38;5;241m.\u001b[39mcalculate(cur_X, return_df\u001b[38;5;241m=\u001b[39m\u001b[38;5;28;01mTrue\u001b[39;00m, show_progress\u001b[38;5;241m=\u001b[39m\u001b[38;5;28;01mTrue\u001b[39;00m)\n",
      "File \u001b[1;32mE:\\2023 Fall\\IML\\project\\iml-project\\tsflex\\features\\feature_collection.py:577\u001b[0m, in \u001b[0;36mFeatureCollection.calculate\u001b[1;34m(self, data, stride, segment_start_idxs, segment_end_idxs, return_df, window_idx, include_final_window, bound_method, approve_sparsity, show_progress, logging_file_path, n_jobs)\u001b[0m\n\u001b[0;32m    575\u001b[0m \u001b[38;5;66;03m# Convert the data to a series_dict\u001b[39;00m\n\u001b[0;32m    576\u001b[0m series_dict: Dict[\u001b[38;5;28mstr\u001b[39m, pd\u001b[38;5;241m.\u001b[39mSeries] \u001b[38;5;241m=\u001b[39m {}\n\u001b[1;32m--> 577\u001b[0m \u001b[38;5;28;01mfor\u001b[39;00m s \u001b[38;5;129;01min\u001b[39;00m to_series_list(data):\n\u001b[0;32m    578\u001b[0m     \u001b[38;5;28;01mif\u001b[39;00m \u001b[38;5;129;01mnot\u001b[39;00m s\u001b[38;5;241m.\u001b[39mindex\u001b[38;5;241m.\u001b[39mis_monotonic_increasing:\n\u001b[0;32m    579\u001b[0m         warnings\u001b[38;5;241m.\u001b[39mwarn(\n\u001b[0;32m    580\u001b[0m             \u001b[38;5;124mf\u001b[39m\u001b[38;5;124m\"\u001b[39m\u001b[38;5;124mThe index of series \u001b[39m\u001b[38;5;124m'\u001b[39m\u001b[38;5;132;01m{\u001b[39;00ms\u001b[38;5;241m.\u001b[39mname\u001b[38;5;132;01m}\u001b[39;00m\u001b[38;5;124m'\u001b[39m\u001b[38;5;124m is not monotonic increasing. \u001b[39m\u001b[38;5;124m\"\u001b[39m\n\u001b[0;32m    581\u001b[0m             \u001b[38;5;241m+\u001b[39m \u001b[38;5;124m\"\u001b[39m\u001b[38;5;124mThe series will be sorted by the index.\u001b[39m\u001b[38;5;124m\"\u001b[39m,\n\u001b[0;32m    582\u001b[0m             \u001b[38;5;167;01mRuntimeWarning\u001b[39;00m,\n\u001b[0;32m    583\u001b[0m         )\n",
      "File \u001b[1;32mE:\\2023 Fall\\IML\\project\\iml-project\\tsflex\\utils\\data.py:101\u001b[0m, in \u001b[0;36mto_series_list\u001b[1;34m(data)\u001b[0m\n\u001b[0;32m     99\u001b[0m         series_list\u001b[38;5;241m.\u001b[39mappend(s)\n\u001b[0;32m    100\u001b[0m     \u001b[38;5;28;01melse\u001b[39;00m:\n\u001b[1;32m--> 101\u001b[0m         \u001b[38;5;28;01mraise\u001b[39;00m \u001b[38;5;167;01mTypeError\u001b[39;00m(\u001b[38;5;124m\"\u001b[39m\u001b[38;5;124mNon pd.Series or pd.DataFrame object passed.\u001b[39m\u001b[38;5;124m\"\u001b[39m)\n\u001b[0;32m    103\u001b[0m \u001b[38;5;28;01mreturn\u001b[39;00m series_list\n",
      "\u001b[1;31mTypeError\u001b[0m: Non pd.Series or pd.DataFrame object passed."
     ]
    }
   ],
   "source": [
    "feats = feature_collection.calculate(cur_X, return_df=True, show_progress=True)"
   ]
  },
  {
   "cell_type": "code",
   "execution_count": null,
   "id": "d088445b",
   "metadata": {},
   "outputs": [],
   "source": []
  }
 ],
 "metadata": {
  "kernelspec": {
   "display_name": "Python 3 (ipykernel)",
   "language": "python",
   "name": "python3"
  },
  "language_info": {
   "codemirror_mode": {
    "name": "ipython",
    "version": 3
   },
   "file_extension": ".py",
   "mimetype": "text/x-python",
   "name": "python",
   "nbconvert_exporter": "python",
   "pygments_lexer": "ipython3",
   "version": "3.11.4"
  }
 },
 "nbformat": 4,
 "nbformat_minor": 5
}
