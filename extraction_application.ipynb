{
 "cells": [
  {
   "cell_type": "code",
   "execution_count": 1,
   "id": "dcd0e72b",
   "metadata": {},
   "outputs": [],
   "source": [
    "from extraction import *\n",
    "from read_edf import *\n",
    "from read_result import *\n",
    "from split_signal import *\n",
    "from processing_data import *"
   ]
  },
  {
   "cell_type": "code",
   "execution_count": 2,
   "id": "9acc10c9",
   "metadata": {},
   "outputs": [],
   "source": [
    "edf_path = \"../database/sleep-cassette/SC4001E0-PSG.edf\"\n",
    "result_path = \"../database/sleep-cassette/SC4001EC-Hypnogram.edf\""
   ]
  },
  {
   "cell_type": "code",
   "execution_count": 3,
   "id": "2ec35422",
   "metadata": {},
   "outputs": [],
   "source": [
    "start_times, durations, labels = read_result_file(result_path)\n",
    "res = split_edf_by_annotations(edf_path, start_times, durations, labels)\n",
    "split_signals = split_edf_by_30s(res)\n",
    "for (_, signals) in split_signals:\n",
    "    for i in range(3):\n",
    "        signals[i] = signal_filter(signals[i])"
   ]
  },
  {
   "cell_type": "code",
   "execution_count": 4,
   "id": "4ab553dd",
   "metadata": {},
   "outputs": [
    {
     "data": {
      "text/plain": [
       "275"
      ]
     },
     "execution_count": 4,
     "metadata": {},
     "output_type": "execute_result"
    }
   ],
   "source": [
    "calculate_zero_crossings(signals[0])"
   ]
  },
  {
   "cell_type": "code",
   "execution_count": 5,
   "id": "7628519a",
   "metadata": {},
   "outputs": [
    {
     "data": {
      "text/plain": [
       "(0.2660442890292945, 4.117195702293528)"
      ]
     },
     "execution_count": 5,
     "metadata": {},
     "output_type": "execute_result"
    }
   ],
   "source": [
    "calculate_hjorth_parameters(signals[0])"
   ]
  },
  {
   "cell_type": "code",
   "execution_count": 6,
   "id": "80afbbfa",
   "metadata": {},
   "outputs": [],
   "source": [
    "import numpy as np"
   ]
  },
  {
   "cell_type": "code",
   "execution_count": 7,
   "id": "bc3b9bb0",
   "metadata": {},
   "outputs": [
    {
     "data": {
      "text/plain": [
       "15.541375404107807"
      ]
     },
     "execution_count": 7,
     "metadata": {},
     "output_type": "execute_result"
    }
   ],
   "source": [
    "np.std(signals[0])"
   ]
  },
  {
   "cell_type": "code",
   "execution_count": 8,
   "id": "5c9344e6",
   "metadata": {},
   "outputs": [
    {
     "data": {
      "text/plain": [
       "1.4593447152461914"
      ]
     },
     "execution_count": 8,
     "metadata": {},
     "output_type": "execute_result"
    }
   ],
   "source": [
    "calculate_binned_entropy(signals[0], 5)"
   ]
  },
  {
   "cell_type": "markdown",
   "id": "f51a27cf",
   "metadata": {},
   "source": [
    "Page 6, Table 1:\n",
    "\n",
    "- The binned entropy feature first bins the time series to then sum up the entropy of the bins (this feature is calculated four times for each time a different number of bins; 5, 10, 30, and 60 bins)\n",
    "\n",
    "- The binned Fourier entropy feature calculates the binned entropy of the power spectral density (this feature is calculated for seven different bin sizes, i.e., 2, 3, 5, 10, 30, 60, and 100 bins)"
   ]
  },
  {
   "cell_type": "code",
   "execution_count": 9,
   "id": "1cdea56f",
   "metadata": {},
   "outputs": [],
   "source": [
    "time_entropy_bins = [5, 10, 30, 60]\n",
    "frequency_entropy_bins = [2, 3, 5, 10, 30, 60, 100]"
   ]
  },
  {
   "cell_type": "code",
   "execution_count": 10,
   "id": "b18d8b35",
   "metadata": {},
   "outputs": [
    {
     "data": {
      "text/plain": [
       "array([85.60199334 -0.j        , 85.81562777 -5.44525069j,\n",
       "       86.45973896-11.03134076j, ..., 87.52498318+16.90323918j,\n",
       "       86.45973896+11.03134076j, 85.81562777 +5.44525069j])"
      ]
     },
     "execution_count": 10,
     "metadata": {},
     "output_type": "execute_result"
    }
   ],
   "source": [
    "frequency_signals = perform_fft(signals[0], 100)\n",
    "frequency_signals\n",
    "# print(frequency_signals.shape)"
   ]
  },
  {
   "cell_type": "code",
   "execution_count": 11,
   "id": "a5ec5747",
   "metadata": {},
   "outputs": [],
   "source": [
    "res = calculate_frequency_domain_features(frequency_signals, 100)"
   ]
  },
  {
   "cell_type": "code",
   "execution_count": 12,
   "id": "9cd793fe",
   "metadata": {},
   "outputs": [
    {
     "data": {
      "text/plain": [
       "{'spectral_centroid': 5.931166482730863,\n",
       " 'spectral_variance': 1030.7846397068654,\n",
       " 'spectral_skewness': 1.471768975949911,\n",
       " 'spectral_kurtosis': 2.5662569896266065,\n",
       " 'binned_entropies': [0.037622360322278434,\n",
       "  0.11471352732076774,\n",
       "  0.3369915001767694,\n",
       "  0.8029879670205069,\n",
       "  1.835945059405911,\n",
       "  2.6514380495089966,\n",
       "  3.277695738217079],\n",
       " 'band_powers': {'delta_slow': 3551091254.3542285,\n",
       "  'delta_fast': 54489121105.08021,\n",
       "  'theta': 73289036326.88803,\n",
       "  'alpha': 86893323356.20265,\n",
       "  'sigma': 104225869654.38518,\n",
       "  'beta': 329526840291.22504},\n",
       " 'power_ratios': {'fast_delta_theta': 127778157431.96823,\n",
       "  'alpha_theta': 1.1856251318223914,\n",
       "  'delta_beta': 0.010776333882896732,\n",
       "  'delta_sigma': 0.03407111177032832,\n",
       "  'delta_theta': 0.04845323983406528}}"
      ]
     },
     "execution_count": 12,
     "metadata": {},
     "output_type": "execute_result"
    }
   ],
   "source": [
    "res"
   ]
  },
  {
   "cell_type": "code",
   "execution_count": 14,
   "id": "1358a4d4",
   "metadata": {},
   "outputs": [],
   "source": [
    "res = signal_extraction(signals[0])"
   ]
  },
  {
   "cell_type": "code",
   "execution_count": 15,
   "id": "d088dbca",
   "metadata": {},
   "outputs": [
    {
     "data": {
      "text/plain": [
       "(35,)"
      ]
     },
     "execution_count": 15,
     "metadata": {},
     "output_type": "execute_result"
    }
   ],
   "source": [
    "res.shape"
   ]
  },
  {
   "cell_type": "code",
   "execution_count": 16,
   "id": "0e08e1ba",
   "metadata": {},
   "outputs": [],
   "source": [
    "import os"
   ]
  },
  {
   "cell_type": "code",
   "execution_count": 20,
   "id": "b7b97549",
   "metadata": {},
   "outputs": [
    {
     "name": "stdout",
     "output_type": "stream",
     "text": [
      "153\n",
      "0-th iteration!\n"
     ]
    },
    {
     "ename": "ValueError",
     "evalue": "all the input array dimensions except for the concatenation axis must match exactly, but along dimension 1, the array at index 0 has size 105 and the array at index 1 has size 1800",
     "output_type": "error",
     "traceback": [
      "\u001b[1;31m---------------------------------------------------------------------------\u001b[0m",
      "\u001b[1;31mValueError\u001b[0m                                Traceback (most recent call last)",
      "Cell \u001b[1;32mIn[20], line 37\u001b[0m\n\u001b[0;32m     35\u001b[0m cur_Y \u001b[38;5;241m=\u001b[39m generate_matrix(split_signals)[\u001b[38;5;241m1\u001b[39m]\n\u001b[0;32m     36\u001b[0m \u001b[38;5;66;03m# print(cur_X.shape, cur_Y.shape)\u001b[39;00m\n\u001b[1;32m---> 37\u001b[0m X \u001b[38;5;241m=\u001b[39m np\u001b[38;5;241m.\u001b[39mvstack((cur_X, X))\n\u001b[0;32m     38\u001b[0m Y \u001b[38;5;241m=\u001b[39m np\u001b[38;5;241m.\u001b[39mvstack((cur_Y, Y))\n\u001b[0;32m     39\u001b[0m \u001b[38;5;66;03m# print(cur_X.shape)\u001b[39;00m\n\u001b[0;32m     40\u001b[0m \u001b[38;5;66;03m# print(cur_Y.shape)\u001b[39;00m\n\u001b[0;32m     41\u001b[0m \u001b[38;5;66;03m# break\u001b[39;00m\n",
      "File \u001b[1;32m<__array_function__ internals>:200\u001b[0m, in \u001b[0;36mvstack\u001b[1;34m(*args, **kwargs)\u001b[0m\n",
      "File \u001b[1;32mD:\\Anaconda3\\Lib\\site-packages\\numpy\\core\\shape_base.py:296\u001b[0m, in \u001b[0;36mvstack\u001b[1;34m(tup, dtype, casting)\u001b[0m\n\u001b[0;32m    294\u001b[0m \u001b[38;5;28;01mif\u001b[39;00m \u001b[38;5;129;01mnot\u001b[39;00m \u001b[38;5;28misinstance\u001b[39m(arrs, \u001b[38;5;28mlist\u001b[39m):\n\u001b[0;32m    295\u001b[0m     arrs \u001b[38;5;241m=\u001b[39m [arrs]\n\u001b[1;32m--> 296\u001b[0m \u001b[38;5;28;01mreturn\u001b[39;00m _nx\u001b[38;5;241m.\u001b[39mconcatenate(arrs, \u001b[38;5;241m0\u001b[39m, dtype\u001b[38;5;241m=\u001b[39mdtype, casting\u001b[38;5;241m=\u001b[39mcasting)\n",
      "File \u001b[1;32m<__array_function__ internals>:200\u001b[0m, in \u001b[0;36mconcatenate\u001b[1;34m(*args, **kwargs)\u001b[0m\n",
      "\u001b[1;31mValueError\u001b[0m: all the input array dimensions except for the concatenation axis must match exactly, but along dimension 1, the array at index 0 has size 105 and the array at index 1 has size 1800"
     ]
    }
   ],
   "source": [
    "edf_files = []\n",
    "result_files = []\n",
    "\n",
    "for dirname, _, filenames in os.walk('../database/sleep-cassette'):\n",
    "    for filename in filenames:\n",
    "        if filename[9] == 'P':\n",
    "            edf_files.append(os.path.join(dirname, filename))\n",
    "        else:\n",
    "            result_files.append(os.path.join(dirname, filename))\n",
    "N = len(result_files)\n",
    "\n",
    "X = np.empty((0,18000//down_sampling_rate), float)\n",
    "Y = np.empty((0,1), str)\n",
    "\n",
    "print(N)\n",
    "\n",
    "for i in range(N):\n",
    "    if i % 10 == 0:\n",
    "        print(f\"{i}-th iteration!\")\n",
    "    result_path = result_files[i]\n",
    "    edf_path = edf_files[i]\n",
    "    start_times, durations, labels = read_result_file(result_path)\n",
    "    res = split_edf_by_annotations(edf_path, start_times, durations, labels)\n",
    "    split_signals = split_edf_by_30s(res)\n",
    "    rows_list = []\n",
    "    for (_, signals) in split_signals:\n",
    "        three = []\n",
    "        for i in range(3):\n",
    "            signals[i] = signal_filter(signals[i])\n",
    "            tmp_res = signal_extraction(signals[i])\n",
    "            three.append(tmp_res)\n",
    "        vec = np.concatenate(three, axis=0)\n",
    "        rows_list.append(vec)\n",
    "    cur_X = np.array(rows_list)\n",
    "    cur_Y = generate_matrix(split_signals)[1]\n",
    "    # print(cur_X.shape, cur_Y.shape)\n",
    "    X = np.vstack((cur_X, X))\n",
    "    Y = np.vstack((cur_Y, Y))\n",
    "    # print(cur_X.shape)\n",
    "    # print(cur_Y.shape)\n",
    "    # break\n",
    "print(X.shape)\n",
    "print(Y.shape)"
   ]
  },
  {
   "cell_type": "code",
   "execution_count": null,
   "id": "226ce538",
   "metadata": {},
   "outputs": [],
   "source": []
  },
  {
   "cell_type": "code",
   "execution_count": null,
   "id": "3abbee95",
   "metadata": {},
   "outputs": [],
   "source": []
  }
 ],
 "metadata": {
  "kernelspec": {
   "display_name": "Python 3 (ipykernel)",
   "language": "python",
   "name": "python3"
  },
  "language_info": {
   "codemirror_mode": {
    "name": "ipython",
    "version": 3
   },
   "file_extension": ".py",
   "mimetype": "text/x-python",
   "name": "python",
   "nbconvert_exporter": "python",
   "pygments_lexer": "ipython3",
   "version": "3.11.4"
  }
 },
 "nbformat": 4,
 "nbformat_minor": 5
}
