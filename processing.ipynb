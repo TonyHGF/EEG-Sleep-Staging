{
 "cells": [
  {
   "cell_type": "code",
   "execution_count": 2,
   "id": "41f6b774",
   "metadata": {},
   "outputs": [],
   "source": [
    "from read_edf import read_edf_file\n",
    "from read_edf import plot_signals\n",
    "from read_result import read_result_file\n",
    "from read_result import plot_sleep_stages\n",
    "from split_signal import split_edf_by_annotations\n",
    "from split_signal import split_edf_by_30s\n"
   ]
  },
  {
   "cell_type": "code",
   "execution_count": 3,
   "id": "dde2bf17",
   "metadata": {},
   "outputs": [],
   "source": [
    "edf_path = \"../database/sleep-telemetry/ST7011J0-PSG.edf\"\n",
    "result_path = \"../database/sleep-telemetry/ST7011JP-Hypnogram.edf\""
   ]
  },
  {
   "cell_type": "code",
   "execution_count": 4,
   "id": "51f11965",
   "metadata": {},
   "outputs": [],
   "source": [
    "start_times, durations, labels = read_result_file(result_path)\n",
    "res = split_edf_by_annotations(edf_path, start_times, durations, labels)"
   ]
  },
  {
   "cell_type": "code",
   "execution_count": 5,
   "id": "49b00aa1",
   "metadata": {},
   "outputs": [],
   "source": [
    "split_signals = split_edf_by_30s(res)"
   ]
  },
  {
   "cell_type": "code",
   "execution_count": 7,
   "id": "5cf82230",
   "metadata": {},
   "outputs": [
    {
     "name": "stdout",
     "output_type": "stream",
     "text": [
      "(151, 18000)\n",
      "(151, 1)\n"
     ]
    }
   ],
   "source": [
    "from data_processing import generate_matrix\n",
    "X, Y = generate_matrix(split_signals)\n",
    "print(X.shape)\n",
    "print(Y.shape)"
   ]
  },
  {
   "cell_type": "code",
   "execution_count": null,
   "id": "cb20e992",
   "metadata": {},
   "outputs": [],
   "source": []
  }
 ],
 "metadata": {
  "kernelspec": {
   "display_name": "Python 3 (ipykernel)",
   "language": "python",
   "name": "python3"
  },
  "language_info": {
   "codemirror_mode": {
    "name": "ipython",
    "version": 3
   },
   "file_extension": ".py",
   "mimetype": "text/x-python",
   "name": "python",
   "nbconvert_exporter": "python",
   "pygments_lexer": "ipython3",
   "version": "3.11.4"
  }
 },
 "nbformat": 4,
 "nbformat_minor": 5
}
