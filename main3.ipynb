{
 "cells": [
  {
   "cell_type": "code",
   "execution_count": 27,
   "id": "6d335358",
   "metadata": {},
   "outputs": [],
   "source": [
    "import os\n",
    "import numpy as np\n",
    "import importlib"
   ]
  },
  {
   "cell_type": "code",
   "execution_count": 28,
   "id": "3d080fa8",
   "metadata": {},
   "outputs": [],
   "source": [
    "feature_number = 105"
   ]
  },
  {
   "cell_type": "code",
   "execution_count": 29,
   "id": "65123d82",
   "metadata": {},
   "outputs": [
    {
     "name": "stdout",
     "output_type": "stream",
     "text": [
      "(393345, 105)\n",
      "(393345,)\n"
     ]
    }
   ],
   "source": [
    "X = np.empty((0,feature_number))\n",
    "y = np.empty((0,))\n",
    "for dirname, _, filenames in os.walk('./result'):\n",
    "    for filename in filenames:\n",
    "        file_path = os.path.join(dirname, filename)\n",
    "        file = np.load(file_path)\n",
    "        X = np.concatenate((X, file['features']))\n",
    "        y = np.concatenate((y, file['labels']))\n",
    "y = y.astype(int)\n",
    "print(X.shape)\n",
    "print(y.shape)"
   ]
  },
  {
   "cell_type": "code",
   "execution_count": 30,
   "id": "54b41808",
   "metadata": {},
   "outputs": [],
   "source": [
    "import split"
   ]
  },
  {
   "cell_type": "code",
   "execution_count": 31,
   "id": "e3d9dccf",
   "metadata": {},
   "outputs": [
    {
     "name": "stdout",
     "output_type": "stream",
     "text": [
      "(392309, 105)\n",
      "(392309,)\n"
     ]
    }
   ],
   "source": [
    "X, y = split.delete_question_mark(X, y)\n",
    "print(X.shape)\n",
    "print(y.shape)"
   ]
  },
  {
   "cell_type": "code",
   "execution_count": 32,
   "id": "46f096f6",
   "metadata": {},
   "outputs": [],
   "source": [
    "from sklearn.model_selection import train_test_split"
   ]
  },
  {
   "cell_type": "code",
   "execution_count": 33,
   "id": "69d0bf5c",
   "metadata": {},
   "outputs": [],
   "source": [
    "X_train, X_test, y_train, y_test = train_test_split(X, y, test_size=0.2, random_state=42)"
   ]
  },
  {
   "cell_type": "code",
   "execution_count": 34,
   "id": "fabe4279",
   "metadata": {},
   "outputs": [],
   "source": [
    "from sklearn import preprocessing\n",
    "scaler = preprocessing.StandardScaler().fit(X_train)\n",
    "X_scaled = scaler.fit_transform(X_train)"
   ]
  },
  {
   "cell_type": "code",
   "execution_count": 35,
   "id": "893bdcdf",
   "metadata": {},
   "outputs": [
    {
     "data": {
      "text/plain": [
       "(313847, 82)"
      ]
     },
     "execution_count": 35,
     "metadata": {},
     "output_type": "execute_result"
    }
   ],
   "source": [
    "from sklearn.decomposition import PCA\n",
    "pca = PCA(n_components= 0.999)\n",
    "pca.fit(X_scaled)\n",
    "X_pca = pca.transform(X_scaled)\n",
    "X_pca.shape"
   ]
  },
  {
   "cell_type": "code",
   "execution_count": 36,
   "id": "66438fa6",
   "metadata": {},
   "outputs": [
    {
     "name": "stdout",
     "output_type": "stream",
     "text": [
      "(313847, 82)\n",
      "(313847,)\n"
     ]
    }
   ],
   "source": [
    "X_W, y_W = split.split_wake_and_asleep(X_pca, y_train)\n",
    "print(X_W.shape)\n",
    "print(y_W.shape)"
   ]
  },
  {
   "cell_type": "code",
   "execution_count": 41,
   "id": "b5bd2fde",
   "metadata": {},
   "outputs": [
    {
     "name": "stdout",
     "output_type": "stream",
     "text": [
      "(177548, 82) (177548,)\n"
     ]
    }
   ],
   "source": [
    "import balance\n",
    "importlib.reload(balance)\n",
    "X_new, y_new = balance.get_balance_class_downsample(X_W, y_W)\n",
    "print(X_new.shape, y_new.shape)"
   ]
  },
  {
   "cell_type": "code",
   "execution_count": 44,
   "id": "e82fcbc4",
   "metadata": {},
   "outputs": [],
   "source": [
    "import intergrating_model"
   ]
  },
  {
   "cell_type": "code",
   "execution_count": 45,
   "id": "4afadbb8",
   "metadata": {},
   "outputs": [
    {
     "name": "stdout",
     "output_type": "stream",
     "text": [
      "svm finished\n",
      "log finished\n",
      "NB finished\n",
      "SVM: 0.9558069141309543\n",
      "Logistic: 0.9559343635494663\n",
      "Naive Bayes: 0.550007965588657\n"
     ]
    }
   ],
   "source": [
    "importlib.reload(intergrating_model)\n",
    "W_model = intergrating_model.generate_model(X_W, y_W)"
   ]
  },
  {
   "cell_type": "code",
   "execution_count": null,
   "id": "9585c4b6",
   "metadata": {},
   "outputs": [],
   "source": []
  },
  {
   "cell_type": "code",
   "execution_count": 63,
   "id": "8279799b",
   "metadata": {},
   "outputs": [
    {
     "data": {
      "text/plain": [
       "(78462, 105)"
      ]
     },
     "execution_count": 63,
     "metadata": {},
     "output_type": "execute_result"
    }
   ],
   "source": [
    "import test\n",
    "import scoring\n",
    "importlib.reload(scoring)\n",
    "X_test_W, y_test_W = split.split_wake_and_asleep(X_test, y_test)\n",
    "# test.test_test(X_test_W, y_test_W, pca, W_model)\n",
    "X_test_W.shape"
   ]
  },
  {
   "cell_type": "code",
   "execution_count": 69,
   "id": "271b667b",
   "metadata": {},
   "outputs": [
    {
     "name": "stdout",
     "output_type": "stream",
     "text": [
      "(78462, 82)\n"
     ]
    }
   ],
   "source": [
    "X_test_pca = pca.transform(X_test_W)\n",
    "print(X_test_pca.shape)"
   ]
  },
  {
   "cell_type": "code",
   "execution_count": 91,
   "id": "e0f97cc5",
   "metadata": {},
   "outputs": [
    {
     "data": {
      "application/vnd.jupyter.widget-view+json": {
       "model_id": "5dcad1ec064f4f468abd1caa49662da3",
       "version_major": 2,
       "version_minor": 0
      },
      "text/plain": [
       "  0%|          | 0/2000 [00:00<?, ?it/s]"
      ]
     },
     "metadata": {},
     "output_type": "display_data"
    }
   ],
   "source": [
    "import logistic_with_pytorch\n",
    "importlib.reload(logistic_with_pytorch)\n",
    "best_model = logistic_with_pytorch.train_logistic_model_pytorch(X_W, y_W, 1)\n",
    "y_pred = logistic_with_pytorch.predict(best_model, X_test_pca)\n",
    "y_pred = np.array(y_pred).flatten()\n",
    "best_acc = np.mean(y_pred == y_test_W)\n",
    "best_weight = 1"
   ]
  },
  {
   "cell_type": "code",
   "execution_count": 95,
   "id": "f7c3106c",
   "metadata": {},
   "outputs": [],
   "source": [
    "def frange(start, end, step):\n",
    "    while start < end:\n",
    "        yield start\n",
    "        start += step"
   ]
  },
  {
   "cell_type": "code",
   "execution_count": 104,
   "id": "6ac19fd1",
   "metadata": {},
   "outputs": [
    {
     "data": {
      "application/vnd.jupyter.widget-view+json": {
       "model_id": "460f5315748f4f6ca7f8e1348adb7b2d",
       "version_major": 2,
       "version_minor": 0
      },
      "text/plain": [
       "  0%|          | 0/2000 [00:00<?, ?it/s]"
      ]
     },
     "metadata": {},
     "output_type": "display_data"
    },
    {
     "name": "stdout",
     "output_type": "stream",
     "text": [
      "0.7155438301343325\n"
     ]
    }
   ],
   "source": [
    "model = logistic_with_pytorch.train_logistic_model_pytorch(X_W, y_W, 100000)\n",
    "y_pred = logistic_with_pytorch.predict(model, X_test_pca)\n",
    "y_pred = np.array(y_pred)\n",
    "acc = np.mean(y_pred == y_test_W)\n",
    "print(acc)"
   ]
  },
  {
   "cell_type": "code",
   "execution_count": 105,
   "id": "0533cd8b",
   "metadata": {},
   "outputs": [
    {
     "data": {
      "text/plain": [
       "78462"
      ]
     },
     "execution_count": 105,
     "metadata": {},
     "output_type": "execute_result"
    }
   ],
   "source": [
    "np.sum(y_pred == 0)"
   ]
  },
  {
   "cell_type": "code",
   "execution_count": 100,
   "id": "c0e03d23",
   "metadata": {},
   "outputs": [
    {
     "data": {
      "application/vnd.jupyter.widget-view+json": {
       "model_id": "7a41274d623e4d29afa53da74d41702e",
       "version_major": 2,
       "version_minor": 0
      },
      "text/plain": [
       "  0%|          | 0/2000 [00:00<?, ?it/s]"
      ]
     },
     "metadata": {},
     "output_type": "display_data"
    },
    {
     "name": "stdout",
     "output_type": "stream",
     "text": [
      "weight=20, acc=0.716\n"
     ]
    },
    {
     "data": {
      "application/vnd.jupyter.widget-view+json": {
       "model_id": "e91394adfccf4e51bb801983460e5fc7",
       "version_major": 2,
       "version_minor": 0
      },
      "text/plain": [
       "  0%|          | 0/2000 [00:00<?, ?it/s]"
      ]
     },
     "metadata": {},
     "output_type": "display_data"
    },
    {
     "name": "stdout",
     "output_type": "stream",
     "text": [
      "weight=21, acc=0.716\n"
     ]
    },
    {
     "data": {
      "application/vnd.jupyter.widget-view+json": {
       "model_id": "de08520c565545a0bfa664472d2a5615",
       "version_major": 2,
       "version_minor": 0
      },
      "text/plain": [
       "  0%|          | 0/2000 [00:00<?, ?it/s]"
      ]
     },
     "metadata": {},
     "output_type": "display_data"
    },
    {
     "name": "stdout",
     "output_type": "stream",
     "text": [
      "weight=22, acc=0.715\n"
     ]
    },
    {
     "data": {
      "application/vnd.jupyter.widget-view+json": {
       "model_id": "a8cf99a7db6043e6889c8131e6e25dfb",
       "version_major": 2,
       "version_minor": 0
      },
      "text/plain": [
       "  0%|          | 0/2000 [00:00<?, ?it/s]"
      ]
     },
     "metadata": {},
     "output_type": "display_data"
    },
    {
     "name": "stdout",
     "output_type": "stream",
     "text": [
      "weight=23, acc=0.716\n"
     ]
    },
    {
     "data": {
      "application/vnd.jupyter.widget-view+json": {
       "model_id": "214dd4b3418a450995b29ee1cfc7f55f",
       "version_major": 2,
       "version_minor": 0
      },
      "text/plain": [
       "  0%|          | 0/2000 [00:00<?, ?it/s]"
      ]
     },
     "metadata": {},
     "output_type": "display_data"
    },
    {
     "name": "stdout",
     "output_type": "stream",
     "text": [
      "weight=24, acc=0.715\n"
     ]
    },
    {
     "data": {
      "application/vnd.jupyter.widget-view+json": {
       "model_id": "dfc848ff24264449a13b20691516ba7c",
       "version_major": 2,
       "version_minor": 0
      },
      "text/plain": [
       "  0%|          | 0/2000 [00:00<?, ?it/s]"
      ]
     },
     "metadata": {},
     "output_type": "display_data"
    },
    {
     "name": "stdout",
     "output_type": "stream",
     "text": [
      "weight=25, acc=0.716\n"
     ]
    },
    {
     "data": {
      "application/vnd.jupyter.widget-view+json": {
       "model_id": "15a1addfb4b540bcbab042b4071ff53a",
       "version_major": 2,
       "version_minor": 0
      },
      "text/plain": [
       "  0%|          | 0/2000 [00:00<?, ?it/s]"
      ]
     },
     "metadata": {},
     "output_type": "display_data"
    },
    {
     "name": "stdout",
     "output_type": "stream",
     "text": [
      "weight=26, acc=0.716\n"
     ]
    },
    {
     "data": {
      "application/vnd.jupyter.widget-view+json": {
       "model_id": "130c55f0cec04b9ca21db942e8a8e5a2",
       "version_major": 2,
       "version_minor": 0
      },
      "text/plain": [
       "  0%|          | 0/2000 [00:00<?, ?it/s]"
      ]
     },
     "metadata": {},
     "output_type": "display_data"
    },
    {
     "name": "stdout",
     "output_type": "stream",
     "text": [
      "weight=27, acc=0.716\n"
     ]
    },
    {
     "data": {
      "application/vnd.jupyter.widget-view+json": {
       "model_id": "41b8fffbed6845d7bfd3ec76d52a51e3",
       "version_major": 2,
       "version_minor": 0
      },
      "text/plain": [
       "  0%|          | 0/2000 [00:00<?, ?it/s]"
      ]
     },
     "metadata": {},
     "output_type": "display_data"
    },
    {
     "name": "stdout",
     "output_type": "stream",
     "text": [
      "weight=28, acc=0.716\n"
     ]
    },
    {
     "data": {
      "application/vnd.jupyter.widget-view+json": {
       "model_id": "43f0679683d2438ab34cda0581af0899",
       "version_major": 2,
       "version_minor": 0
      },
      "text/plain": [
       "  0%|          | 0/2000 [00:00<?, ?it/s]"
      ]
     },
     "metadata": {},
     "output_type": "display_data"
    },
    {
     "ename": "KeyboardInterrupt",
     "evalue": "",
     "output_type": "error",
     "traceback": [
      "\u001b[1;31m---------------------------------------------------------------------------\u001b[0m",
      "\u001b[1;31mKeyboardInterrupt\u001b[0m                         Traceback (most recent call last)",
      "Cell \u001b[1;32mIn[100], line 5\u001b[0m\n\u001b[0;32m      3\u001b[0m y_pred \u001b[38;5;241m=\u001b[39m logistic_with_pytorch\u001b[38;5;241m.\u001b[39mpredict(model, X_test_pca)\n\u001b[0;32m      4\u001b[0m y_pred \u001b[38;5;241m=\u001b[39m np\u001b[38;5;241m.\u001b[39marray(y_pred)\n\u001b[1;32m----> 5\u001b[0m acc \u001b[38;5;241m=\u001b[39m np\u001b[38;5;241m.\u001b[39mmean(y_pred \u001b[38;5;241m==\u001b[39m y_test_W)\n\u001b[0;32m      6\u001b[0m \u001b[38;5;28;01mif\u001b[39;00m acc \u001b[38;5;241m>\u001b[39m best_acc:\n\u001b[0;32m      7\u001b[0m     best_weight \u001b[38;5;241m=\u001b[39m i\n",
      "File \u001b[1;32m<__array_function__ internals>:200\u001b[0m, in \u001b[0;36mmean\u001b[1;34m(*args, **kwargs)\u001b[0m\n",
      "File \u001b[1;32mD:\\Anaconda3\\Lib\\site-packages\\numpy\\core\\fromnumeric.py:3464\u001b[0m, in \u001b[0;36mmean\u001b[1;34m(a, axis, dtype, out, keepdims, where)\u001b[0m\n\u001b[0;32m   3461\u001b[0m     \u001b[38;5;28;01melse\u001b[39;00m:\n\u001b[0;32m   3462\u001b[0m         \u001b[38;5;28;01mreturn\u001b[39;00m mean(axis\u001b[38;5;241m=\u001b[39maxis, dtype\u001b[38;5;241m=\u001b[39mdtype, out\u001b[38;5;241m=\u001b[39mout, \u001b[38;5;241m*\u001b[39m\u001b[38;5;241m*\u001b[39mkwargs)\n\u001b[1;32m-> 3464\u001b[0m \u001b[38;5;28;01mreturn\u001b[39;00m _methods\u001b[38;5;241m.\u001b[39m_mean(a, axis\u001b[38;5;241m=\u001b[39maxis, dtype\u001b[38;5;241m=\u001b[39mdtype,\n\u001b[0;32m   3465\u001b[0m                       out\u001b[38;5;241m=\u001b[39mout, \u001b[38;5;241m*\u001b[39m\u001b[38;5;241m*\u001b[39mkwargs)\n",
      "File \u001b[1;32mD:\\Anaconda3\\Lib\\site-packages\\numpy\\core\\_methods.py:181\u001b[0m, in \u001b[0;36m_mean\u001b[1;34m(a, axis, dtype, out, keepdims, where)\u001b[0m\n\u001b[0;32m    178\u001b[0m         dtype \u001b[38;5;241m=\u001b[39m mu\u001b[38;5;241m.\u001b[39mdtype(\u001b[38;5;124m'\u001b[39m\u001b[38;5;124mf4\u001b[39m\u001b[38;5;124m'\u001b[39m)\n\u001b[0;32m    179\u001b[0m         is_float16_result \u001b[38;5;241m=\u001b[39m \u001b[38;5;28;01mTrue\u001b[39;00m\n\u001b[1;32m--> 181\u001b[0m ret \u001b[38;5;241m=\u001b[39m umr_sum(arr, axis, dtype, out, keepdims, where\u001b[38;5;241m=\u001b[39mwhere)\n\u001b[0;32m    182\u001b[0m \u001b[38;5;28;01mif\u001b[39;00m \u001b[38;5;28misinstance\u001b[39m(ret, mu\u001b[38;5;241m.\u001b[39mndarray):\n\u001b[0;32m    183\u001b[0m     \u001b[38;5;28;01mwith\u001b[39;00m _no_nep50_warning():\n",
      "\u001b[1;31mKeyboardInterrupt\u001b[0m: "
     ]
    }
   ],
   "source": [
    "for i in range(20, 100):\n",
    "    model = logistic_with_pytorch.train_logistic_model_pytorch(X_W, y_W, i)\n",
    "    y_pred = logistic_with_pytorch.predict(model, X_test_pca)\n",
    "    y_pred = np.array(y_pred)\n",
    "    acc = np.mean(y_pred == y_test_W)\n",
    "    if acc > best_acc:\n",
    "        best_weight = i\n",
    "        best_acc = acc\n",
    "        best_model = model\n",
    "    print(f\"weight={i}, acc={acc:.3f}\")\n",
    "        \n",
    "print(\"best_weight:\", i)"
   ]
  },
  {
   "cell_type": "code",
   "execution_count": 74,
   "id": "069a145f",
   "metadata": {},
   "outputs": [
    {
     "data": {
      "text/plain": [
       "78462"
      ]
     },
     "execution_count": 74,
     "metadata": {},
     "output_type": "execute_result"
    }
   ],
   "source": [
    "np.sum(y_pred == 0)"
   ]
  },
  {
   "cell_type": "code",
   "execution_count": null,
   "id": "d2a6d9b9",
   "metadata": {},
   "outputs": [],
   "source": [
    "X_REM, y_REM = split.split_eye_movement(X_pca, y_train)\n",
    "REM_model = intergrating_model.generate_model(X_REM, y_REM)"
   ]
  },
  {
   "cell_type": "code",
   "execution_count": null,
   "id": "074f1da7",
   "metadata": {},
   "outputs": [],
   "source": [
    "X_N, y_N = split.split_deep_sleep(X_pca, y_train)\n",
    "N_model = intergrating_model.generate_model(X_N, y_N)"
   ]
  },
  {
   "cell_type": "code",
   "execution_count": null,
   "id": "e9dabf90",
   "metadata": {},
   "outputs": [],
   "source": [
    "X_12, y_12 = split.split_1_2(X_pca, y_train)\n",
    "model_12 = intergrating_model.generate_model(X_12, y_12)"
   ]
  },
  {
   "cell_type": "code",
   "execution_count": null,
   "id": "6563a08b",
   "metadata": {},
   "outputs": [],
   "source": [
    "X_34, y_34 = split.split_3_4(X_pca, y_train)\n",
    "model_34 = intergrating_model.generate_model(X_34, y_34)"
   ]
  },
  {
   "cell_type": "code",
   "execution_count": null,
   "id": "61c76ef0",
   "metadata": {},
   "outputs": [],
   "source": [
    "importlib.reload(intergrating_model)\n",
    "y_pred = intergrating_model.int_model(X_test, pca, W_model, REM_model, N_model, model_12, model_34)"
   ]
  },
  {
   "cell_type": "code",
   "execution_count": null,
   "id": "bdf583a0",
   "metadata": {},
   "outputs": [],
   "source": [
    "np.sum(y_pred == 0) + np.sum(y_pred == 5)"
   ]
  },
  {
   "cell_type": "code",
   "execution_count": null,
   "id": "4bb8c149",
   "metadata": {},
   "outputs": [],
   "source": [
    "y_pred.shape"
   ]
  },
  {
   "cell_type": "code",
   "execution_count": null,
   "id": "d4635d8c",
   "metadata": {},
   "outputs": [],
   "source": [
    "import scoring"
   ]
  },
  {
   "cell_type": "code",
   "execution_count": null,
   "id": "47e66b01",
   "metadata": {},
   "outputs": [],
   "source": [
    "importlib.reload(scoring)\n",
    "scoring.score(y_pred, y_test, 6)"
   ]
  },
  {
   "cell_type": "code",
   "execution_count": null,
   "id": "497cfe09",
   "metadata": {},
   "outputs": [],
   "source": []
  }
 ],
 "metadata": {
  "kernelspec": {
   "display_name": "Python 3 (ipykernel)",
   "language": "python",
   "name": "python3"
  },
  "language_info": {
   "codemirror_mode": {
    "name": "ipython",
    "version": 3
   },
   "file_extension": ".py",
   "mimetype": "text/x-python",
   "name": "python",
   "nbconvert_exporter": "python",
   "pygments_lexer": "ipython3",
   "version": "3.11.4"
  }
 },
 "nbformat": 4,
 "nbformat_minor": 5
}
