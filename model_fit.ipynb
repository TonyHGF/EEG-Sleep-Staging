{
 "cells": [
  {
   "cell_type": "code",
   "execution_count": 1,
   "id": "0dde049b",
   "metadata": {},
   "outputs": [],
   "source": [
    "from read_edf import plot_signals\n",
    "from read_result import read_result_file\n",
    "from read_result import plot_sleep_stages\n",
    "from split_signal import split_edf_by_annotations\n",
    "from split_signal import split_edf_by_30s\n",
    "from sklearn.decomposition import PCA\n",
    "import processing_data\n",
    "import os\n",
    "import matplotlib.pyplot as plt\n",
    "import numpy as np\n",
    "from sklearn import svm\n",
    "import svm_builder\n",
    "import importlib"
   ]
  },
  {
   "cell_type": "code",
   "execution_count": 2,
   "id": "e9335dac",
   "metadata": {},
   "outputs": [
    {
     "name": "stdout",
     "output_type": "stream",
     "text": [
      "(393345, 105)\n",
      "(393345,)\n"
     ]
    }
   ],
   "source": [
    "feature_number = 105\n",
    "\n",
    "X = np.empty((0,feature_number))\n",
    "y = np.empty((0,))\n",
    "for dirname, _, filenames in os.walk('./result'):\n",
    "    for filename in filenames:\n",
    "        file_path = os.path.join(dirname, filename)\n",
    "        file = np.load(file_path)\n",
    "        X = np.concatenate((X, file['features']))\n",
    "        y = np.concatenate((y, file['labels']))\n",
    "print(X.shape)\n",
    "print(y.shape)"
   ]
  },
  {
   "cell_type": "code",
   "execution_count": 3,
   "id": "cabf8144",
   "metadata": {},
   "outputs": [],
   "source": [
    "from sklearn import preprocessing\n",
    "scaler = preprocessing.StandardScaler().fit(X)\n",
    "X_scaled = scaler.fit_transform(X)"
   ]
  },
  {
   "cell_type": "code",
   "execution_count": 4,
   "id": "15260cc6",
   "metadata": {},
   "outputs": [
    {
     "name": "stdout",
     "output_type": "stream",
     "text": [
      "(393345, 82)\n",
      "(393345, 46)\n"
     ]
    }
   ],
   "source": [
    "pca1 = PCA(n_components= 0.999).fit(X_scaled)\n",
    "pca2 = PCA(n_components= 0.95).fit(X_scaled)\n",
    "X_pca1 = pca1.transform(X_scaled)\n",
    "X_pca2 = pca2.transform(X_scaled)\n",
    "print(X_pca1.shape)\n",
    "print(X_pca2.shape)"
   ]
  },
  {
   "cell_type": "code",
   "execution_count": 5,
   "id": "e8a12e25",
   "metadata": {},
   "outputs": [
    {
     "name": "stdout",
     "output_type": "stream",
     "text": [
      "(393345, 82) (393345,)\n"
     ]
    }
   ],
   "source": [
    "model_X = X_pca1\n",
    "model_y = y\n",
    "print(model_X.shape, model_y.shape)"
   ]
  },
  {
   "cell_type": "code",
   "execution_count": 9,
   "id": "c7d02094",
   "metadata": {},
   "outputs": [],
   "source": [
    "from sklearn.model_selection import train_test_split"
   ]
  },
  {
   "cell_type": "code",
   "execution_count": 11,
   "id": "5cf20b0c",
   "metadata": {},
   "outputs": [],
   "source": [
    "# devide X and y into train dataset and test dataset:\n",
    "X_train, X_test, y_train, y_test = train_test_split(model_X, model_y, test_size=0.3, random_state=42)"
   ]
  },
  {
   "cell_type": "code",
   "execution_count": 12,
   "id": "fda2bf20",
   "metadata": {},
   "outputs": [],
   "source": [
    "import logistic_builder"
   ]
  },
  {
   "cell_type": "code",
   "execution_count": 13,
   "id": "f142bd84",
   "metadata": {},
   "outputs": [
    {
     "name": "stdout",
     "output_type": "stream",
     "text": [
      "Training set score of logistic: 0.8915159439238759\n",
      "Testing set score of logistic: 0.8916746365144123\n"
     ]
    }
   ],
   "source": [
    "log_model = logistic_builder.train_logistic_model(X_train, y_train)"
   ]
  },
  {
   "cell_type": "code",
   "execution_count": 14,
   "id": "de87aaa3",
   "metadata": {},
   "outputs": [],
   "source": [
    "y_pred = log_model.predict(X_test)\n",
    "y_pred = y_pred.astype(int).tolist()\n",
    "y_test = \n"
   ]
  },
  {
   "cell_type": "code",
   "execution_count": 44,
   "id": "0efa1986",
   "metadata": {},
   "outputs": [
    {
     "data": {
      "text/plain": [
       "<module 'scoring' from 'E:\\\\2023 Fall\\\\IML\\\\project\\\\iml-project\\\\scoring.py'>"
      ]
     },
     "execution_count": 44,
     "metadata": {},
     "output_type": "execute_result"
    }
   ],
   "source": [
    "import scoring\n",
    "importlib.reload(scoring)"
   ]
  },
  {
   "cell_type": "code",
   "execution_count": 45,
   "id": "34cbe9d4",
   "metadata": {
    "scrolled": true
   },
   "outputs": [
    {
     "name": "stdout",
     "output_type": "stream",
     "text": [
      "Class 0: Accuracy: 0.9532303989695264, Precision: 0.9516790830945558, Recall: 0.9845500788503266\n",
      "Class 1: Accuracy: 0.958323446662825, Precision: 0.426344505066251, Recall: 0.11566927468809474\n",
      "Class 2: Accuracy: 0.9273499203416833, Precision: 0.7203150415204178, Recall: 0.8919277044575185\n",
      "Class 3: Accuracy: 0.9866529948137351, Precision: 0.4244604316546763, Recall: 0.03796653796653797\n",
      "Class 4: Accuracy: 0.9959069184095455, Precision: 0.8546895640686922, Recall: 0.634313725490196\n",
      "Class 5: Accuracy: 0.9615267279075286, Precision: 0.7563657407407407, Recall: 0.544734648513476\n",
      "Class 6: Accuracy: 0.9975763533439544, Precision: 0.7241379310344828, Recall: 0.07023411371237458\n",
      "mf1 score: 0.5593679856229071\n",
      "acc_score: 0.8902833802243991\n",
      "kappa_score: 0.9530292998966136\n"
     ]
    }
   ],
   "source": [
    "scoring.score(, y_test.astype(int).tolist())"
   ]
  },
  {
   "cell_type": "code",
   "execution_count": 46,
   "id": "85c97972",
   "metadata": {},
   "outputs": [
    {
     "ename": "NameError",
     "evalue": "name 'cnt' is not defined",
     "output_type": "error",
     "traceback": [
      "\u001b[1;31m---------------------------------------------------------------------------\u001b[0m",
      "\u001b[1;31mNameError\u001b[0m                                 Traceback (most recent call last)",
      "Cell \u001b[1;32mIn[46], line 2\u001b[0m\n\u001b[0;32m      1\u001b[0m acc \u001b[38;5;241m=\u001b[39m np\u001b[38;5;241m.\u001b[39mzeros(\u001b[38;5;241m7\u001b[39m)\n\u001b[1;32m----> 2\u001b[0m \u001b[38;5;28;01mfor\u001b[39;00m i \u001b[38;5;129;01min\u001b[39;00m \u001b[38;5;28mrange\u001b[39m(cnt):\n\u001b[0;32m      3\u001b[0m     \u001b[38;5;28;01mif\u001b[39;00m y_test[i] \u001b[38;5;241m==\u001b[39m y_pred[i]:\n\u001b[0;32m      4\u001b[0m         acc[\u001b[38;5;28mint\u001b[39m(y_test[i])] \u001b[38;5;241m+\u001b[39m\u001b[38;5;241m=\u001b[39m \u001b[38;5;241m1\u001b[39m\n",
      "\u001b[1;31mNameError\u001b[0m: name 'cnt' is not defined"
     ]
    }
   ],
   "source": [
    "cnt = len(y_test)\n",
    "acc = np.zeros(7)\n",
    "for i in range(cnt):\n",
    "    if y_test[i] == y_pred[i]:\n",
    "        acc[int(y_test[i])] += 1\n",
    "for i in range(7):\n",
    "    print(f\"Accuracy of class {i}: {acc[i]/y_test.count(i)}\")"
   ]
  },
  {
   "cell_type": "code",
   "execution_count": null,
   "id": "5bd470fe",
   "metadata": {},
   "outputs": [],
   "source": []
  }
 ],
 "metadata": {
  "kernelspec": {
   "display_name": "Python 3 (ipykernel)",
   "language": "python",
   "name": "python3"
  },
  "language_info": {
   "codemirror_mode": {
    "name": "ipython",
    "version": 3
   },
   "file_extension": ".py",
   "mimetype": "text/x-python",
   "name": "python",
   "nbconvert_exporter": "python",
   "pygments_lexer": "ipython3",
   "version": "3.11.4"
  }
 },
 "nbformat": 4,
 "nbformat_minor": 5
}
