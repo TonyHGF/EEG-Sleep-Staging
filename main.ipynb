{
 "cells": [
  {
   "cell_type": "code",
   "execution_count": 1,
   "id": "41f6b774",
   "metadata": {},
   "outputs": [],
   "source": [
    "from read_edf import plot_signals\n",
    "from read_result import read_result_file\n",
    "from read_result import plot_sleep_stages\n",
    "from split_signal import split_edf_by_annotations\n",
    "from split_signal import split_edf_by_30s\n",
    "from sklearn.decomposition import PCA\n",
    "import processing_data\n",
    "import os\n",
    "import matplotlib.pyplot as plt\n",
    "import numpy as np\n",
    "from sklearn import svm\n",
    "import svm_builder\n",
    "import importlib"
   ]
  },
  {
   "cell_type": "code",
   "execution_count": 2,
   "id": "dde2bf17",
   "metadata": {},
   "outputs": [],
   "source": [
    "feature_number = 105"
   ]
  },
  {
   "cell_type": "code",
   "execution_count": 3,
   "id": "d708b17e",
   "metadata": {},
   "outputs": [
    {
     "name": "stdout",
     "output_type": "stream",
     "text": [
      "(393345, 105)\n",
      "(393345,)\n"
     ]
    }
   ],
   "source": [
    "\n",
    "X = np.empty((0,feature_number))\n",
    "y = np.empty((0,))\n",
    "for dirname, _, filenames in os.walk('./result'):\n",
    "    for filename in filenames:\n",
    "        file_path = os.path.join(dirname, filename)\n",
    "        file = np.load(file_path)\n",
    "        X = np.concatenate((X, file['features']))\n",
    "        y = np.concatenate((y, file['labels']))\n",
    "print(X.shape)\n",
    "print(y.shape)\n"
   ]
  },
  {
   "cell_type": "code",
   "execution_count": null,
   "id": "51f11965",
   "metadata": {},
   "outputs": [],
   "source": []
  },
  {
   "cell_type": "code",
   "execution_count": 6,
   "id": "cb20e992",
   "metadata": {},
   "outputs": [
    {
     "name": "stdout",
     "output_type": "stream",
     "text": [
      "(393345, 10)\n",
      "(393345, 2)\n"
     ]
    }
   ],
   "source": [
    "pca1 = PCA(n_components= 0.999).fit(X)\n",
    "pca2 = PCA(n_components= 0.8).fit(X)\n",
    "X_pca1 = pca1.transform(X)\n",
    "X_pca2 = pca2.transform(X)\n",
    "print(X_pca1.shape)\n",
    "print(X_pca2.shape)"
   ]
  },
  {
   "cell_type": "code",
   "execution_count": 11,
   "id": "acb03cc9",
   "metadata": {},
   "outputs": [
    {
     "name": "stdout",
     "output_type": "stream",
     "text": [
      "(393345, 10) (393345,)\n"
     ]
    }
   ],
   "source": [
    "# model = svm_builder.train_svm_model(X_pca1, Y)\n",
    "\n",
    "model_X = X_pca1\n",
    "model_y = y\n",
    "print(model_X.shape, model_y.shape)"
   ]
  },
  {
   "cell_type": "code",
   "execution_count": 12,
   "id": "d79915b4",
   "metadata": {},
   "outputs": [
    {
     "name": "stdout",
     "output_type": "stream",
     "text": [
      "Training set score of Bayes: 0.4777748319356725\n",
      "Testing set score of Bayes: 0.47822955154062574\n",
      "Training set score of Bayes: 0.40900192851772893\n",
      "Testing set score of Bayes: 0.4121131487068235\n"
     ]
    }
   ],
   "source": [
    "from bayes_builder import train_bayes_model\n",
    "model_bayes = train_bayes_model(model_X, model_y)\n",
    "model_bayes = train_bayes_model(X, y)"
   ]
  },
  {
   "cell_type": "code",
   "execution_count": 13,
   "id": "555550d6",
   "metadata": {},
   "outputs": [
    {
     "name": "stdout",
     "output_type": "stream",
     "text": [
      "training set score: 0.4902248484606361\n",
      "testing set score: 0.4928392257889563\n",
      "training set score: 0.7154473906900898\n",
      "testing set score: 0.7135012372461951\n"
     ]
    }
   ],
   "source": [
    "model_svm = svm_builder.train_svm_model(model_X, model_y)\n",
    "model_svm = svm_builder.train_svm_model(X, y)"
   ]
  }
 ],
 "metadata": {
  "kernelspec": {
   "display_name": "Python 3 (ipykernel)",
   "language": "python",
   "name": "python3"
  },
  "language_info": {
   "codemirror_mode": {
    "name": "ipython",
    "version": 3
   },
   "file_extension": ".py",
   "mimetype": "text/x-python",
   "name": "python",
   "nbconvert_exporter": "python",
   "pygments_lexer": "ipython3",
   "version": "3.11.2"
  }
 },
 "nbformat": 4,
 "nbformat_minor": 5
}
