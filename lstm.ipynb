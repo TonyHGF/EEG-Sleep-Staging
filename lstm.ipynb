{
 "cells": [
  {
   "cell_type": "code",
   "execution_count": 1,
   "metadata": {},
   "outputs": [],
   "source": [
    "import numpy as np\n",
    "import torch\n",
    "from torch import nn\n",
    "import os\n",
    "from tqdm.notebook import tqdm"
   ]
  },
  {
   "cell_type": "code",
   "execution_count": 2,
   "metadata": {},
   "outputs": [],
   "source": [
    "# Define the LSTM model\n",
    "class LSTMModel(nn.Module):\n",
    "    def __init__(self, input_size, hidden_size, num_layers, output_size):\n",
    "        super(LSTMModel, self).__init__()\n",
    "        self.hidden_size = hidden_size\n",
    "        self.num_layers = num_layers\n",
    "        self.lstm = nn.LSTM(input_size, hidden_size, num_layers, bidirectional=True)\n",
    "        self.fc = nn.Linear(hidden_size * 2, output_size)\n",
    "\n",
    "    def forward(self, x):\n",
    "        h0 = torch.zeros(self.num_layers * 2, self.hidden_size).to(x.device) \n",
    "        c0 = torch.zeros(self.num_layers * 2, self.hidden_size).to(x.device)\n",
    "        out, _ = self.lstm(x, (h0, c0))\n",
    "        out = self.fc(out)\n",
    "        return out\n"
   ]
  },
  {
   "cell_type": "code",
   "execution_count": 3,
   "metadata": {},
   "outputs": [],
   "source": [
<<<<<<< HEAD
    "# Prepare data\n",
    "inputs = []\n",
    "outputs = []\n",
=======
    "class LSTMNet(nn.Module):\n",
    "    def __init__(self, in_features, hidden_size, out_features):\n",
    "        super(LSTMNet, self).__init__()\n",
    "        self.in_features = in_features\n",
    "        self.hidden_size = hidden_size\n",
    "        self.out_features = out_features\n",
    "        self.linear = nn.Linear(in_features=in_features, out_features=hidden_size * 2, dtype=torch.double)\n",
    "        self.lstm = nn.LSTM(in_features, hidden_size, num_layers=2, bidirectional=True, dropout=0.5, dtype=torch.double)\n",
    "        # self.softmax = nn.Sequential(\n",
    "        #                 nn.Linear(in_features=hidden_size * 2, out_features=out_features),\n",
    "        #                 nn.Softmax(dim=1)\n",
    "        #             )\n",
    "        self.linear2 = nn.Sequential(\n",
    "                        nn.Dropout(0.5),\n",
    "                        nn.Linear(in_features=hidden_size * 2, out_features=out_features, dtype=torch.double)\n",
    "                       )\n",
    "\n",
    "    def forward(self, input):\n",
    "        # linear_output = self.linear(input)\n",
    "        # lstm_output = self.lstm(input.reshape(-1, LENGTH_OF_SIGNAL, self.in_features))\n",
    "        linear_output = self.linear(input)\n",
    "        lstm_output,_ = self.lstm(input.reshape(-1,1,self.in_features))\n",
    "        lstm_output = lstm_output.reshape(-1, self.hidden_size * 2)\n",
    "        # output = self.softmax(linear_output + lstm_output)\n",
    "        output = self.linear2(linear_output + lstm_output)\n",
    "        return output\n",
    "\n",
    "    \n",
    "def predict(model, x, out_features):\n",
    "    tag = model(x)\n",
    "    y=torch.zeros((tag.shape[0],), dtype=int)\n",
    "    for i in range(tag.shape[0]):\n",
    "        mx=tag[i][0]\n",
    "        for j in range(1,tag.shape[1]):\n",
    "            if(tag[i][j]>mx):\n",
    "                mx=tag[i][j]\n",
    "                y[i]=j\n",
    "    return y\n"
   ]
  },
  {
   "cell_type": "code",
   "execution_count": null,
   "metadata": {},
   "outputs": [
    {
     "name": "stdout",
     "output_type": "stream",
     "text": [
      "epoch:  0\n"
     ]
    },
    {
     "data": {
      "application/vnd.jupyter.widget-view+json": {
       "model_id": "3faa4bde709548649bb67eefe44002a8",
       "version_major": 2,
       "version_minor": 0
      },
      "text/plain": [
       "  0%|          | 0/32 [00:00<?, ?it/s]"
      ]
     },
     "metadata": {},
     "output_type": "display_data"
    },
    {
     "data": {
      "application/vnd.jupyter.widget-view+json": {
       "model_id": "f31dbfdb91864928b38b5b43a1206b2e",
       "version_major": 2,
       "version_minor": 0
      },
      "text/plain": [
       "  0%|          | 0/115 [00:00<?, ?it/s]"
      ]
     },
     "metadata": {},
     "output_type": "display_data"
    },
    {
     "name": "stdout",
     "output_type": "stream",
     "text": [
      "Class 0: Precision: 0.718, Recall: 1.000\n",
      "Class 1: Precision: 0.000, Recall: 0.000\n",
      "Class 2: Precision: 0.000, Recall: 0.000\n",
      "Class 3: Precision: 0.000, Recall: 0.000\n",
      "Class 4: Precision: 0.000, Recall: 0.000\n",
      "Class 5: Precision: 0.000, Recall: 0.000\n",
      "Class 6: Precision: 0.000, Recall: 0.000\n",
      "mf1 score: nan\n",
      "acc_score: 0.718\n",
      "kappa_score: 1.117\n",
      "epoch:  1\n"
     ]
    },
    {
     "name": "stderr",
     "output_type": "stream",
     "text": [
      "E:\\2023 Fall\\IML\\project\\iml-project\\scoring.py:27: RuntimeWarning: invalid value encountered in scalar divide\n",
      "  pre += TP / (TP + FP)\n"
     ]
    },
    {
     "data": {
      "application/vnd.jupyter.widget-view+json": {
       "model_id": "52dcc507a5a44895828a2a59c0ebb75a",
       "version_major": 2,
       "version_minor": 0
      },
      "text/plain": [
       "  0%|          | 0/32 [00:00<?, ?it/s]"
      ]
     },
     "metadata": {},
     "output_type": "display_data"
    },
    {
     "data": {
      "application/vnd.jupyter.widget-view+json": {
       "model_id": "7735727a2e3d49afa106fe908f2a18e9",
       "version_major": 2,
       "version_minor": 0
      },
      "text/plain": [
       "  0%|          | 0/115 [00:00<?, ?it/s]"
      ]
     },
     "metadata": {},
     "output_type": "display_data"
    },
    {
     "name": "stdout",
     "output_type": "stream",
     "text": [
      "Class 0: Precision: 0.718, Recall: 1.000\n",
      "Class 1: Precision: 0.000, Recall: 0.000\n",
      "Class 2: Precision: 0.000, Recall: 0.000\n",
      "Class 3: Precision: 0.000, Recall: 0.000\n",
      "Class 4: Precision: 0.000, Recall: 0.000\n",
      "Class 5: Precision: 0.000, Recall: 0.000\n",
      "Class 6: Precision: 0.000, Recall: 0.000\n",
      "mf1 score: nan\n",
      "acc_score: 0.718\n",
      "kappa_score: 1.117\n",
      "epoch:  2\n"
     ]
    },
    {
     "data": {
      "application/vnd.jupyter.widget-view+json": {
       "model_id": "a5e56289d23f4a3098be203724bf40d5",
       "version_major": 2,
       "version_minor": 0
      },
      "text/plain": [
       "  0%|          | 0/32 [00:00<?, ?it/s]"
      ]
     },
     "metadata": {},
     "output_type": "display_data"
    },
    {
     "data": {
      "application/vnd.jupyter.widget-view+json": {
       "model_id": "d2cc21c0a6fd4999bd3c2216e2a81e46",
       "version_major": 2,
       "version_minor": 0
      },
      "text/plain": [
       "  0%|          | 0/115 [00:00<?, ?it/s]"
      ]
     },
     "metadata": {},
     "output_type": "display_data"
    },
    {
     "name": "stdout",
     "output_type": "stream",
     "text": [
      "Class 0: Precision: 0.718, Recall: 1.000\n",
      "Class 1: Precision: 0.000, Recall: 0.000\n",
      "Class 2: Precision: 0.000, Recall: 0.000\n",
      "Class 3: Precision: 0.000, Recall: 0.000\n",
      "Class 4: Precision: 0.000, Recall: 0.000\n",
      "Class 5: Precision: 0.000, Recall: 0.000\n",
      "Class 6: Precision: 0.000, Recall: 0.000\n",
      "mf1 score: nan\n",
      "acc_score: 0.718\n",
      "kappa_score: 1.117\n",
      "epoch:  3\n"
     ]
    },
    {
     "data": {
      "application/vnd.jupyter.widget-view+json": {
       "model_id": "113bf6c5d8dc4405921946f2d9de2322",
       "version_major": 2,
       "version_minor": 0
      },
      "text/plain": [
       "  0%|          | 0/32 [00:00<?, ?it/s]"
      ]
     },
     "metadata": {},
     "output_type": "display_data"
    },
    {
     "data": {
      "application/vnd.jupyter.widget-view+json": {
       "model_id": "deb0ef355ee74e59969cfe8d4d6c530b",
       "version_major": 2,
       "version_minor": 0
      },
      "text/plain": [
       "  0%|          | 0/115 [00:00<?, ?it/s]"
      ]
     },
     "metadata": {},
     "output_type": "display_data"
    }
   ],
   "source": [
    "import scoring\n",
    "import importlib\n",
    "from tqdm.notebook import tqdm\n",
    "importlib.reload(scoring)\n",
    "feature_number = 105\n",
    "X = []\n",
    "y = []\n",
    "\n",
    "model = LSTMNet(in_features=feature_number, hidden_size=20, out_features=7)\n",
    "\n",
    "\n",
>>>>>>> 84261c57bf74bf48221ba60e869966dab25b0020
    "for dirname, _, filenames in os.walk('./result'):\n",
    "    for filename in filenames:\n",
    "        file_path = os.path.join(dirname, filename)\n",
    "        file = np.load(file_path)\n",
    "        inputs.append(file['features'])\n",
    "        outputs.append(file['labels'])\n",
    "N = len(inputs)\n",
    "# print(torch.cuda.is_available())"
   ]
  },
  {
   "cell_type": "code",
   "execution_count": 4,
   "metadata": {},
   "outputs": [
    {
     "data": {
      "application/vnd.jupyter.widget-view+json": {
       "model_id": "06e01dbef9d648d393581ccf6cf4fc6e",
       "version_major": 2,
       "version_minor": 0
      },
      "text/plain": [
       "  0%|          | 0/500 [00:00<?, ?it/s]"
      ]
     },
     "metadata": {},
     "output_type": "display_data"
    },
    {
     "ename": "RuntimeError",
     "evalue": "cuDNN error: CUDNN_STATUS_INTERNAL_ERROR",
     "output_type": "error",
     "traceback": [
      "\u001b[1;31m---------------------------------------------------------------------------\u001b[0m",
      "\u001b[1;31mRuntimeError\u001b[0m                              Traceback (most recent call last)",
      "Cell \u001b[1;32mIn[4], line 28\u001b[0m\n\u001b[0;32m     26\u001b[0m     loss \u001b[38;5;241m=\u001b[39m criterion(output_pred, output)\n\u001b[0;32m     27\u001b[0m     total_loss \u001b[38;5;241m+\u001b[39m\u001b[38;5;241m=\u001b[39m loss\n\u001b[1;32m---> 28\u001b[0m     \u001b[43mloss\u001b[49m\u001b[38;5;241;43m.\u001b[39;49m\u001b[43mbackward\u001b[49m\u001b[43m(\u001b[49m\u001b[43m)\u001b[49m\n\u001b[0;32m     29\u001b[0m     optimizer\u001b[38;5;241m.\u001b[39mstep()\n\u001b[0;32m     31\u001b[0m \u001b[38;5;28;01mif\u001b[39;00m (epoch\u001b[38;5;241m+\u001b[39m\u001b[38;5;241m1\u001b[39m) \u001b[38;5;241m%\u001b[39m \u001b[38;5;241m10\u001b[39m \u001b[38;5;241m==\u001b[39m \u001b[38;5;241m0\u001b[39m:\n",
      "File \u001b[1;32md:\\python\\Lib\\site-packages\\torch\\_tensor.py:492\u001b[0m, in \u001b[0;36mTensor.backward\u001b[1;34m(self, gradient, retain_graph, create_graph, inputs)\u001b[0m\n\u001b[0;32m    482\u001b[0m \u001b[38;5;28;01mif\u001b[39;00m has_torch_function_unary(\u001b[38;5;28mself\u001b[39m):\n\u001b[0;32m    483\u001b[0m     \u001b[38;5;28;01mreturn\u001b[39;00m handle_torch_function(\n\u001b[0;32m    484\u001b[0m         Tensor\u001b[38;5;241m.\u001b[39mbackward,\n\u001b[0;32m    485\u001b[0m         (\u001b[38;5;28mself\u001b[39m,),\n\u001b[1;32m   (...)\u001b[0m\n\u001b[0;32m    490\u001b[0m         inputs\u001b[38;5;241m=\u001b[39minputs,\n\u001b[0;32m    491\u001b[0m     )\n\u001b[1;32m--> 492\u001b[0m \u001b[43mtorch\u001b[49m\u001b[38;5;241;43m.\u001b[39;49m\u001b[43mautograd\u001b[49m\u001b[38;5;241;43m.\u001b[39;49m\u001b[43mbackward\u001b[49m\u001b[43m(\u001b[49m\n\u001b[0;32m    493\u001b[0m \u001b[43m    \u001b[49m\u001b[38;5;28;43mself\u001b[39;49m\u001b[43m,\u001b[49m\u001b[43m \u001b[49m\u001b[43mgradient\u001b[49m\u001b[43m,\u001b[49m\u001b[43m \u001b[49m\u001b[43mretain_graph\u001b[49m\u001b[43m,\u001b[49m\u001b[43m \u001b[49m\u001b[43mcreate_graph\u001b[49m\u001b[43m,\u001b[49m\u001b[43m \u001b[49m\u001b[43minputs\u001b[49m\u001b[38;5;241;43m=\u001b[39;49m\u001b[43minputs\u001b[49m\n\u001b[0;32m    494\u001b[0m \u001b[43m\u001b[49m\u001b[43m)\u001b[49m\n",
      "File \u001b[1;32md:\\python\\Lib\\site-packages\\torch\\autograd\\__init__.py:251\u001b[0m, in \u001b[0;36mbackward\u001b[1;34m(tensors, grad_tensors, retain_graph, create_graph, grad_variables, inputs)\u001b[0m\n\u001b[0;32m    246\u001b[0m     retain_graph \u001b[38;5;241m=\u001b[39m create_graph\n\u001b[0;32m    248\u001b[0m \u001b[38;5;66;03m# The reason we repeat the same comment below is that\u001b[39;00m\n\u001b[0;32m    249\u001b[0m \u001b[38;5;66;03m# some Python versions print out the first line of a multi-line function\u001b[39;00m\n\u001b[0;32m    250\u001b[0m \u001b[38;5;66;03m# calls in the traceback and some print out the last line\u001b[39;00m\n\u001b[1;32m--> 251\u001b[0m \u001b[43mVariable\u001b[49m\u001b[38;5;241;43m.\u001b[39;49m\u001b[43m_execution_engine\u001b[49m\u001b[38;5;241;43m.\u001b[39;49m\u001b[43mrun_backward\u001b[49m\u001b[43m(\u001b[49m\u001b[43m  \u001b[49m\u001b[38;5;66;43;03m# Calls into the C++ engine to run the backward pass\u001b[39;49;00m\n\u001b[0;32m    252\u001b[0m \u001b[43m    \u001b[49m\u001b[43mtensors\u001b[49m\u001b[43m,\u001b[49m\n\u001b[0;32m    253\u001b[0m \u001b[43m    \u001b[49m\u001b[43mgrad_tensors_\u001b[49m\u001b[43m,\u001b[49m\n\u001b[0;32m    254\u001b[0m \u001b[43m    \u001b[49m\u001b[43mretain_graph\u001b[49m\u001b[43m,\u001b[49m\n\u001b[0;32m    255\u001b[0m \u001b[43m    \u001b[49m\u001b[43mcreate_graph\u001b[49m\u001b[43m,\u001b[49m\n\u001b[0;32m    256\u001b[0m \u001b[43m    \u001b[49m\u001b[43minputs\u001b[49m\u001b[43m,\u001b[49m\n\u001b[0;32m    257\u001b[0m \u001b[43m    \u001b[49m\u001b[43mallow_unreachable\u001b[49m\u001b[38;5;241;43m=\u001b[39;49m\u001b[38;5;28;43;01mTrue\u001b[39;49;00m\u001b[43m,\u001b[49m\n\u001b[0;32m    258\u001b[0m \u001b[43m    \u001b[49m\u001b[43maccumulate_grad\u001b[49m\u001b[38;5;241;43m=\u001b[39;49m\u001b[38;5;28;43;01mTrue\u001b[39;49;00m\u001b[43m,\u001b[49m\n\u001b[0;32m    259\u001b[0m \u001b[43m\u001b[49m\u001b[43m)\u001b[49m\n",
      "\u001b[1;31mRuntimeError\u001b[0m: cuDNN error: CUDNN_STATUS_INTERNAL_ERROR"
     ]
    }
   ],
   "source": [
    "# Parameters\n",
    "hidden_size = 256\n",
    "input_size = 105\n",
    "output_size = 6\n",
    "num_layers = 2  # You can change this\n",
    "num_epochs = 500  # You can change this\n",
    "learning_rate = 0.01  # You can change this\n",
    "\n",
    "# Instantiate the model\n",
    "model = LSTMModel(input_size, hidden_size, num_layers, output_size)\n",
    "\n",
    "# Define loss and optimizer\n",
    "criterion = nn.CrossEntropyLoss()\n",
    "optimizer = torch.optim.Adam(model.parameters(), lr=learning_rate)\n",
    "model = model.to(device='cuda')\n",
    "criterion = criterion.to(device='cuda')\n",
    "\n",
<<<<<<< HEAD
    "# Training loop\n",
    "for epoch in tqdm(range(num_epochs)):\n",
    "    total_loss=0\n",
    "    for i in range(N):\n",
    "        input = torch.tensor(inputs[i], dtype=torch.float32).to(device='cuda')\n",
    "        output = torch.tensor(outputs[i], dtype=torch.long).to(device='cuda')\n",
    "        output_pred = model(input)\n",
    "        optimizer.zero_grad()\n",
    "        loss = criterion(output_pred, output)\n",
    "        total_loss += loss\n",
    "        loss.backward()\n",
    "        optimizer.step()\n",
    "\n",
    "    if (epoch+1) % 10 == 0:\n",
    "        print(f'Epoch {epoch+1}/{num_epochs}, Loss: {total_loss.item()}')\n"
=======
    "X_test = X[0:num_file//4]\n",
    "y_test = y[0:num_file//4]\n",
    "\n",
    "optimizer = torch.optim.SGD(model.parameters(), lr=0.1)\n",
    "loss_function = nn.CrossEntropyLoss()\n",
    "max_epochs = 50\n",
    "batch_size = 32\n",
    "\n",
    "for epoch in range(max_epochs):\n",
    "    print(\"epoch: \", epoch)\n",
    "    sum_loss = 0\n",
    "    array = np.arange(len(X_train))\n",
    "    slice=np.random.choice(array.shape[0],batch_size)\n",
    "    for i in tqdm(slice, colour=\"pink\"):\n",
    "    # for i in range(len(X_train)):\n",
    "        sentence = torch.DoubleTensor(X_train[i])\n",
    "        target = torch.LongTensor(y_train[i])\n",
    "        # f=[0,0,0,0,0,0,0,0]\n",
    "        # for t in target:\n",
    "        #     f[t]=1\n",
    "        # print(f)\n",
    "        tag_score = model(sentence)\n",
    "        loss = loss_function(tag_score, target)\n",
    "        loss.backward()\n",
    "        optimizer.step()\n",
    "\n",
    "    y_pred = np.zeros((0,))\n",
    "    y_true = np.zeros((0,))\n",
    "    for i in tqdm(range(len(X_train))):\n",
    "        y_pred=np.concatenate((y_pred, predict(model, torch.DoubleTensor(X_train[i]), out_features=7)))\n",
    "        y_true = np.concatenate((y_true, y_train[i]))\n",
    "    scoring.score(y_pred, y_true)"
>>>>>>> 84261c57bf74bf48221ba60e869966dab25b0020
   ]
  },
  {
   "cell_type": "code",
   "execution_count": null,
   "metadata": {},
   "outputs": [],
   "source": []
  }
 ],
 "metadata": {
  "kernelspec": {
   "display_name": "Python 3 (ipykernel)",
   "language": "python",
   "name": "python3"
  },
  "language_info": {
   "codemirror_mode": {
    "name": "ipython",
    "version": 3
   },
   "file_extension": ".py",
   "mimetype": "text/x-python",
   "name": "python",
   "nbconvert_exporter": "python",
   "pygments_lexer": "ipython3",
   "version": "3.11.2"
  }
 },
 "nbformat": 4,
 "nbformat_minor": 2
}
