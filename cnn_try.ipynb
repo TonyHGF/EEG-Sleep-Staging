{
 "cells": [
  {
   "cell_type": "code",
   "execution_count": 1,
   "metadata": {},
   "outputs": [],
   "source": [
    "from read_edf import plot_signals\n",
    "from read_result import read_result_file\n",
    "from read_result import plot_sleep_stages\n",
    "from split_signal import split_edf_by_annotations\n",
    "from split_signal import split_edf_by_30s\n",
    "from sklearn.decomposition import PCA\n",
    "import processing_data\n",
    "import os\n",
    "import matplotlib.pyplot as plt\n",
    "import numpy as np\n",
    "from sklearn import svm"
   ]
  },
  {
   "cell_type": "code",
   "execution_count": 2,
   "metadata": {},
   "outputs": [],
   "source": [
    "feature_number = 105"
   ]
  },
  {
   "cell_type": "code",
   "execution_count": 3,
   "metadata": {},
   "outputs": [
    {
     "name": "stdout",
     "output_type": "stream",
     "text": [
      "(393345, 105)\n",
      "(393345,)\n"
     ]
    }
   ],
   "source": [
    "X = np.empty((0,feature_number))\n",
    "y = np.empty((0,))\n",
    "for dirname, _, filenames in os.walk('./result'):\n",
    "    for filename in filenames:\n",
    "        file_path = os.path.join(dirname, filename)\n",
    "        file = np.load(file_path)\n",
    "        X = np.concatenate((X, file['features']))\n",
    "        y = np.concatenate((y, file['labels']))\n",
    "print(X.shape)\n",
    "print(y.shape)"
   ]
  },
  {
   "cell_type": "code",
   "execution_count": 4,
   "metadata": {},
   "outputs": [],
   "source": [
    "from sklearn import preprocessing\n",
    "scaler = preprocessing.StandardScaler().fit(X)\n",
    "X_scaled = scaler.fit_transform(X)"
   ]
  },
  {
   "cell_type": "code",
   "execution_count": 5,
   "metadata": {},
   "outputs": [
    {
     "name": "stdout",
     "output_type": "stream",
     "text": [
      "(393345, 82)\n"
     ]
    }
   ],
   "source": [
    "pca = PCA(n_components= 0.999).fit(X_scaled)\n",
    "X_pca = pca.transform(X_scaled)\n",
    "print(X_pca.shape)"
   ]
  },
  {
   "cell_type": "code",
   "execution_count": 6,
   "metadata": {},
   "outputs": [
    {
     "name": "stdout",
     "output_type": "stream",
     "text": [
      "(393345, 82) (393345,)\n"
     ]
    }
   ],
   "source": [
    "model_X = X_pca\n",
    "model_y = y\n",
    "print(model_X.shape, model_y.shape)"
   ]
  },
  {
   "cell_type": "code",
   "execution_count": 7,
   "metadata": {},
   "outputs": [
    {
     "name": "stdout",
     "output_type": "stream",
     "text": [
      "[0. 1. 2. 3. 4. 5. 6.]\n"
     ]
    }
   ],
   "source": [
    "# find how many kinds of values in y\n",
    "y_values = np.unique(model_y)\n",
    "print(y_values)"
   ]
  },
  {
   "cell_type": "code",
   "execution_count": 8,
   "metadata": {},
   "outputs": [
    {
     "name": "stdout",
     "output_type": "stream",
     "text": [
      "Start with learning rate: 0.01 and channel: 128\n",
      "  epoch    train_loss    valid_acc    valid_loss      dur\n",
      "-------  ------------  -----------  ------------  -------\n",
      "      1        \u001b[36m0.9156\u001b[0m       \u001b[32m0.8214\u001b[0m        \u001b[35m0.6174\u001b[0m  22.6607\n",
      "      2        \u001b[36m0.4751\u001b[0m       \u001b[32m0.8675\u001b[0m        \u001b[35m0.4230\u001b[0m  22.6434\n",
      "      3        \u001b[36m0.3868\u001b[0m       \u001b[32m0.8824\u001b[0m        \u001b[35m0.3580\u001b[0m  22.7274\n",
      "      4        \u001b[36m0.3419\u001b[0m       \u001b[32m0.8904\u001b[0m        \u001b[35m0.3221\u001b[0m  22.9872\n",
      "      5        \u001b[36m0.3161\u001b[0m       \u001b[32m0.8962\u001b[0m        \u001b[35m0.3019\u001b[0m  23.0845\n",
      "      6        \u001b[36m0.2999\u001b[0m       \u001b[32m0.8995\u001b[0m        \u001b[35m0.2886\u001b[0m  23.1787\n",
      "      7        \u001b[36m0.2885\u001b[0m       \u001b[32m0.9028\u001b[0m        \u001b[35m0.2791\u001b[0m  23.2516\n",
      "      8        \u001b[36m0.2800\u001b[0m       \u001b[32m0.9054\u001b[0m        \u001b[35m0.2720\u001b[0m  24.1647\n",
      "      9        \u001b[36m0.2732\u001b[0m       \u001b[32m0.9074\u001b[0m        \u001b[35m0.2665\u001b[0m  24.3561\n",
      "     10        \u001b[36m0.2675\u001b[0m       \u001b[32m0.9090\u001b[0m        \u001b[35m0.2621\u001b[0m  24.6309\n",
      "     11        \u001b[36m0.2626\u001b[0m       \u001b[32m0.9099\u001b[0m        \u001b[35m0.2583\u001b[0m  23.3717\n",
      "     12        \u001b[36m0.2583\u001b[0m       \u001b[32m0.9109\u001b[0m        \u001b[35m0.2551\u001b[0m  23.3524\n",
      "     13        \u001b[36m0.2544\u001b[0m       \u001b[32m0.9119\u001b[0m        \u001b[35m0.2522\u001b[0m  24.1997\n",
      "     14        \u001b[36m0.2508\u001b[0m       0.9118        \u001b[35m0.2498\u001b[0m  23.4349\n",
      "     15        \u001b[36m0.2474\u001b[0m       \u001b[32m0.9124\u001b[0m        \u001b[35m0.2476\u001b[0m  24.6269\n",
      "     16        \u001b[36m0.2443\u001b[0m       \u001b[32m0.9128\u001b[0m        \u001b[35m0.2457\u001b[0m  23.6701\n",
      "     17        \u001b[36m0.2413\u001b[0m       \u001b[32m0.9136\u001b[0m        \u001b[35m0.2439\u001b[0m  24.3124\n",
      "     18        \u001b[36m0.2385\u001b[0m       \u001b[32m0.9141\u001b[0m        \u001b[35m0.2424\u001b[0m  23.3023\n",
      "     19        \u001b[36m0.2358\u001b[0m       \u001b[32m0.9147\u001b[0m        \u001b[35m0.2409\u001b[0m  23.4792\n",
      "     20        \u001b[36m0.2332\u001b[0m       \u001b[32m0.9148\u001b[0m        \u001b[35m0.2396\u001b[0m  24.2154\n",
      "     21        \u001b[36m0.2308\u001b[0m       \u001b[32m0.9150\u001b[0m        \u001b[35m0.2385\u001b[0m  23.2869\n",
      "     22        \u001b[36m0.2284\u001b[0m       \u001b[32m0.9157\u001b[0m        \u001b[35m0.2376\u001b[0m  24.1425\n",
      "     23        \u001b[36m0.2261\u001b[0m       \u001b[32m0.9160\u001b[0m        \u001b[35m0.2365\u001b[0m  24.0790\n",
      "     24        \u001b[36m0.2239\u001b[0m       \u001b[32m0.9167\u001b[0m        \u001b[35m0.2357\u001b[0m  23.2830\n",
      "     25        \u001b[36m0.2216\u001b[0m       \u001b[32m0.9168\u001b[0m        \u001b[35m0.2354\u001b[0m  23.2891\n",
      "     26        \u001b[36m0.2197\u001b[0m       \u001b[32m0.9169\u001b[0m        \u001b[35m0.2353\u001b[0m  23.3046\n",
      "     27        \u001b[36m0.2176\u001b[0m       0.9162        0.2361  24.2130\n",
      "     28        \u001b[36m0.2159\u001b[0m       \u001b[32m0.9172\u001b[0m        \u001b[35m0.2334\u001b[0m  24.0495\n",
      "     29        \u001b[36m0.2137\u001b[0m       \u001b[32m0.9174\u001b[0m        \u001b[35m0.2326\u001b[0m  23.3063\n",
      "     30        \u001b[36m0.2118\u001b[0m       0.9171        0.2328  24.2048\n",
      "     31        \u001b[36m0.2099\u001b[0m       0.9168        0.2334  23.3378\n",
      "     32        \u001b[36m0.2081\u001b[0m       0.9174        0.2326  24.2762\n",
      "     33        \u001b[36m0.2063\u001b[0m       \u001b[32m0.9177\u001b[0m        \u001b[35m0.2323\u001b[0m  24.2683\n",
      "     34        \u001b[36m0.2046\u001b[0m       0.9172        0.2334  23.4145\n",
      "     35        \u001b[36m0.2027\u001b[0m       \u001b[32m0.9178\u001b[0m        0.2326  23.4142\n",
      "     36        \u001b[36m0.2009\u001b[0m       0.9176        0.2330  24.4829\n",
      "     37        \u001b[36m0.1992\u001b[0m       0.9178        0.2331  23.6822\n",
      "Stopping since valid_loss has not improved in the last 5 epochs.\n",
      "training set score: 0.9258664710304677\n",
      "Find each accuracy of each class:\n",
      "Accuracy of class 0: 0.9796097711591673\n",
      "Accuracy of class 1: 0.29171060957603884\n",
      "Accuracy of class 2: 0.9141302050306489\n",
      "Accuracy of class 3: 0.45009535918626825\n",
      "Accuracy of class 4: 0.8621031746031746\n",
      "Accuracy of class 5: 0.7256685966363385\n",
      "Accuracy of class 6: 0.32323232323232326\n",
      "testing set score: 0.916146910274228\n"
     ]
    }
   ],
   "source": [
    "from cnn_builder2 import *\n",
    "\n",
    "\n",
    "# learning_rate = 2e-2\n",
    "# channel = 32\n",
    "\n",
    "\n",
    "# model_X_normalized = torch.Tensor(model_X)\n",
    "# model_X_normalized = torch.unsqueeze(model_X_normalized, 1)\n",
    "\n",
    "\n",
    "# cnn = CNN_Sleeping(channels = channel)\n",
    "\n",
    "# model = skorch.NeuralNetClassifier(cnn, criterion=torch.nn.CrossEntropyLoss,\n",
    "#                              device=\"cuda\",\n",
    "#                              optimizer=torch.optim.SGD ,\n",
    "#                              lr=learning_rate,\n",
    "#                              max_epochs=120,\n",
    "#                              batch_size=128,\n",
    "#                              callbacks=[skorch.callbacks.EarlyStopping(lower_is_better=True)])\n",
    "\n",
    "# model.fit(model_X_normalized, np.asarray(model_y, dtype=np.int64))\n",
    "\n",
    "pred, real_label = train_cnn_model(model_X, model_y)"
   ]
  },
  {
   "cell_type": "code",
   "execution_count": 9,
   "metadata": {},
   "outputs": [
    {
     "name": "stdout",
     "output_type": "stream",
     "text": [
      "0.0 281216\n",
      "1.0 15578\n",
      "2.0 62754\n",
      "3.0 5255\n",
      "4.0 3231\n",
      "5.0 24275\n",
      "6.0 1036\n"
     ]
    }
   ],
   "source": [
    "# distribution of labels y\n",
    "# print every count of labels\n",
    "for i in y_values:\n",
    "    print(i, np.sum(model_y == i))\n"
   ]
  },
  {
   "cell_type": "code",
   "execution_count": 10,
   "metadata": {},
   "outputs": [
    {
     "name": "stdout",
     "output_type": "stream",
     "text": [
      "Class 0: Precision: 0.981, Recall: 0.980\n",
      "Class 1: Precision: 0.484, Recall: 0.292\n",
      "Class 2: Precision: 0.798, Recall: 0.914\n",
      "Class 3: Precision: 0.687, Recall: 0.450\n",
      "Class 4: Precision: 0.738, Recall: 0.862\n",
      "Class 5: Precision: 0.746, Recall: 0.726\n",
      "Class 6: Precision: 0.662, Recall: 0.323\n",
      "mf1 score: 0.687\n",
      "acc_score: 0.916\n",
      "kappa_score: 0.965\n"
     ]
    }
   ],
   "source": [
    "from scoring import *\n",
    "\n",
    "score(pred, real_label)"
   ]
  }
 ],
 "metadata": {
  "kernelspec": {
   "display_name": "Python 3 (ipykernel)",
   "language": "python",
   "name": "python3"
  },
  "language_info": {
   "codemirror_mode": {
    "name": "ipython",
    "version": 3
   },
   "file_extension": ".py",
   "mimetype": "text/x-python",
   "name": "python",
   "nbconvert_exporter": "python",
   "pygments_lexer": "ipython3",
   "version": "3.11.5"
  }
 },
 "nbformat": 4,
 "nbformat_minor": 2
}
