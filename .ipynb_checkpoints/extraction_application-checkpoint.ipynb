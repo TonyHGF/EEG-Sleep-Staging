{
 "cells": [
  {
   "cell_type": "code",
   "execution_count": 4,
   "id": "dcd0e72b",
   "metadata": {},
   "outputs": [],
   "source": [
    "from extraction import *\n",
    "from read_edf import *\n",
    "from read_result import *\n",
    "from split_signal import *\n",
    "from processing_data import *\n",
    "import numpy as np"
   ]
  },
  {
   "cell_type": "markdown",
   "id": "245ac275",
   "metadata": {},
   "source": [
    "下面这段是接口的罗列，一组30s的EEG信号可以处理成35*3组特征"
   ]
  },
  {
   "cell_type": "code",
   "execution_count": 5,
   "id": "9acc10c9",
   "metadata": {},
   "outputs": [],
   "source": [
    "edf_path = \"../database/sleep-cassette/SC4001E0-PSG.edf\"\n",
    "result_path = \"../database/sleep-cassette/SC4001EC-Hypnogram.edf\""
   ]
  },
  {
   "cell_type": "code",
   "execution_count": 6,
   "id": "2ec35422",
   "metadata": {},
   "outputs": [],
   "source": [
    "start_times, durations, labels = read_result_file(result_path)\n",
    "res = split_edf_by_annotations(edf_path, start_times, durations, labels)\n",
    "split_signals = split_edf_by_30s(res)\n",
    "for (_, signals) in split_signals:\n",
    "    for i in range(3):\n",
    "        signals[i] = signal_filter(signals[i])"
   ]
  },
  {
   "cell_type": "code",
   "execution_count": 7,
   "id": "4ab553dd",
   "metadata": {},
   "outputs": [
    {
     "data": {
      "text/plain": [
       "275"
      ]
     },
     "execution_count": 7,
     "metadata": {},
     "output_type": "execute_result"
    }
   ],
   "source": [
    "calculate_zero_crossings(signals[0])"
   ]
  },
  {
   "cell_type": "code",
   "execution_count": 8,
   "id": "7628519a",
   "metadata": {},
   "outputs": [
    {
     "data": {
      "text/plain": [
       "(0.2660442890292945, 4.117195702293528)"
      ]
     },
     "execution_count": 8,
     "metadata": {},
     "output_type": "execute_result"
    }
   ],
   "source": [
    "calculate_hjorth_parameters(signals[0])"
   ]
  },
  {
   "cell_type": "code",
   "execution_count": 9,
   "id": "bc3b9bb0",
   "metadata": {},
   "outputs": [
    {
     "data": {
      "text/plain": [
       "15.541375404107807"
      ]
     },
     "execution_count": 9,
     "metadata": {},
     "output_type": "execute_result"
    }
   ],
   "source": [
    "np.std(signals[0])"
   ]
  },
  {
   "cell_type": "code",
   "execution_count": 10,
   "id": "5c9344e6",
   "metadata": {},
   "outputs": [
    {
     "data": {
      "text/plain": [
       "1.4593447152461914"
      ]
     },
     "execution_count": 10,
     "metadata": {},
     "output_type": "execute_result"
    }
   ],
   "source": [
    "calculate_binned_entropy(signals[0], 5)"
   ]
  },
  {
   "cell_type": "markdown",
   "id": "f51a27cf",
   "metadata": {},
   "source": [
    "Page 6, Table 1:\n",
    "\n",
    "- The binned entropy feature first bins the time series to then sum up the entropy of the bins (this feature is calculated four times for each time a different number of bins; 5, 10, 30, and 60 bins)\n",
    "\n",
    "- The binned Fourier entropy feature calculates the binned entropy of the power spectral density (this feature is calculated for seven different bin sizes, i.e., 2, 3, 5, 10, 30, 60, and 100 bins)"
   ]
  },
  {
   "cell_type": "code",
   "execution_count": 11,
   "id": "1cdea56f",
   "metadata": {},
   "outputs": [],
   "source": [
    "time_entropy_bins = [5, 10, 30, 60]\n",
    "frequency_entropy_bins = [2, 3, 5, 10, 30, 60, 100]"
   ]
  },
  {
   "cell_type": "code",
   "execution_count": 12,
   "id": "b18d8b35",
   "metadata": {},
   "outputs": [
    {
     "data": {
      "text/plain": [
       "array([85.60199334 -0.j        , 85.81562777 -5.44525069j,\n",
       "       86.45973896-11.03134076j, ..., 87.52498318+16.90323918j,\n",
       "       86.45973896+11.03134076j, 85.81562777 +5.44525069j])"
      ]
     },
     "execution_count": 12,
     "metadata": {},
     "output_type": "execute_result"
    }
   ],
   "source": [
    "frequency_signals = perform_fft(signals[0], 100)\n",
    "frequency_signals\n",
    "# print(frequency_signals.shape)"
   ]
  },
  {
   "cell_type": "code",
   "execution_count": 13,
   "id": "a5ec5747",
   "metadata": {},
   "outputs": [],
   "source": [
    "res = calculate_frequency_domain_features(frequency_signals, 100)"
   ]
  },
  {
   "cell_type": "code",
   "execution_count": 14,
   "id": "9cd793fe",
   "metadata": {},
   "outputs": [
    {
     "data": {
      "text/plain": [
       "{'spectral_centroid': 5.931166482730863,\n",
       " 'spectral_variance': 1030.7846397068654,\n",
       " 'spectral_skewness': 1.471768975949911,\n",
       " 'spectral_kurtosis': 2.5662569896266065,\n",
       " 'binned_entropies': [0.037622360322278434,\n",
       "  0.11471352732076774,\n",
       "  0.3369915001767694,\n",
       "  0.8029879670205069,\n",
       "  1.835945059405911,\n",
       "  2.6514380495089966,\n",
       "  3.277695738217079],\n",
       " 'band_powers': {'delta_slow': 3551091254.3542285,\n",
       "  'delta_fast': 54489121105.08021,\n",
       "  'theta': 73289036326.88803,\n",
       "  'alpha': 86893323356.20265,\n",
       "  'sigma': 104225869654.38518,\n",
       "  'beta': 329526840291.22504},\n",
       " 'power_ratios': {'fast_delta_theta': 127778157431.96823,\n",
       "  'alpha_theta': 1.1856251318223914,\n",
       "  'delta_beta': 0.010776333882896732,\n",
       "  'delta_sigma': 0.03407111177032832,\n",
       "  'delta_theta': 0.04845323983406528}}"
      ]
     },
     "execution_count": 14,
     "metadata": {},
     "output_type": "execute_result"
    }
   ],
   "source": [
    "res"
   ]
  },
  {
   "cell_type": "code",
   "execution_count": 15,
   "id": "1358a4d4",
   "metadata": {},
   "outputs": [],
   "source": [
    "res = signal_extraction(signals[0])"
   ]
  },
  {
   "cell_type": "code",
   "execution_count": 16,
   "id": "d088dbca",
   "metadata": {},
   "outputs": [
    {
     "data": {
      "text/plain": [
       "(35,)"
      ]
     },
     "execution_count": 16,
     "metadata": {},
     "output_type": "execute_result"
    }
   ],
   "source": [
    "res.shape"
   ]
  },
  {
   "cell_type": "markdown",
   "id": "8e37cfef",
   "metadata": {},
   "source": [
    "下面是批量处理部分"
   ]
  },
  {
   "cell_type": "code",
   "execution_count": 17,
   "id": "04d4ba2d",
   "metadata": {},
   "outputs": [],
   "source": [
    "import os"
   ]
  },
  {
   "cell_type": "code",
   "execution_count": null,
   "id": "b7b97549",
   "metadata": {},
   "outputs": [],
   "source": []
  },
  {
   "cell_type": "code",
   "execution_count": 43,
   "id": "3abbee95",
   "metadata": {},
   "outputs": [
    {
     "name": "stdout",
     "output_type": "stream",
     "text": [
      "Sleep stage W\n",
      "Sleep stage 1\n",
      "Sleep stage 2\n",
      "Sleep stage 3\n",
      "Sleep stage 3\n",
      "Sleep stage 4\n",
      "Sleep stage 4\n",
      "Sleep stage 4\n",
      "Sleep stage 3\n",
      "Sleep stage 2\n",
      "Sleep stage 3\n",
      "Sleep stage 4\n",
      "Sleep stage 2\n",
      "Sleep stage 2\n",
      "Sleep stage 3\n",
      "Sleep stage 2\n",
      "Sleep stage 3\n",
      "Sleep stage 3\n",
      "Sleep stage 4\n",
      "Sleep stage 3\n",
      "Sleep stage 3\n",
      "Sleep stage 4\n",
      "Sleep stage 3\n",
      "Sleep stage 2\n",
      "Sleep stage 3\n",
      "Sleep stage 2\n",
      "Sleep stage R\n",
      "Sleep stage 1\n",
      "Sleep stage 2\n",
      "Sleep stage 1\n",
      "Sleep stage 2\n",
      "Sleep stage 2\n",
      "Sleep stage 3\n",
      "Sleep stage 2\n",
      "Sleep stage 3\n",
      "Sleep stage 4\n",
      "Sleep stage 3\n",
      "Sleep stage 4\n",
      "Sleep stage 3\n",
      "Sleep stage 4\n",
      "Sleep stage 3\n",
      "Sleep stage 4\n",
      "Sleep stage 2\n",
      "Sleep stage 2\n",
      "Sleep stage 2\n",
      "Sleep stage 2\n",
      "Sleep stage R\n",
      "Sleep stage 1\n",
      "Sleep stage 1\n",
      "Sleep stage 2\n",
      "Sleep stage 2\n",
      "Sleep stage 2\n",
      "Sleep stage 3\n",
      "Sleep stage 4\n",
      "Sleep stage 2\n",
      "Sleep stage 3\n",
      "Sleep stage 3\n",
      "Sleep stage 4\n",
      "Sleep stage 3\n",
      "Sleep stage 4\n",
      "Sleep stage 3\n",
      "Sleep stage 2\n",
      "Sleep stage R\n",
      "Sleep stage R\n",
      "Sleep stage 1\n",
      "Sleep stage W\n",
      "Sleep stage 1\n",
      "Sleep stage 1\n",
      "Sleep stage 2\n",
      "Sleep stage W\n",
      "Sleep stage 2\n",
      "Sleep stage 3\n",
      "Sleep stage 2\n",
      "Sleep stage 3\n",
      "Sleep stage 2\n",
      "Sleep stage 3\n",
      "Sleep stage 2\n",
      "Sleep stage 2\n",
      "Sleep stage 1\n",
      "Sleep stage R\n",
      "Sleep stage 1\n",
      "Sleep stage R\n",
      "Sleep stage W\n",
      "Sleep stage 1\n",
      "Sleep stage W\n",
      "Sleep stage W\n",
      "Sleep stage 1\n",
      "Sleep stage W\n"
     ]
    }
   ],
   "source": [
    "edf_files = []\n",
    "result_files = []\n",
    "\n",
    "for dirname, _, filenames in os.walk('../database/sleep-cassette'):\n",
    "    for filename in filenames:\n",
    "        if filename[9] == 'P':\n",
    "            edf_files.append(os.path.join(dirname, filename))\n",
    "        else:\n",
    "            result_files.append(os.path.join(dirname, filename))\n",
    "N = len(result_files)\n",
    "\n",
    "X_list = []\n",
    "Y_list = []\n",
    "\n",
    "for i in range(N):\n",
    "    result_path = result_files[i]\n",
    "    edf_path = edf_files[i]\n",
    "#     a, b, c = read_edf_file(edf_path)\n",
    "#     plot_signals(a, b, c)\n",
    "    start_times, durations, labels = read_result_file(result_path)\n",
    "#     plot_sleep_stages(start_times, durations, labels)\n",
    "    res = split_edf_by_annotations(edf_path, start_times, durations, labels)\n",
    "    \n",
    "    split_signals = split_edf_by_30s(res)\n",
    "    \n",
    "    for j in range(len(split_signals)):\n",
    "        print(split_signals[j][0])\n",
    "    break\n",
    "#     print('*', res)\n",
    "#     for aa in res"
   ]
  },
  {
   "cell_type": "code",
   "execution_count": null,
   "id": "415957ee",
   "metadata": {},
   "outputs": [],
   "source": [
    "edf_files = []\n",
    "result_files = []\n",
    "\n",
    "for dirname, _, filenames in os.walk('../database/sleep-cassette'):\n",
    "    for filename in filenames:\n",
    "        if filename[9] == 'P':\n",
    "            edf_files.append(os.path.join(dirname, filename))\n",
    "        else:\n",
    "            result_files.append(os.path.join(dirname, filename))\n",
    "N = len(result_files)\n",
    "\n",
    "X = np.empty((0,18000//down_sampling_rate), float)\n",
    "Y = np.empty((0,1), str)\n",
    "\n",
    "print(N)\n",
    "\n",
    "for i in range(N):\n",
    "    result_path = result_files[i]\n",
    "    edf_path = edf_files[i]\n",
    "    start_times, durations, labels = read_result_file(result_path)\n",
    "    res = split_edf_by_annotations(edf_path, start_times, durations, labels)\n",
    "    split_signals = split_edf_by_30s(res)\n",
    "    rows_list = []\n",
    "    for (_, signals) in split_signals:\n",
    "        three = []\n",
    "        for i in range(3):\n",
    "            signals[i] = signal_filter(signals[i])\n",
    "            tmp_res = signal_extraction(signals[i])\n",
    "            three.append(tmp_res)\n",
    "        vec = np.concatenate(three, axis=0)\n",
    "        rows_list.append(vec)\n",
    "    cur_X = np.array(rows_list)\n",
    "    cur_Y = generate_matrix(split_signals)[1]\n",
    "    # print(cur_X.shape, cur_Y.shape)\n",
    "    X = np.vstack((cur_X, X))\n",
    "    Y = np.vstack((cur_Y, Y))\n",
    "    # print(cur_X.shape)\n",
    "    # print(cur_Y.shape)\n",
    "    # break\n",
    "print(X.shape)\n",
    "print(Y.shape)"
   ]
  }
 ],
 "metadata": {
  "kernelspec": {
   "display_name": "Python 3 (ipykernel)",
   "language": "python",
   "name": "python3"
  },
  "language_info": {
   "codemirror_mode": {
    "name": "ipython",
    "version": 3
   },
   "file_extension": ".py",
   "mimetype": "text/x-python",
   "name": "python",
   "nbconvert_exporter": "python",
   "pygments_lexer": "ipython3",
   "version": "3.11.4"
  }
 },
 "nbformat": 4,
 "nbformat_minor": 5
}
