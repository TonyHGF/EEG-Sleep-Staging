{
 "cells": [
  {
   "cell_type": "code",
   "execution_count": 1,
   "id": "41f6b774",
   "metadata": {},
   "outputs": [],
   "source": [
    "from read_edf import plot_signals\n",
    "from read_result import read_result_file\n",
    "from read_result import plot_sleep_stages\n",
    "from split_signal import split_edf_by_annotations\n",
    "from split_signal import split_edf_by_30s\n",
    "from sklearn.decomposition import PCA\n",
    "import processing_data\n",
    "import os\n",
    "import matplotlib.pyplot as plt\n",
    "import numpy as np\n",
    "from sklearn import svm\n",
    "import svm_builder\n",
    "import importlib"
   ]
  },
  {
   "cell_type": "code",
   "execution_count": 2,
   "id": "dde2bf17",
   "metadata": {},
   "outputs": [],
   "source": [
    "feature_number = 105"
   ]
  },
  {
   "cell_type": "code",
   "execution_count": 3,
   "id": "d708b17e",
   "metadata": {},
   "outputs": [
    {
     "name": "stdout",
     "output_type": "stream",
     "text": [
      "(393345, 105)\n",
      "(393345,)\n"
     ]
    }
   ],
   "source": [
    "\n",
    "X = np.empty((0,feature_number))\n",
    "y = np.empty((0,))\n",
    "for dirname, _, filenames in os.walk('./result'):\n",
    "    for filename in filenames:\n",
    "        file_path = os.path.join(dirname, filename)\n",
    "        file = np.load(file_path)\n",
    "        X = np.concatenate((X, file['features']))\n",
    "        y = np.concatenate((y, file['labels']))\n",
    "print(X.shape)\n",
    "print(y.shape)\n"
   ]
  },
  {
   "cell_type": "code",
   "execution_count": 4,
   "id": "51f11965",
   "metadata": {},
   "outputs": [],
   "source": [
    "from sklearn import preprocessing\n",
    "scaler = preprocessing.StandardScaler().fit(X)\n",
    "X_scaled = scaler.fit_transform(X)"
   ]
  },
  {
   "cell_type": "code",
   "execution_count": 5,
   "id": "cb20e992",
   "metadata": {},
   "outputs": [
    {
     "name": "stdout",
     "output_type": "stream",
     "text": [
      "(393345, 82)\n",
      "(393345, 46)\n"
     ]
    }
   ],
   "source": [
    "pca1 = PCA(n_components= 0.999).fit(X_scaled)\n",
    "pca2 = PCA(n_components= 0.95).fit(X_scaled)\n",
    "X_pca1 = pca1.transform(X_scaled)\n",
    "X_pca2 = pca2.transform(X_scaled)\n",
    "print(X_pca1.shape)\n",
    "print(X_pca2.shape)"
   ]
  },
  {
   "cell_type": "code",
   "execution_count": 6,
   "id": "acb03cc9",
   "metadata": {},
   "outputs": [
    {
     "name": "stdout",
     "output_type": "stream",
     "text": [
      "(393345, 82) (393345,)\n"
     ]
    }
   ],
   "source": [
    "# model = svm_builder.train_svm_model(X_pca1, Y)\n",
    "model_X = X_pca1\n",
    "model_y = y\n",
    "print(model_X.shape, model_y.shape)"
   ]
  },
  {
   "cell_type": "code",
   "execution_count": 7,
   "id": "f8597e78",
   "metadata": {},
   "outputs": [
    {
     "name": "stdout",
     "output_type": "stream",
     "text": [
      "Training set score of logistic: 0.8915998707057794\n",
      "Testing set score of logistic: 0.8900037286871632\n",
      "Training set score of logistic: 0.8933976414700318\n",
      "Testing set score of logistic: 0.8917663808006508\n"
     ]
    }
   ],
   "source": [
    "import logistic_builder\n",
    "importlib.reload(logistic_builder)\n",
    "model_logistic = logistic_builder.train_logistic_model(model_X, model_y)\n",
    "model_logistic = logistic_builder.train_logistic_model(X_scaled, y)"
   ]
  },
  {
   "cell_type": "code",
   "execution_count": 8,
   "id": "d79915b4",
   "metadata": {},
   "outputs": [
    {
     "name": "stdout",
     "output_type": "stream",
     "text": [
      "Training set score of Bayes: 0.43516948075295725\n",
      "Testing set score of Bayes: 0.4369258669197654\n",
      "Training set score of Bayes: 0.5936529612371568\n",
      "Testing set score of Bayes: 0.5940646079793905\n"
     ]
    }
   ],
   "source": [
    "from bayes_builder import train_bayes_model\n",
    "model_bayes = train_bayes_model(model_X, model_y)\n",
    "model_bayes = train_bayes_model(X_scaled, y)"
   ]
  },
  {
   "cell_type": "code",
   "execution_count": 9,
   "id": "555550d6",
   "metadata": {},
   "outputs": [
    {
     "name": "stdout",
     "output_type": "stream",
     "text": [
      "training set score: 0.8881205487014284\n",
      "testing set score: 0.8873682248059388\n",
      "training set score: 0.8902597143178822\n",
      "testing set score: 0.8890885054743907\n"
     ]
    }
   ],
   "source": [
    "model_svm = svm_builder.train_svm_model(model_X, model_y)\n",
    "model_svm = svm_builder.train_svm_model(X_scaled, y)"
   ]
  }
 ],
 "metadata": {
  "kernelspec": {
   "display_name": "Python 3 (ipykernel)",
   "language": "python",
   "name": "python3"
  },
  "language_info": {
   "codemirror_mode": {
    "name": "ipython",
    "version": 3
   },
   "file_extension": ".py",
   "mimetype": "text/x-python",
   "name": "python",
   "nbconvert_exporter": "python",
   "pygments_lexer": "ipython3",
   "version": "3.11.4"
  }
 },
 "nbformat": 4,
 "nbformat_minor": 5
}
