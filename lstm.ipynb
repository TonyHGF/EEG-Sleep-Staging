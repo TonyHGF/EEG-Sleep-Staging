{
 "cells": [
  {
   "cell_type": "code",
   "execution_count": 2,
   "metadata": {},
   "outputs": [],
   "source": [
    "import skorch\n",
    "import numpy as np\n",
    "import torch\n",
    "from torch import nn\n",
    "import os"
   ]
  },
  {
   "cell_type": "code",
   "execution_count": 3,
   "metadata": {},
   "outputs": [],
   "source": [
    "class LSTMNet(nn.Module):\n",
    "    def __init__(self, in_features, hidden_size, out_features):\n",
    "        super(LSTMNet, self).__init__()\n",
    "        self.in_features = in_features\n",
    "        self.hidden_size = hidden_size\n",
    "        self.out_features = out_features\n",
    "        self.linear = nn.Linear(in_features=in_features, out_features=hidden_size * 2, dtype=torch.double)\n",
    "        self.lstm = nn.LSTM(in_features, hidden_size, num_layers=2, bidirectional=True, dropout=0.5, dtype=torch.double)\n",
    "        # self.softmax = nn.Sequential(\n",
    "        #                 nn.Linear(in_features=hidden_size * 2, out_features=out_features),\n",
    "        #                 nn.Softmax(dim=1)\n",
    "        #             )\n",
    "        self.linear2 = nn.Sequential(\n",
    "                        nn.Dropout(0.5),\n",
    "                        nn.Linear(in_features=hidden_size * 2, out_features=out_features, dtype=torch.double)\n",
    "                       )\n",
    "\n",
    "    def forward(self, input):\n",
    "        # linear_output = self.linear(input)\n",
    "        # lstm_output = self.lstm(input.reshape(-1, LENGTH_OF_SIGNAL, self.in_features))\n",
    "        linear_output = self.linear(input)\n",
    "        lstm_output,_ = self.lstm(input.reshape(-1,1,self.in_features))\n",
    "        lstm_output = lstm_output.reshape(-1, self.hidden_size * 2)\n",
    "        # output = self.softmax(linear_output + lstm_output)\n",
    "        output = self.linear2(linear_output + lstm_output)\n",
    "        return output\n",
    "\n",
    "    \n",
    "def predict(model, x, out_features):\n",
    "    tag = model(x)\n",
    "    y=torch.zeros((tag.shape[0],), dtype=int)\n",
    "    for i in range(tag.shape[0]):\n",
    "        mx=tag[i][0]\n",
    "        for j in range(1,tag.shape[1]):\n",
    "            if(tag[i][j]>mx):\n",
    "                mx=tag[i][j]\n",
    "                y[i]=j\n",
    "    return y\n"
   ]
  },
  {
   "cell_type": "code",
   "execution_count": 7,
   "metadata": {},
   "outputs": [
    {
     "name": "stdout",
     "output_type": "stream",
     "text": [
      "epoch:  0\n"
     ]
    },
    {
     "name": "stderr",
     "output_type": "stream",
     "text": [
      "100%|██████████| 32/32 [00:38<00:00,  1.22s/it]\n"
     ]
    },
    {
     "name": "stdout",
     "output_type": "stream",
     "text": [
      "Class 0: Precision: 0.718, Recall: 1.000\n",
      "Class 1: Precision: 0.000, Recall: 0.000\n",
      "Class 2: Precision: 0.000, Recall: 0.000\n",
      "Class 3: Precision: 0.000, Recall: 0.000\n",
      "Class 4: Precision: 0.000, Recall: 0.000\n",
      "Class 5: Precision: 0.000, Recall: 0.000\n",
      "Class 6: Precision: 0.000, Recall: 0.000\n",
      "mf1 score: nan\n",
      "acc_score: 0.718\n"
     ]
    },
    {
     "name": "stderr",
     "output_type": "stream",
     "text": [
      "d:\\qc_file\\CS182\\final_project\\project\\iml-project\\scoring.py:27: RuntimeWarning: invalid value encountered in scalar divide\n",
      "  pre += TP / (TP + FP)\n"
     ]
    },
    {
     "ename": "TypeError",
     "evalue": "acc_score() missing 1 required positional argument: 'catagories'",
     "output_type": "error",
     "traceback": [
      "\u001b[1;31m---------------------------------------------------------------------------\u001b[0m",
      "\u001b[1;31mTypeError\u001b[0m                                 Traceback (most recent call last)",
      "Cell \u001b[1;32mIn[7], line 56\u001b[0m\n\u001b[0;32m     54\u001b[0m     y_pred\u001b[38;5;241m=\u001b[39mnp\u001b[38;5;241m.\u001b[39mconcatenate((y_pred, predict(model, torch\u001b[38;5;241m.\u001b[39mDoubleTensor(X_train[i]), out_features\u001b[38;5;241m=\u001b[39m\u001b[38;5;241m7\u001b[39m)))\n\u001b[0;32m     55\u001b[0m     y_true \u001b[38;5;241m=\u001b[39m np\u001b[38;5;241m.\u001b[39mconcatenate((y_true, y_train[i]))\n\u001b[1;32m---> 56\u001b[0m scoring\u001b[38;5;241m.\u001b[39mscore(y_pred, y_true)\n",
      "File \u001b[1;32md:\\qc_file\\CS182\\final_project\\project\\iml-project\\scoring.py:61\u001b[0m, in \u001b[0;36mscore\u001b[1;34m(predict, real_label, catagories)\u001b[0m\n\u001b[0;32m     59\u001b[0m \u001b[38;5;28mprint\u001b[39m(\u001b[38;5;124mf\u001b[39m\u001b[38;5;124m\"\u001b[39m\u001b[38;5;124mmf1 score: \u001b[39m\u001b[38;5;132;01m{\u001b[39;00mmf1_score(cfm,\u001b[38;5;250m \u001b[39mcatagories)\u001b[38;5;132;01m:\u001b[39;00m\u001b[38;5;124m.3f\u001b[39m\u001b[38;5;132;01m}\u001b[39;00m\u001b[38;5;124m\"\u001b[39m)\n\u001b[0;32m     60\u001b[0m \u001b[38;5;28mprint\u001b[39m(\u001b[38;5;124mf\u001b[39m\u001b[38;5;124m\"\u001b[39m\u001b[38;5;124macc_score: \u001b[39m\u001b[38;5;132;01m{\u001b[39;00macc_score(cfm,\u001b[38;5;250m \u001b[39mcatagories)\u001b[38;5;132;01m:\u001b[39;00m\u001b[38;5;124m.3f\u001b[39m\u001b[38;5;132;01m}\u001b[39;00m\u001b[38;5;124m\"\u001b[39m)\n\u001b[1;32m---> 61\u001b[0m \u001b[38;5;28mprint\u001b[39m(\u001b[38;5;124mf\u001b[39m\u001b[38;5;124m\"\u001b[39m\u001b[38;5;124mkappa_score: \u001b[39m\u001b[38;5;132;01m{\u001b[39;00mkappa_score(cfm,\u001b[38;5;250m \u001b[39mcatagories)\u001b[38;5;132;01m:\u001b[39;00m\u001b[38;5;124m.3f\u001b[39m\u001b[38;5;132;01m}\u001b[39;00m\u001b[38;5;124m\"\u001b[39m)\n",
      "File \u001b[1;32md:\\qc_file\\CS182\\final_project\\project\\iml-project\\scoring.py:43\u001b[0m, in \u001b[0;36mkappa_score\u001b[1;34m(cfm, catagories)\u001b[0m\n\u001b[0;32m     42\u001b[0m \u001b[38;5;28;01mdef\u001b[39;00m \u001b[38;5;21mkappa_score\u001b[39m(cfm, catagories):\n\u001b[1;32m---> 43\u001b[0m     po \u001b[38;5;241m=\u001b[39m acc_score(cfm)\n\u001b[0;32m     44\u001b[0m     pe \u001b[38;5;241m=\u001b[39m \u001b[38;5;241m0\u001b[39m\n\u001b[0;32m     45\u001b[0m     \u001b[38;5;28;01mfor\u001b[39;00m i \u001b[38;5;129;01min\u001b[39;00m \u001b[38;5;28mrange\u001b[39m(catagories):\n",
      "\u001b[1;31mTypeError\u001b[0m: acc_score() missing 1 required positional argument: 'catagories'"
     ]
    }
   ],
   "source": [
    "import scoring\n",
    "import importlib\n",
    "from tqdm import tqdm\n",
    "importlib.reload(scoring)\n",
    "feature_number = 105\n",
    "X = []\n",
    "y = []\n",
    "\n",
    "model = LSTMNet(in_features=feature_number, hidden_size=20, out_features=7)\n",
    "\n",
    "\n",
    "for dirname, _, filenames in os.walk('./result'):\n",
    "    for filename in filenames:\n",
    "        file_path = os.path.join(dirname, filename)\n",
    "        file = np.load(file_path)\n",
    "        X.append(file['features'])\n",
    "        y.append(file['labels'])\n",
    "\n",
    "num_file = len(X)\n",
    "# print(num_file)\n",
    "\n",
    "X_train = X[num_file//4:num_file]\n",
    "y_train = y[num_file//4:num_file]\n",
    "\n",
    "X_test = X[0:num_file//4]\n",
    "y_test = y[0:num_file//4]\n",
    "\n",
    "optimizer = torch.optim.SGD(model.parameters(), lr=0.1)\n",
    "loss_function = nn.CrossEntropyLoss()\n",
    "max_epochs = 50\n",
    "batch_size = 32\n",
    "\n",
    "for epoch in range(max_epochs):\n",
    "    print(\"epoch: \", epoch)\n",
    "    sum_loss = 0\n",
    "    array = np.arange(len(X_train))\n",
    "    slice=np.random.choice(array.shape[0],batch_size)\n",
    "    for i in tqdm(slice):\n",
    "    # for i in range(len(X_train)):\n",
    "        sentence = torch.DoubleTensor(X_train[i])\n",
    "        target = torch.LongTensor(y_train[i])\n",
    "        # f=[0,0,0,0,0,0,0,0]\n",
    "        # for t in target:\n",
    "        #     f[t]=1\n",
    "        # print(f)\n",
    "        tag_score = model(sentence)\n",
    "        loss = loss_function(tag_score, target)\n",
    "        loss.backward()\n",
    "        optimizer.step()\n",
    "\n",
    "    y_pred = np.zeros((0,))\n",
    "    y_true = np.zeros((0,))\n",
    "    for i in range(len(X_train)):\n",
    "        y_pred=np.concatenate((y_pred, predict(model, torch.DoubleTensor(X_train[i]), out_features=7)))\n",
    "        y_true = np.concatenate((y_true, y_train[i]))\n",
    "    scoring.score(y_pred, y_true)"
   ]
  },
  {
   "cell_type": "code",
   "execution_count": null,
   "metadata": {},
   "outputs": [],
   "source": []
  }
 ],
 "metadata": {
  "kernelspec": {
   "display_name": "Python 3 (ipykernel)",
   "language": "python",
   "name": "python3"
  },
  "language_info": {
   "codemirror_mode": {
    "name": "ipython",
    "version": 3
   },
   "file_extension": ".py",
   "mimetype": "text/x-python",
   "name": "python",
   "nbconvert_exporter": "python",
   "pygments_lexer": "ipython3",
   "version": "3.11.4"
  }
 },
 "nbformat": 4,
 "nbformat_minor": 2
}
