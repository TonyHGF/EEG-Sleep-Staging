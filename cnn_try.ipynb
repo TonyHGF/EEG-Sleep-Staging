{
 "cells": [
  {
   "cell_type": "code",
   "execution_count": 1,
   "metadata": {},
   "outputs": [],
   "source": [
    "from read_edf import plot_signals\n",
    "from read_result import read_result_file\n",
    "from read_result import plot_sleep_stages\n",
    "from split_signal import split_edf_by_annotations\n",
    "from split_signal import split_edf_by_30s\n",
    "from sklearn.decomposition import PCA\n",
    "import processing_data\n",
    "import os\n",
    "import matplotlib.pyplot as plt\n",
    "import numpy as np\n",
    "from sklearn import svm"
   ]
  },
  {
   "cell_type": "code",
   "execution_count": 2,
   "metadata": {},
   "outputs": [],
   "source": [
    "feature_number = 105"
   ]
  },
  {
   "cell_type": "code",
   "execution_count": 3,
   "metadata": {},
   "outputs": [
    {
     "name": "stdout",
     "output_type": "stream",
     "text": [
      "(393345, 105)\n",
      "(393345,)\n"
     ]
    }
   ],
   "source": [
    "X = np.empty((0,feature_number))\n",
    "y = np.empty((0,))\n",
    "for dirname, _, filenames in os.walk('./result'):\n",
    "    for filename in filenames:\n",
    "        file_path = os.path.join(dirname, filename)\n",
    "        file = np.load(file_path)\n",
    "        X = np.concatenate((X, file['features']))\n",
    "        y = np.concatenate((y, file['labels']))\n",
    "print(X.shape)\n",
    "print(y.shape)"
   ]
  },
  {
   "cell_type": "code",
   "execution_count": 4,
   "metadata": {},
   "outputs": [],
   "source": [
    "from sklearn import preprocessing\n",
    "scaler = preprocessing.StandardScaler().fit(X)\n",
    "X_scaled = scaler.fit_transform(X)"
   ]
  },
  {
   "cell_type": "code",
   "execution_count": 5,
   "metadata": {},
   "outputs": [
    {
     "name": "stdout",
     "output_type": "stream",
     "text": [
      "(393345, 82)\n"
     ]
    }
   ],
   "source": [
    "pca = PCA(n_components= 0.999).fit(X_scaled)\n",
    "X_pca = pca.transform(X_scaled)\n",
    "print(X_pca.shape)"
   ]
  },
  {
   "cell_type": "code",
   "execution_count": 6,
   "metadata": {},
   "outputs": [
    {
     "name": "stdout",
     "output_type": "stream",
     "text": [
      "(393345, 82) (393345,)\n"
     ]
    }
   ],
   "source": [
    "model_X = X_pca\n",
    "model_y = y\n",
    "print(model_X.shape, model_y.shape)"
   ]
  },
  {
   "cell_type": "code",
   "execution_count": 7,
   "metadata": {},
   "outputs": [
    {
     "name": "stdout",
     "output_type": "stream",
     "text": [
      "[0. 1. 2. 3. 4. 5. 6.]\n"
     ]
    }
   ],
   "source": [
    "# find how many kinds of values in y\n",
    "y_values = np.unique(model_y)\n",
    "print(y_values)"
   ]
  },
  {
   "cell_type": "code",
   "execution_count": 8,
   "metadata": {},
   "outputs": [
    {
     "name": "stdout",
     "output_type": "stream",
     "text": [
      "Start with learning rate: 0.01 and channel: 128\n",
      "  epoch    train_loss    valid_acc    valid_loss      dur\n",
      "-------  ------------  -----------  ------------  -------\n",
      "      1        \u001b[36m0.8974\u001b[0m       \u001b[32m0.8274\u001b[0m        \u001b[35m0.5809\u001b[0m  20.8858\n",
      "      2        \u001b[36m0.4676\u001b[0m       \u001b[32m0.8701\u001b[0m        \u001b[35m0.4123\u001b[0m  21.1614\n",
      "      3        \u001b[36m0.3783\u001b[0m       \u001b[32m0.8833\u001b[0m        \u001b[35m0.3484\u001b[0m  21.3343\n",
      "      4        \u001b[36m0.3344\u001b[0m       \u001b[32m0.8917\u001b[0m        \u001b[35m0.3147\u001b[0m  21.4478\n",
      "      5        \u001b[36m0.3094\u001b[0m       \u001b[32m0.8973\u001b[0m        \u001b[35m0.2954\u001b[0m  21.5084\n",
      "      6        \u001b[36m0.2941\u001b[0m       \u001b[32m0.9009\u001b[0m        \u001b[35m0.2835\u001b[0m  21.4607\n",
      "      7        \u001b[36m0.2838\u001b[0m       \u001b[32m0.9042\u001b[0m        \u001b[35m0.2752\u001b[0m  21.4971\n",
      "      8        \u001b[36m0.2761\u001b[0m       \u001b[32m0.9063\u001b[0m        \u001b[35m0.2689\u001b[0m  22.3279\n",
      "      9        \u001b[36m0.2698\u001b[0m       \u001b[32m0.9074\u001b[0m        \u001b[35m0.2641\u001b[0m  22.6659\n",
      "     10        \u001b[36m0.2646\u001b[0m       \u001b[32m0.9091\u001b[0m        \u001b[35m0.2597\u001b[0m  23.0771\n",
      "     11        \u001b[36m0.2600\u001b[0m       \u001b[32m0.9098\u001b[0m        \u001b[35m0.2560\u001b[0m  23.2140\n",
      "     12        \u001b[36m0.2558\u001b[0m       \u001b[32m0.9114\u001b[0m        \u001b[35m0.2528\u001b[0m  22.9663\n",
      "     13        \u001b[36m0.2521\u001b[0m       \u001b[32m0.9120\u001b[0m        \u001b[35m0.2500\u001b[0m  23.0044\n",
      "     14        \u001b[36m0.2487\u001b[0m       \u001b[32m0.9129\u001b[0m        \u001b[35m0.2474\u001b[0m  23.0213\n",
      "     15        \u001b[36m0.2455\u001b[0m       \u001b[32m0.9135\u001b[0m        \u001b[35m0.2454\u001b[0m  23.0893\n",
      "     16        \u001b[36m0.2426\u001b[0m       \u001b[32m0.9138\u001b[0m        \u001b[35m0.2433\u001b[0m  23.6101\n",
      "     17        \u001b[36m0.2397\u001b[0m       \u001b[32m0.9143\u001b[0m        \u001b[35m0.2417\u001b[0m  21.8673\n",
      "     18        \u001b[36m0.2370\u001b[0m       \u001b[32m0.9150\u001b[0m        \u001b[35m0.2400\u001b[0m  21.9388\n",
      "     19        \u001b[36m0.2344\u001b[0m       \u001b[32m0.9155\u001b[0m        \u001b[35m0.2389\u001b[0m  21.8736\n",
      "     20        \u001b[36m0.2320\u001b[0m       \u001b[32m0.9158\u001b[0m        \u001b[35m0.2374\u001b[0m  21.8391\n",
      "     21        \u001b[36m0.2295\u001b[0m       \u001b[32m0.9161\u001b[0m        \u001b[35m0.2365\u001b[0m  21.7605\n",
      "     22        \u001b[36m0.2272\u001b[0m       \u001b[32m0.9166\u001b[0m        \u001b[35m0.2349\u001b[0m  21.7550\n",
      "     23        \u001b[36m0.2250\u001b[0m       \u001b[32m0.9168\u001b[0m        \u001b[35m0.2344\u001b[0m  21.7034\n",
      "     24        \u001b[36m0.2228\u001b[0m       0.9167        \u001b[35m0.2342\u001b[0m  21.8190\n",
      "     25        \u001b[36m0.2207\u001b[0m       \u001b[32m0.9171\u001b[0m        \u001b[35m0.2328\u001b[0m  21.8234\n",
      "     26        \u001b[36m0.2187\u001b[0m       0.9170        0.2330  21.8728\n",
      "     27        \u001b[36m0.2166\u001b[0m       \u001b[32m0.9172\u001b[0m        \u001b[35m0.2318\u001b[0m  23.1010\n",
      "     28        \u001b[36m0.2146\u001b[0m       0.9168        \u001b[35m0.2317\u001b[0m  24.3114\n",
      "     29        \u001b[36m0.2127\u001b[0m       0.9170        \u001b[35m0.2315\u001b[0m  24.1355\n",
      "     30        \u001b[36m0.2108\u001b[0m       \u001b[32m0.9173\u001b[0m        \u001b[35m0.2308\u001b[0m  24.2313\n",
      "     31        \u001b[36m0.2089\u001b[0m       0.9171        0.2311  23.7711\n",
      "     32        \u001b[36m0.2071\u001b[0m       0.9168        0.2311  24.3031\n",
      "     33        \u001b[36m0.2052\u001b[0m       0.9169        0.2316  22.3473\n",
      "     34        \u001b[36m0.2034\u001b[0m       0.9172        0.2312  24.2638\n",
      "Stopping since valid_loss has not improved in the last 5 epochs.\n",
      "training set score: 0.9250674618019111\n",
      "Find each accuracy of each class:\n",
      "Accuracy of class 0: 0.98073794340138\n",
      "Accuracy of class 1: 0.31301413203965406\n",
      "Accuracy of class 2: 0.9139188332276474\n",
      "Accuracy of class 3: 0.4157660521296885\n",
      "Accuracy of class 4: 0.8878968253968254\n",
      "Accuracy of class 5: 0.7037496553625586\n",
      "Accuracy of class 6: 0.30303030303030304\n",
      "testing set score: 0.9161384359852208\n"
     ]
    }
   ],
   "source": [
    "from cnn_builder2 import *\n",
    "\n",
    "\n",
    "# learning_rate = 2e-2\n",
    "# channel = 32\n",
    "\n",
    "\n",
    "# model_X_normalized = torch.Tensor(model_X)\n",
    "# model_X_normalized = torch.unsqueeze(model_X_normalized, 1)\n",
    "\n",
    "\n",
    "# cnn = CNN_Sleeping(channels = channel)\n",
    "\n",
    "# model = skorch.NeuralNetClassifier(cnn, criterion=torch.nn.CrossEntropyLoss,\n",
    "#                              device=\"cuda\",\n",
    "#                              optimizer=torch.optim.SGD ,\n",
    "#                              lr=learning_rate,\n",
    "#                              max_epochs=120,\n",
    "#                              batch_size=128,\n",
    "#                              callbacks=[skorch.callbacks.EarlyStopping(lower_is_better=True)])\n",
    "\n",
    "# model.fit(model_X_normalized, np.asarray(model_y, dtype=np.int64))\n",
    "\n",
    "train_cnn_model(model_X, model_y)"
   ]
  },
  {
   "cell_type": "code",
   "execution_count": 9,
   "metadata": {},
   "outputs": [
    {
     "name": "stdout",
     "output_type": "stream",
     "text": [
      "0.0 281216\n",
      "1.0 15578\n",
      "2.0 62754\n",
      "3.0 5255\n",
      "4.0 3231\n",
      "5.0 24275\n",
      "6.0 1036\n"
     ]
    }
   ],
   "source": [
    "# distribution of labels y\n",
    "# print every count of labels\n",
    "for i in y_values:\n",
    "    print(i, np.sum(model_y == i))\n"
   ]
  }
 ],
 "metadata": {
  "kernelspec": {
   "display_name": "Python 3 (ipykernel)",
   "language": "python",
   "name": "python3"
  },
  "language_info": {
   "codemirror_mode": {
    "name": "ipython",
    "version": 3
   },
   "file_extension": ".py",
   "mimetype": "text/x-python",
   "name": "python",
   "nbconvert_exporter": "python",
   "pygments_lexer": "ipython3",
   "version": "3.11.5"
  }
 },
 "nbformat": 4,
 "nbformat_minor": 2
}
