{
 "cells": [
  {
   "cell_type": "code",
   "execution_count": 4,
   "id": "6d335358",
   "metadata": {},
   "outputs": [],
   "source": [
    "from read_edf import plot_signals\n",
    "from read_result import read_result_file\n",
    "from read_result import plot_sleep_stages\n",
    "from split_signal import split_edf_by_annotations\n",
    "from split_signal import split_edf_by_30s\n",
    "from sklearn.decomposition import PCA\n",
    "import processing_data\n",
    "import os\n",
    "import matplotlib.pyplot as plt\n",
    "import numpy as np\n",
    "from sklearn import svm\n",
    "import svm_builder\n",
    "import importlib"
   ]
  },
  {
   "cell_type": "code",
   "execution_count": 5,
   "id": "3d080fa8",
   "metadata": {},
   "outputs": [],
   "source": [
    "feature_number = 105"
   ]
  },
  {
   "cell_type": "code",
   "execution_count": 6,
   "id": "65123d82",
   "metadata": {},
   "outputs": [
    {
     "name": "stdout",
     "output_type": "stream",
     "text": [
      "(393345, 105)\n",
      "(393345,)\n"
     ]
    }
   ],
   "source": [
    "X = np.empty((0,feature_number))\n",
    "y = np.empty((0,))\n",
    "for dirname, _, filenames in os.walk('./result'):\n",
    "    for filename in filenames:\n",
    "        file_path = os.path.join(dirname, filename)\n",
    "        file = np.load(file_path)\n",
    "        X = np.concatenate((X, file['features']))\n",
    "        y = np.concatenate((y, file['labels']))\n",
    "print(X.shape)\n",
    "print(y.shape)"
   ]
  },
  {
   "cell_type": "code",
   "execution_count": 7,
   "id": "54b41808",
   "metadata": {},
   "outputs": [],
   "source": [
    "import split"
   ]
  },
  {
   "cell_type": "code",
   "execution_count": 8,
   "id": "e3d9dccf",
   "metadata": {},
   "outputs": [
    {
     "name": "stdout",
     "output_type": "stream",
     "text": [
      "(392309, 105)\n",
      "(392309,)\n"
     ]
    }
   ],
   "source": [
    "X, y = split.delete_question_mark(X, y)\n",
    "print(X.shape)\n",
    "print(y.shape)"
   ]
  },
  {
   "cell_type": "code",
   "execution_count": 9,
   "id": "66438fa6",
   "metadata": {},
   "outputs": [
    {
     "name": "stdout",
     "output_type": "stream",
     "text": [
      "(392309, 105)\n",
      "(392309,)\n"
     ]
    }
   ],
   "source": [
    "X_W, y_W = split.split_wake_and_asleep(X, y)\n",
    "print(X_W.shape)\n",
    "print(y_W.shape)"
   ]
  },
  {
   "cell_type": "code",
   "execution_count": 10,
   "id": "e82fcbc4",
   "metadata": {},
   "outputs": [],
   "source": [
    "import intergrating_model"
   ]
  },
  {
   "cell_type": "code",
   "execution_count": 11,
   "id": "4afadbb8",
   "metadata": {},
   "outputs": [
    {
     "name": "stdout",
     "output_type": "stream",
     "text": [
      "here\n",
      "SVM准确率: 0.9564502561749637\n",
      "Logistic回归准确率: 0.9562335907827993\n",
      "贝叶斯分类器准确率: 0.5498967653131452\n"
     ]
    }
   ],
   "source": [
    "importlib.reload(intergrating_model)\n",
    "model = intergrating_model.generate_model(X_W, y_W)"
   ]
  },
  {
   "cell_type": "code",
   "execution_count": null,
   "id": "d2a6d9b9",
   "metadata": {},
   "outputs": [],
   "source": []
  }
 ],
 "metadata": {
  "kernelspec": {
   "display_name": "Python 3 (ipykernel)",
   "language": "python",
   "name": "python3"
  },
  "language_info": {
   "codemirror_mode": {
    "name": "ipython",
    "version": 3
   },
   "file_extension": ".py",
   "mimetype": "text/x-python",
   "name": "python",
   "nbconvert_exporter": "python",
   "pygments_lexer": "ipython3",
   "version": "3.11.4"
  }
 },
 "nbformat": 4,
 "nbformat_minor": 5
}
