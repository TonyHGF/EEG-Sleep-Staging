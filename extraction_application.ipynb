{
 "cells": [
  {
   "cell_type": "code",
   "execution_count": 1,
   "id": "dcd0e72b",
   "metadata": {},
   "outputs": [],
   "source": [
    "from extraction import *\n",
    "from read_edf import *\n",
    "from read_result import *\n",
    "from split_signal import *\n",
    "from processing_data import *\n",
    "import numpy as np"
   ]
  },
  {
   "cell_type": "markdown",
   "id": "fb367b2d",
   "metadata": {},
   "source": [
    "下面这段是接口的罗列，一组30s的EEG信号可以处理成35*3组特征"
   ]
  },
  {
   "cell_type": "code",
   "execution_count": 2,
   "id": "9acc10c9",
   "metadata": {},
   "outputs": [],
   "source": [
    "edf_path = \"../database/sleep-cassette/SC4001E0-PSG.edf\"\n",
    "result_path = \"../database/sleep-cassette/SC4001EC-Hypnogram.edf\""
   ]
  },
  {
   "cell_type": "code",
   "execution_count": 3,
   "id": "2ec35422",
   "metadata": {},
   "outputs": [],
   "source": [
    "start_times, durations, labels = read_result_file(result_path)\n",
    "res = split_edf_by_annotations(edf_path, start_times, durations, labels)\n",
    "split_signals = split_edf_by_30s(res)\n",
    "for (_, signals) in split_signals:\n",
    "    for i in range(3):\n",
    "        signals[i] = signal_filter(signals[i])"
   ]
  },
  {
   "cell_type": "code",
   "execution_count": 4,
   "id": "4ab553dd",
   "metadata": {},
   "outputs": [
    {
     "data": {
      "text/plain": [
       "289"
      ]
     },
     "execution_count": 4,
     "metadata": {},
     "output_type": "execute_result"
    }
   ],
   "source": [
    "calculate_zero_crossings(signals[0])"
   ]
  },
  {
   "cell_type": "code",
   "execution_count": 5,
   "id": "7628519a",
   "metadata": {},
   "outputs": [
    {
     "data": {
      "text/plain": [
       "(0.24802843204829975, 4.442511638348952)"
      ]
     },
     "execution_count": 5,
     "metadata": {},
     "output_type": "execute_result"
    }
   ],
   "source": [
    "calculate_hjorth_parameters(signals[0])"
   ]
  },
  {
   "cell_type": "code",
   "execution_count": 6,
   "id": "bc3b9bb0",
   "metadata": {},
   "outputs": [
    {
     "data": {
      "text/plain": [
       "22.787917537730344"
      ]
     },
     "execution_count": 6,
     "metadata": {},
     "output_type": "execute_result"
    }
   ],
   "source": [
    "np.std(signals[0])"
   ]
  },
  {
   "cell_type": "code",
   "execution_count": 7,
   "id": "5c9344e6",
   "metadata": {},
   "outputs": [
    {
     "data": {
      "text/plain": [
       "1.6309753794369857"
      ]
     },
     "execution_count": 7,
     "metadata": {},
     "output_type": "execute_result"
    }
   ],
   "source": [
    "calculate_binned_entropy(signals[0], 5)"
   ]
  },
  {
   "cell_type": "markdown",
   "id": "f51a27cf",
   "metadata": {},
   "source": [
    "Page 6, Table 1:\n",
    "\n",
    "- The binned entropy feature first bins the time series to then sum up the entropy of the bins (this feature is calculated four times for each time a different number of bins; 5, 10, 30, and 60 bins)\n",
    "\n",
    "- The binned Fourier entropy feature calculates the binned entropy of the power spectral density (this feature is calculated for seven different bin sizes, i.e., 2, 3, 5, 10, 30, 60, and 100 bins)"
   ]
  },
  {
   "cell_type": "code",
   "execution_count": 8,
   "id": "1cdea56f",
   "metadata": {},
   "outputs": [],
   "source": [
    "time_entropy_bins = [5, 10, 30, 60]\n",
    "frequency_entropy_bins = [2, 3, 5, 10, 30, 60, 100]"
   ]
  },
  {
   "cell_type": "code",
   "execution_count": 9,
   "id": "b18d8b35",
   "metadata": {},
   "outputs": [
    {
     "data": {
      "text/plain": [
       "array([448.9615648  -0.j        , 450.6553505 -27.035291j  ,\n",
       "       455.82845164-54.92775882j, ..., 464.87657357+84.60397162j,\n",
       "       455.82845164+54.92775882j, 450.6553505 +27.035291j  ])"
      ]
     },
     "execution_count": 9,
     "metadata": {},
     "output_type": "execute_result"
    }
   ],
   "source": [
    "frequency_signals = perform_fft(signals[0], 100)\n",
    "frequency_signals\n",
    "# print(frequency_signals.shape)"
   ]
  },
  {
   "cell_type": "code",
   "execution_count": 10,
   "id": "a5ec5747",
   "metadata": {},
   "outputs": [],
   "source": [
    "res = calculate_frequency_domain_features(frequency_signals, 100)"
   ]
  },
  {
   "cell_type": "code",
   "execution_count": 11,
   "id": "9cd793fe",
   "metadata": {},
   "outputs": [
    {
     "data": {
      "text/plain": [
       "{'spectral_centroid': -0.7961957451536072,\n",
       " 'spectral_variance': 852.346368245573,\n",
       " 'spectral_skewness': 1.2915924313178013,\n",
       " 'spectral_kurtosis': 1.2751109534897003,\n",
       " 'binned_entropies': [0.16689582822799154,\n",
       "  0.384645141124396,\n",
       "  0.7214050142113944,\n",
       "  1.3043946344721347,\n",
       "  2.500929582639492,\n",
       "  3.338748004663165,\n",
       "  3.9987252329249223],\n",
       " 'band_powers': {'delta_slow': 94816340737.24715,\n",
       "  'delta_fast': 218092675313.38623,\n",
       "  'theta': 723001451147.9615,\n",
       "  'alpha': 916415342758.6603,\n",
       "  'sigma': 78102220933.33379,\n",
       "  'beta': 3531057243035.98},\n",
       " 'power_ratios': {'fast_delta_theta': 941094126461.3478,\n",
       "  'alpha_theta': 1.267515219096174,\n",
       "  'delta_beta': 0.02685211091500875,\n",
       "  'delta_sigma': 1.2140031308223633,\n",
       "  'delta_theta': 0.13114267002742583}}"
      ]
     },
     "execution_count": 11,
     "metadata": {},
     "output_type": "execute_result"
    }
   ],
   "source": [
    "res"
   ]
  },
  {
   "cell_type": "code",
   "execution_count": 12,
   "id": "1358a4d4",
   "metadata": {},
   "outputs": [],
   "source": [
    "res = signal_extraction(signals[0])"
   ]
  },
  {
   "cell_type": "code",
   "execution_count": 13,
   "id": "d088dbca",
   "metadata": {},
   "outputs": [
    {
     "data": {
      "text/plain": [
       "(35,)"
      ]
     },
     "execution_count": 13,
     "metadata": {},
     "output_type": "execute_result"
    }
   ],
   "source": [
    "res.shape"
   ]
  },
  {
   "cell_type": "markdown",
   "id": "3981d861",
   "metadata": {},
   "source": [
    "下面是批量处理部分"
   ]
  },
  {
   "cell_type": "code",
   "execution_count": 14,
   "id": "dd9f5b2e",
   "metadata": {},
   "outputs": [],
   "source": [
    "import os\n",
    "from tqdm import tqdm\n",
    "import time"
   ]
  },
  {
   "cell_type": "code",
   "execution_count": 15,
   "id": "3abbee95",
   "metadata": {
    "scrolled": true
   },
   "outputs": [
    {
     "name": "stdout",
     "output_type": "stream",
     "text": [
      "153\n"
     ]
    },
    {
     "name": "stderr",
     "output_type": "stream",
     "text": [
      "SC4311E0: 100%|██████████| 2531/2531 [03:01<00:00, 13.97it/s]\n"
     ]
    },
    {
     "name": "stdout",
     "output_type": "stream",
     "text": [
      "done: SC4311E0\n"
     ]
    },
    {
     "name": "stderr",
     "output_type": "stream",
     "text": [
      "SC4312E0: 100%|██████████| 2449/2449 [02:46<00:00, 14.69it/s]\n"
     ]
    },
    {
     "name": "stdout",
     "output_type": "stream",
     "text": [
      "done: SC4312E0\n"
     ]
    },
    {
     "name": "stderr",
     "output_type": "stream",
     "text": [
      "SC4321E0: 100%|██████████| 2635/2635 [03:12<00:00, 13.69it/s]\n"
     ]
    },
    {
     "name": "stdout",
     "output_type": "stream",
     "text": [
      "done: SC4321E0\n"
     ]
    },
    {
     "name": "stderr",
     "output_type": "stream",
     "text": [
      "SC4322E0: 100%|██████████| 2483/2483 [03:10<00:00, 13.06it/s]\n"
     ]
    },
    {
     "name": "stdout",
     "output_type": "stream",
     "text": [
      "done: SC4322E0\n"
     ]
    },
    {
     "name": "stderr",
     "output_type": "stream",
     "text": [
      "SC4331F0: 100%|██████████| 2689/2689 [03:48<00:00, 11.76it/s]\n"
     ]
    },
    {
     "name": "stdout",
     "output_type": "stream",
     "text": [
      "done: SC4331F0\n"
     ]
    },
    {
     "name": "stderr",
     "output_type": "stream",
     "text": [
      "SC4332F0: 100%|██████████| 2646/2646 [03:48<00:00, 11.59it/s]\n"
     ]
    },
    {
     "name": "stdout",
     "output_type": "stream",
     "text": [
      "done: SC4332F0\n"
     ]
    },
    {
     "name": "stderr",
     "output_type": "stream",
     "text": [
      "SC4341F0: 100%|██████████| 2701/2701 [06:32<00:00,  6.89it/s]\n"
     ]
    },
    {
     "name": "stdout",
     "output_type": "stream",
     "text": [
      "done: SC4341F0\n"
     ]
    },
    {
     "name": "stderr",
     "output_type": "stream",
     "text": [
      "SC4342F0: 100%|██████████| 2700/2700 [07:45<00:00,  5.80it/s]\n"
     ]
    },
    {
     "name": "stdout",
     "output_type": "stream",
     "text": [
      "done: SC4342F0\n"
     ]
    },
    {
     "name": "stderr",
     "output_type": "stream",
     "text": [
      "SC4351F0: 100%|██████████| 2558/2558 [05:27<00:00,  7.80it/s]\n"
     ]
    },
    {
     "name": "stdout",
     "output_type": "stream",
     "text": [
      "done: SC4351F0\n"
     ]
    },
    {
     "name": "stderr",
     "output_type": "stream",
     "text": [
      "SC4352F0: 100%|██████████| 2383/2383 [05:09<00:00,  7.70it/s]\n"
     ]
    },
    {
     "name": "stdout",
     "output_type": "stream",
     "text": [
      "done: SC4352F0\n"
     ]
    },
    {
     "name": "stderr",
     "output_type": "stream",
     "text": [
      "SC4362F0: 100%|██████████| 1661/1661 [03:16<00:00,  8.47it/s]\n"
     ]
    },
    {
     "name": "stdout",
     "output_type": "stream",
     "text": [
      "done: SC4362F0\n"
     ]
    },
    {
     "name": "stderr",
     "output_type": "stream",
     "text": [
      "SC4371F0: 100%|██████████| 2748/2748 [03:05<00:00, 14.79it/s]\n"
     ]
    },
    {
     "name": "stdout",
     "output_type": "stream",
     "text": [
      "done: SC4371F0\n"
     ]
    },
    {
     "name": "stderr",
     "output_type": "stream",
     "text": [
      "SC4372F0: 100%|██████████| 2782/2782 [03:08<00:00, 14.79it/s]\n"
     ]
    },
    {
     "name": "stdout",
     "output_type": "stream",
     "text": [
      "done: SC4372F0\n"
     ]
    },
    {
     "name": "stderr",
     "output_type": "stream",
     "text": [
      "SC4381F0: 100%|██████████| 2681/2681 [03:01<00:00, 14.76it/s]\n"
     ]
    },
    {
     "name": "stdout",
     "output_type": "stream",
     "text": [
      "done: SC4381F0\n"
     ]
    },
    {
     "name": "stderr",
     "output_type": "stream",
     "text": [
      "SC4382F0: 100%|██████████| 2666/2666 [02:59<00:00, 14.81it/s]\n"
     ]
    },
    {
     "name": "stdout",
     "output_type": "stream",
     "text": [
      "done: SC4382F0\n"
     ]
    },
    {
     "name": "stderr",
     "output_type": "stream",
     "text": [
      "SC4401E0: 100%|██████████| 2539/2539 [02:52<00:00, 14.72it/s]\n"
     ]
    },
    {
     "name": "stdout",
     "output_type": "stream",
     "text": [
      "done: SC4401E0\n"
     ]
    },
    {
     "name": "stderr",
     "output_type": "stream",
     "text": [
      "SC4402E0: 100%|██████████| 2625/2625 [02:57<00:00, 14.80it/s]\n"
     ]
    },
    {
     "name": "stdout",
     "output_type": "stream",
     "text": [
      "done: SC4402E0\n"
     ]
    },
    {
     "name": "stderr",
     "output_type": "stream",
     "text": [
      "SC4411E0: 100%|██████████| 2550/2550 [02:52<00:00, 14.78it/s]\n"
     ]
    },
    {
     "name": "stdout",
     "output_type": "stream",
     "text": [
      "done: SC4411E0\n"
     ]
    },
    {
     "name": "stderr",
     "output_type": "stream",
     "text": [
      "SC4412E0: 100%|██████████| 2570/2570 [02:53<00:00, 14.77it/s]\n"
     ]
    },
    {
     "name": "stdout",
     "output_type": "stream",
     "text": [
      "done: SC4412E0\n"
     ]
    },
    {
     "name": "stderr",
     "output_type": "stream",
     "text": [
      "SC4421E0: 100%|██████████| 2638/2638 [02:58<00:00, 14.79it/s]\n"
     ]
    },
    {
     "name": "stdout",
     "output_type": "stream",
     "text": [
      "done: SC4421E0\n"
     ]
    },
    {
     "name": "stderr",
     "output_type": "stream",
     "text": [
      "SC4422E0: 100%|██████████| 2525/2525 [02:50<00:00, 14.77it/s]\n"
     ]
    },
    {
     "name": "stdout",
     "output_type": "stream",
     "text": [
      "done: SC4422E0\n"
     ]
    },
    {
     "name": "stderr",
     "output_type": "stream",
     "text": [
      "SC4431E0: 100%|██████████| 2614/2614 [02:56<00:00, 14.77it/s]\n"
     ]
    },
    {
     "name": "stdout",
     "output_type": "stream",
     "text": [
      "done: SC4431E0\n"
     ]
    },
    {
     "name": "stderr",
     "output_type": "stream",
     "text": [
      "SC4432E0: 100%|██████████| 2693/2693 [03:01<00:00, 14.81it/s]\n"
     ]
    },
    {
     "name": "stdout",
     "output_type": "stream",
     "text": [
      "done: SC4432E0\n"
     ]
    },
    {
     "name": "stderr",
     "output_type": "stream",
     "text": [
      "SC4441E0: 100%|██████████| 2485/2485 [02:47<00:00, 14.81it/s]\n"
     ]
    },
    {
     "name": "stdout",
     "output_type": "stream",
     "text": [
      "done: SC4441E0\n"
     ]
    },
    {
     "name": "stderr",
     "output_type": "stream",
     "text": [
      "SC4442E0: 100%|██████████| 2629/2629 [02:57<00:00, 14.79it/s]\n"
     ]
    },
    {
     "name": "stdout",
     "output_type": "stream",
     "text": [
      "done: SC4442E0\n"
     ]
    },
    {
     "name": "stderr",
     "output_type": "stream",
     "text": [
      "SC4451F0: 100%|██████████| 2577/2577 [02:53<00:00, 14.82it/s]\n"
     ]
    },
    {
     "name": "stdout",
     "output_type": "stream",
     "text": [
      "done: SC4451F0\n"
     ]
    },
    {
     "name": "stderr",
     "output_type": "stream",
     "text": [
      "SC4452F0: 100%|██████████| 2451/2451 [02:45<00:00, 14.82it/s]\n"
     ]
    },
    {
     "name": "stdout",
     "output_type": "stream",
     "text": [
      "done: SC4452F0\n"
     ]
    },
    {
     "name": "stderr",
     "output_type": "stream",
     "text": [
      "SC4461F0: 100%|██████████| 2599/2599 [02:55<00:00, 14.85it/s]\n"
     ]
    },
    {
     "name": "stdout",
     "output_type": "stream",
     "text": [
      "done: SC4461F0\n"
     ]
    },
    {
     "name": "stderr",
     "output_type": "stream",
     "text": [
      "SC4462F0: 100%|██████████| 2741/2741 [03:04<00:00, 14.83it/s]\n"
     ]
    },
    {
     "name": "stdout",
     "output_type": "stream",
     "text": [
      "done: SC4462F0\n"
     ]
    },
    {
     "name": "stderr",
     "output_type": "stream",
     "text": [
      "SC4471F0: 100%|██████████| 2494/2494 [02:48<00:00, 14.83it/s]\n"
     ]
    },
    {
     "name": "stdout",
     "output_type": "stream",
     "text": [
      "done: SC4471F0\n"
     ]
    },
    {
     "name": "stderr",
     "output_type": "stream",
     "text": [
      "SC4472F0: 100%|██████████| 2560/2560 [02:53<00:00, 14.79it/s]\n"
     ]
    },
    {
     "name": "stdout",
     "output_type": "stream",
     "text": [
      "done: SC4472F0\n"
     ]
    },
    {
     "name": "stderr",
     "output_type": "stream",
     "text": [
      "SC4481F0: 100%|██████████| 2662/2662 [03:00<00:00, 14.78it/s]\n"
     ]
    },
    {
     "name": "stdout",
     "output_type": "stream",
     "text": [
      "done: SC4481F0\n"
     ]
    },
    {
     "name": "stderr",
     "output_type": "stream",
     "text": [
      "SC4482F0: 100%|██████████| 2673/2673 [03:00<00:00, 14.83it/s]\n"
     ]
    },
    {
     "name": "stdout",
     "output_type": "stream",
     "text": [
      "done: SC4482F0\n"
     ]
    },
    {
     "name": "stderr",
     "output_type": "stream",
     "text": [
      "SC4491G0: 100%|██████████| 2652/2652 [02:59<00:00, 14.82it/s]\n"
     ]
    },
    {
     "name": "stdout",
     "output_type": "stream",
     "text": [
      "done: SC4491G0\n"
     ]
    },
    {
     "name": "stderr",
     "output_type": "stream",
     "text": [
      "SC4492G0: 100%|██████████| 1968/1968 [02:12<00:00, 14.82it/s]\n"
     ]
    },
    {
     "name": "stdout",
     "output_type": "stream",
     "text": [
      "done: SC4492G0\n"
     ]
    },
    {
     "name": "stderr",
     "output_type": "stream",
     "text": [
      "SC4501E0: 100%|██████████| 2667/2667 [03:00<00:00, 14.82it/s]\n"
     ]
    },
    {
     "name": "stdout",
     "output_type": "stream",
     "text": [
      "done: SC4501E0\n"
     ]
    },
    {
     "name": "stderr",
     "output_type": "stream",
     "text": [
      "SC4502E0: 100%|██████████| 2633/2633 [02:57<00:00, 14.82it/s]\n"
     ]
    },
    {
     "name": "stdout",
     "output_type": "stream",
     "text": [
      "done: SC4502E0\n"
     ]
    },
    {
     "name": "stderr",
     "output_type": "stream",
     "text": [
      "SC4511E0: 100%|██████████| 2618/2618 [02:57<00:00, 14.72it/s]\n"
     ]
    },
    {
     "name": "stdout",
     "output_type": "stream",
     "text": [
      "done: SC4511E0\n"
     ]
    },
    {
     "name": "stderr",
     "output_type": "stream",
     "text": [
      "SC4512E0: 100%|██████████| 2649/2649 [03:14<00:00, 13.62it/s]\n"
     ]
    },
    {
     "name": "stdout",
     "output_type": "stream",
     "text": [
      "done: SC4512E0\n"
     ]
    },
    {
     "name": "stderr",
     "output_type": "stream",
     "text": [
      "SC4522E0: 100%|██████████| 2707/2707 [04:45<00:00,  9.49it/s]\n"
     ]
    },
    {
     "name": "stdout",
     "output_type": "stream",
     "text": [
      "done: SC4522E0\n"
     ]
    },
    {
     "name": "stderr",
     "output_type": "stream",
     "text": [
      "SC4531E0: 100%|██████████| 2397/2397 [04:13<00:00,  9.46it/s]\n"
     ]
    },
    {
     "name": "stdout",
     "output_type": "stream",
     "text": [
      "done: SC4531E0\n"
     ]
    },
    {
     "name": "stderr",
     "output_type": "stream",
     "text": [
      "SC4532E0: 100%|██████████| 2626/2626 [04:36<00:00,  9.51it/s]\n"
     ]
    },
    {
     "name": "stdout",
     "output_type": "stream",
     "text": [
      "done: SC4532E0\n"
     ]
    },
    {
     "name": "stderr",
     "output_type": "stream",
     "text": [
      "SC4541F0: 100%|██████████| 2559/2559 [04:33<00:00,  9.36it/s]\n"
     ]
    },
    {
     "name": "stdout",
     "output_type": "stream",
     "text": [
      "done: SC4541F0\n"
     ]
    },
    {
     "name": "stderr",
     "output_type": "stream",
     "text": [
      "SC4542F0: 100%|██████████| 2434/2434 [04:17<00:00,  9.45it/s]\n"
     ]
    },
    {
     "name": "stdout",
     "output_type": "stream",
     "text": [
      "done: SC4542F0\n"
     ]
    },
    {
     "name": "stderr",
     "output_type": "stream",
     "text": [
      "SC4551F0: 100%|██████████| 2662/2662 [04:40<00:00,  9.50it/s]\n"
     ]
    },
    {
     "name": "stdout",
     "output_type": "stream",
     "text": [
      "done: SC4551F0\n"
     ]
    },
    {
     "name": "stderr",
     "output_type": "stream",
     "text": [
      "SC4552F0: 100%|██████████| 2726/2726 [04:57<00:00,  9.16it/s]\n"
     ]
    },
    {
     "name": "stdout",
     "output_type": "stream",
     "text": [
      "done: SC4552F0\n"
     ]
    },
    {
     "name": "stderr",
     "output_type": "stream",
     "text": [
      "SC4561F0: 100%|██████████| 2518/2518 [03:34<00:00, 11.75it/s]\n"
     ]
    },
    {
     "name": "stdout",
     "output_type": "stream",
     "text": [
      "done: SC4561F0\n"
     ]
    },
    {
     "name": "stderr",
     "output_type": "stream",
     "text": [
      "SC4562F0: 100%|██████████| 2628/2628 [02:57<00:00, 14.82it/s]\n"
     ]
    },
    {
     "name": "stdout",
     "output_type": "stream",
     "text": [
      "done: SC4562F0\n"
     ]
    },
    {
     "name": "stderr",
     "output_type": "stream",
     "text": [
      "SC4571F0: 100%|██████████| 2638/2638 [02:58<00:00, 14.77it/s]\n"
     ]
    },
    {
     "name": "stdout",
     "output_type": "stream",
     "text": [
      "done: SC4571F0\n"
     ]
    },
    {
     "name": "stderr",
     "output_type": "stream",
     "text": [
      "SC4572F0: 100%|██████████| 2749/2749 [03:07<00:00, 14.69it/s]\n"
     ]
    },
    {
     "name": "stdout",
     "output_type": "stream",
     "text": [
      "done: SC4572F0\n"
     ]
    },
    {
     "name": "stderr",
     "output_type": "stream",
     "text": [
      "SC4581G0: 100%|██████████| 2577/2577 [02:54<00:00, 14.79it/s]\n"
     ]
    },
    {
     "name": "stdout",
     "output_type": "stream",
     "text": [
      "done: SC4581G0\n"
     ]
    },
    {
     "name": "stderr",
     "output_type": "stream",
     "text": [
      "SC4582G0: 100%|██████████| 2454/2454 [02:45<00:00, 14.83it/s]\n"
     ]
    },
    {
     "name": "stdout",
     "output_type": "stream",
     "text": [
      "done: SC4582G0\n"
     ]
    },
    {
     "name": "stderr",
     "output_type": "stream",
     "text": [
      "SC4591G0: 100%|██████████| 2625/2625 [02:58<00:00, 14.75it/s]\n"
     ]
    },
    {
     "name": "stdout",
     "output_type": "stream",
     "text": [
      "done: SC4591G0\n"
     ]
    },
    {
     "name": "stderr",
     "output_type": "stream",
     "text": [
      "SC4592G0: 100%|██████████| 1767/1767 [02:05<00:00, 14.13it/s]\n"
     ]
    },
    {
     "name": "stdout",
     "output_type": "stream",
     "text": [
      "done: SC4592G0\n"
     ]
    },
    {
     "name": "stderr",
     "output_type": "stream",
     "text": [
      "SC4601E0: 100%|██████████| 2527/2527 [04:58<00:00,  8.47it/s]\n"
     ]
    },
    {
     "name": "stdout",
     "output_type": "stream",
     "text": [
      "done: SC4601E0\n"
     ]
    },
    {
     "name": "stderr",
     "output_type": "stream",
     "text": [
      "SC4602E0: 100%|██████████| 2556/2556 [04:28<00:00,  9.51it/s]\n"
     ]
    },
    {
     "name": "stdout",
     "output_type": "stream",
     "text": [
      "done: SC4602E0\n"
     ]
    },
    {
     "name": "stderr",
     "output_type": "stream",
     "text": [
      "SC4611E0: 100%|██████████| 2398/2398 [04:38<00:00,  8.62it/s]\n"
     ]
    },
    {
     "name": "stdout",
     "output_type": "stream",
     "text": [
      "done: SC4611E0\n"
     ]
    },
    {
     "name": "stderr",
     "output_type": "stream",
     "text": [
      "SC4612E0: 100%|██████████| 2578/2578 [04:46<00:00,  9.00it/s]\n"
     ]
    },
    {
     "name": "stdout",
     "output_type": "stream",
     "text": [
      "done: SC4612E0\n"
     ]
    },
    {
     "name": "stderr",
     "output_type": "stream",
     "text": [
      "SC4621E0: 100%|██████████| 2423/2423 [04:01<00:00, 10.02it/s]\n"
     ]
    },
    {
     "name": "stdout",
     "output_type": "stream",
     "text": [
      "done: SC4621E0\n"
     ]
    },
    {
     "name": "stderr",
     "output_type": "stream",
     "text": [
      "SC4622E0: 100%|██████████| 2661/2661 [03:00<00:00, 14.76it/s]"
     ]
    },
    {
     "name": "stdout",
     "output_type": "stream",
     "text": [
      "done: SC4622E0\n"
     ]
    },
    {
     "name": "stderr",
     "output_type": "stream",
     "text": [
      "\n"
     ]
    }
   ],
   "source": [
    "edf_files = []\n",
    "result_files = []\n",
    "\n",
    "for dirname, _, filenames in os.walk('../database/sleep-cassette'):\n",
    "    for filename in filenames:\n",
    "        if filename[9] == 'P':\n",
    "            edf_files.append(os.path.join(dirname, filename))\n",
    "        else:\n",
    "            result_files.append(os.path.join(dirname, filename))\n",
    "N = len(result_files)\n",
    "print(N)\n",
    "\n",
    "X_list = []\n",
    "Y_list = []\n",
    "\n",
    "label_dir = {\n",
    "    'Sleep stage W': 0,\n",
    "    'Sleep stage 1': 1,\n",
    "    'Sleep stage 2': 2,\n",
    "    'Sleep stage 3': 3,\n",
    "    'Sleep stage 4': 4,\n",
    "    'Sleep stage R': 5,\n",
    "    'Sleep stage ?': 6\n",
    "}\n",
    "\n",
    "for i in range(61,121):\n",
    "    result_path = result_files[i]\n",
    "    edf_path = edf_files[i]\n",
    "    extract_single_file(edf_path, result_path)\n"
   ]
  },
  {
   "cell_type": "code",
   "execution_count": null,
   "id": "00110afd",
   "metadata": {},
   "outputs": [],
   "source": []
  },
  {
   "cell_type": "code",
   "execution_count": null,
   "id": "3838c607",
   "metadata": {},
   "outputs": [],
   "source": []
  }
 ],
 "metadata": {
  "kernelspec": {
   "display_name": "Python 3 (ipykernel)",
   "language": "python",
   "name": "python3"
  },
  "language_info": {
   "codemirror_mode": {
    "name": "ipython",
    "version": 3
   },
   "file_extension": ".py",
   "mimetype": "text/x-python",
   "name": "python",
   "nbconvert_exporter": "python",
   "pygments_lexer": "ipython3",
   "version": "3.11.2"
  }
 },
 "nbformat": 4,
 "nbformat_minor": 5
}
