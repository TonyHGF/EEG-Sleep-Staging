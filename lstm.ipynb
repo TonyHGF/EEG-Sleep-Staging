{
 "cells": [
  {
   "cell_type": "code",
   "execution_count": 4,
   "metadata": {},
   "outputs": [],
   "source": [
    "import skorch\n",
    "import numpy as np\n",
    "import torch\n",
    "from torch import nn\n",
    "import os"
   ]
  },
  {
   "cell_type": "code",
   "execution_count": 5,
   "metadata": {},
   "outputs": [],
   "source": [
    "class LSTMNet(nn.Module):\n",
    "    def __init__(self, in_features, hidden_size, out_features):\n",
    "        super(LSTMNet, self).__init__()\n",
    "        self.in_features = in_features\n",
    "        self.hidden_size = hidden_size\n",
    "        self.out_features = out_features\n",
    "        self.linear = nn.Linear(in_features=in_features, out_features=hidden_size * 2, dtype=torch.double)\n",
    "        self.lstm = nn.LSTM(in_features, hidden_size, num_layers=2, bidirectional=True, dropout=0.5, dtype=torch.double)\n",
    "        # self.softmax = nn.Sequential(\n",
    "        #                 nn.Linear(in_features=hidden_size * 2, out_features=out_features),\n",
    "        #                 nn.Softmax(dim=1)\n",
    "        #             )\n",
    "        self.linear2 = nn.Sequential(\n",
    "                        nn.Dropout(0.5),\n",
    "                        nn.Linear(in_features=hidden_size * 2, out_features=out_features, dtype=torch.double)\n",
    "                       )\n",
    "\n",
    "    def forward(self, input):\n",
    "        # linear_output = self.linear(input)\n",
    "        # lstm_output = self.lstm(input.reshape(-1, LENGTH_OF_SIGNAL, self.in_features))\n",
    "        linear_output = self.linear(input)\n",
    "        lstm_output,_ = self.lstm(input.reshape(-1,1,self.in_features))\n",
    "        lstm_output = lstm_output.reshape(-1, self.hidden_size * 2)\n",
    "        # output = self.softmax(linear_output + lstm_output)\n",
    "        output = self.linear2(linear_output + lstm_output)\n",
    "        return output\n",
    "\n",
    "    \n",
    "def predict(model, x, out_features):\n",
    "    tag = model(x)\n",
    "    y=torch.zeros((tag.shape[0],), dtype=int)\n",
    "    for i in range(tag.shape[0]):\n",
    "        mx=tag[i][0]\n",
    "        for j in range(1,tag.shape[1]):\n",
    "            if(tag[i][j]>mx):\n",
    "                mx=tag[i][j]\n",
    "                y[i]=j\n",
    "    return y\n"
   ]
  },
  {
   "cell_type": "code",
   "execution_count": 8,
   "metadata": {},
   "outputs": [
    {
     "ename": "KeyboardInterrupt",
     "evalue": "",
     "output_type": "error",
     "traceback": [
      "\u001b[1;31m---------------------------------------------------------------------------\u001b[0m",
      "\u001b[1;31mKeyboardInterrupt\u001b[0m                         Traceback (most recent call last)",
      "Cell \u001b[1;32mIn[8], line 45\u001b[0m\n\u001b[0;32m     43\u001b[0m         tag_score \u001b[38;5;241m=\u001b[39m model(sentence)\n\u001b[0;32m     44\u001b[0m         loss \u001b[38;5;241m=\u001b[39m loss_function(tag_score, target)\n\u001b[1;32m---> 45\u001b[0m         \u001b[43mloss\u001b[49m\u001b[38;5;241;43m.\u001b[39;49m\u001b[43mbackward\u001b[49m\u001b[43m(\u001b[49m\u001b[43m)\u001b[49m\n\u001b[0;32m     46\u001b[0m         optimizer\u001b[38;5;241m.\u001b[39mstep()\n\u001b[0;32m     48\u001b[0m y_pred \u001b[38;5;241m=\u001b[39m np\u001b[38;5;241m.\u001b[39mzeros((\u001b[38;5;241m0\u001b[39m,))\n",
      "File \u001b[1;32md:\\python\\Lib\\site-packages\\torch\\_tensor.py:492\u001b[0m, in \u001b[0;36mTensor.backward\u001b[1;34m(self, gradient, retain_graph, create_graph, inputs)\u001b[0m\n\u001b[0;32m    482\u001b[0m \u001b[38;5;28;01mif\u001b[39;00m has_torch_function_unary(\u001b[38;5;28mself\u001b[39m):\n\u001b[0;32m    483\u001b[0m     \u001b[38;5;28;01mreturn\u001b[39;00m handle_torch_function(\n\u001b[0;32m    484\u001b[0m         Tensor\u001b[38;5;241m.\u001b[39mbackward,\n\u001b[0;32m    485\u001b[0m         (\u001b[38;5;28mself\u001b[39m,),\n\u001b[1;32m   (...)\u001b[0m\n\u001b[0;32m    490\u001b[0m         inputs\u001b[38;5;241m=\u001b[39minputs,\n\u001b[0;32m    491\u001b[0m     )\n\u001b[1;32m--> 492\u001b[0m \u001b[43mtorch\u001b[49m\u001b[38;5;241;43m.\u001b[39;49m\u001b[43mautograd\u001b[49m\u001b[38;5;241;43m.\u001b[39;49m\u001b[43mbackward\u001b[49m\u001b[43m(\u001b[49m\n\u001b[0;32m    493\u001b[0m \u001b[43m    \u001b[49m\u001b[38;5;28;43mself\u001b[39;49m\u001b[43m,\u001b[49m\u001b[43m \u001b[49m\u001b[43mgradient\u001b[49m\u001b[43m,\u001b[49m\u001b[43m \u001b[49m\u001b[43mretain_graph\u001b[49m\u001b[43m,\u001b[49m\u001b[43m \u001b[49m\u001b[43mcreate_graph\u001b[49m\u001b[43m,\u001b[49m\u001b[43m \u001b[49m\u001b[43minputs\u001b[49m\u001b[38;5;241;43m=\u001b[39;49m\u001b[43minputs\u001b[49m\n\u001b[0;32m    494\u001b[0m \u001b[43m\u001b[49m\u001b[43m)\u001b[49m\n",
      "File \u001b[1;32md:\\python\\Lib\\site-packages\\torch\\autograd\\__init__.py:251\u001b[0m, in \u001b[0;36mbackward\u001b[1;34m(tensors, grad_tensors, retain_graph, create_graph, grad_variables, inputs)\u001b[0m\n\u001b[0;32m    246\u001b[0m     retain_graph \u001b[38;5;241m=\u001b[39m create_graph\n\u001b[0;32m    248\u001b[0m \u001b[38;5;66;03m# The reason we repeat the same comment below is that\u001b[39;00m\n\u001b[0;32m    249\u001b[0m \u001b[38;5;66;03m# some Python versions print out the first line of a multi-line function\u001b[39;00m\n\u001b[0;32m    250\u001b[0m \u001b[38;5;66;03m# calls in the traceback and some print out the last line\u001b[39;00m\n\u001b[1;32m--> 251\u001b[0m \u001b[43mVariable\u001b[49m\u001b[38;5;241;43m.\u001b[39;49m\u001b[43m_execution_engine\u001b[49m\u001b[38;5;241;43m.\u001b[39;49m\u001b[43mrun_backward\u001b[49m\u001b[43m(\u001b[49m\u001b[43m  \u001b[49m\u001b[38;5;66;43;03m# Calls into the C++ engine to run the backward pass\u001b[39;49;00m\n\u001b[0;32m    252\u001b[0m \u001b[43m    \u001b[49m\u001b[43mtensors\u001b[49m\u001b[43m,\u001b[49m\n\u001b[0;32m    253\u001b[0m \u001b[43m    \u001b[49m\u001b[43mgrad_tensors_\u001b[49m\u001b[43m,\u001b[49m\n\u001b[0;32m    254\u001b[0m \u001b[43m    \u001b[49m\u001b[43mretain_graph\u001b[49m\u001b[43m,\u001b[49m\n\u001b[0;32m    255\u001b[0m \u001b[43m    \u001b[49m\u001b[43mcreate_graph\u001b[49m\u001b[43m,\u001b[49m\n\u001b[0;32m    256\u001b[0m \u001b[43m    \u001b[49m\u001b[43minputs\u001b[49m\u001b[43m,\u001b[49m\n\u001b[0;32m    257\u001b[0m \u001b[43m    \u001b[49m\u001b[43mallow_unreachable\u001b[49m\u001b[38;5;241;43m=\u001b[39;49m\u001b[38;5;28;43;01mTrue\u001b[39;49;00m\u001b[43m,\u001b[49m\n\u001b[0;32m    258\u001b[0m \u001b[43m    \u001b[49m\u001b[43maccumulate_grad\u001b[49m\u001b[38;5;241;43m=\u001b[39;49m\u001b[38;5;28;43;01mTrue\u001b[39;49;00m\u001b[43m,\u001b[49m\n\u001b[0;32m    259\u001b[0m \u001b[43m\u001b[49m\u001b[43m)\u001b[49m\n",
      "\u001b[1;31mKeyboardInterrupt\u001b[0m: "
     ]
    }
   ],
   "source": [
    "import scoring\n",
    "\n",
    "feature_number = 105\n",
    "X = []\n",
    "y = []\n",
    "\n",
    "model = LSTMNet(in_features=feature_number, hidden_size=20, out_features=7)\n",
    "\n",
    "\n",
    "for dirname, _, filenames in os.walk('./result'):\n",
    "    for filename in filenames:\n",
    "        file_path = os.path.join(dirname, filename)\n",
    "        file = np.load(file_path)\n",
    "        X.append(file['features'])\n",
    "        y.append(file['labels'])\n",
    "\n",
    "num_file = len(X)\n",
    "# print(num_file)\n",
    "\n",
    "X_train = X[num_file//4:num_file]\n",
    "y_train = y[num_file//4:num_file]\n",
    "\n",
    "X_test = X[0:num_file//4]\n",
    "y_test = y[0:num_file//4]\n",
    "\n",
    "optimizer = torch.optim.SGD(model.parameters(), lr=0.1)\n",
    "loss_function = nn.CrossEntropyLoss()\n",
    "max_epochs = 50\n",
    "batch_size = 32\n",
    "\n",
    "for epoch in range(max_epochs):\n",
    "    sum_loss = 0\n",
    "    array = np.arange(len(X_train))\n",
    "    slice=np.random.choice(array.shape[0],batch_size)\n",
    "    for i in slice:\n",
    "    # for i in range(len(X_train)):\n",
    "        sentence = torch.DoubleTensor(X_train[i])\n",
    "        target = torch.LongTensor(y_train[i])\n",
    "        # f=[0,0,0,0,0,0,0,0]\n",
    "        # for t in target:\n",
    "        #     f[t]=1\n",
    "        # print(f)\n",
    "        tag_score = model(sentence)\n",
    "        loss = loss_function(tag_score, target)\n",
    "        loss.backward()\n",
    "        optimizer.step()\n",
    "\n",
    "    y_pred = np.zeros((0,))\n",
    "    y_true = np.zeros((0,))\n",
    "    for i in range(len(X_train)):\n",
    "        y_pred=np.concatenate((y_pred, predict(model, X_train[i], out_features=7)))\n",
    "        y_true = np.concatenate((y_true, y_train[i]))\n",
    "    scoring.score(y_pred, y_true)"
   ]
  }
 ],
 "metadata": {
  "kernelspec": {
   "display_name": "Python 3",
   "language": "python",
   "name": "python3"
  },
  "language_info": {
   "codemirror_mode": {
    "name": "ipython",
    "version": 3
   },
   "file_extension": ".py",
   "mimetype": "text/x-python",
   "name": "python",
   "nbconvert_exporter": "python",
   "pygments_lexer": "ipython3",
   "version": "3.11.2"
  }
 },
 "nbformat": 4,
 "nbformat_minor": 2
}
