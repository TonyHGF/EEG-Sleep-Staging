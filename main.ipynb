{
 "cells": [
  {
   "cell_type": "code",
   "execution_count": 1,
   "id": "41f6b774",
   "metadata": {},
   "outputs": [],
   "source": [
    "from read_edf import plot_signals\n",
    "from read_result import read_result_file\n",
    "from read_result import plot_sleep_stages\n",
    "from split_signal import split_edf_by_annotations\n",
    "from split_signal import split_edf_by_30s\n",
    "from sklearn.decomposition import PCA\n",
    "import processing_data\n",
    "import os\n",
    "import matplotlib.pyplot as plt\n",
    "import numpy as np\n",
    "from sklearn import svm\n",
    "import svm_builder\n",
    "import importlib"
   ]
  },
  {
   "cell_type": "code",
   "execution_count": 2,
   "id": "dde2bf17",
   "metadata": {},
   "outputs": [],
   "source": [
    "# edf_path = \"../database/sleep-telemetry/ST7011J0-PSG.edf\"\n",
    "# result_path = \"../database/sleep-telemetry/ST7011JP-Hypnogram.edf\""
   ]
  },
  {
   "cell_type": "code",
   "execution_count": 3,
   "id": "51f11965",
   "metadata": {},
   "outputs": [
    {
     "name": "stdout",
     "output_type": "stream",
     "text": [
      "153\n",
      "(14431, 1800)\n",
      "(14431, 1)\n"
     ]
    }
   ],
   "source": [
    "\n",
    "\n",
    "edf_files = []\n",
    "result_files = []\n",
    "\n",
    "for dirname, _, filenames in os.walk('../database/sleep-cassette'):\n",
    "    for filename in filenames:\n",
    "        if filename[9] == 'P':\n",
    "            edf_files.append(os.path.join(dirname, filename))\n",
    "        else:\n",
    "            result_files.append(os.path.join(dirname, filename))\n",
    "N = len(result_files)\n",
    "\n",
    "X = np.empty((0,18000//processing_data.down_sampling_rate), float)\n",
    "Y = np.empty((0,1), str)\n",
    "\n",
    "print(N)\n",
    "\n",
    "for i in range(N):\n",
    "    result_path = result_files[i]\n",
    "    edf_path = edf_files[i]\n",
    "    # print(edf_path)\n",
    "    # print(result_path)\n",
    "    start_times, durations, labels = read_result_file(result_path)\n",
    "    # print(durations)\n",
    "    # print(labels)\n",
    "    res = split_edf_by_annotations(edf_path, start_times, durations, labels)\n",
    "    # print(res)\n",
    "    split_signals = split_edf_by_30s(res)\n",
    "    for (_, signals) in split_signals:\n",
    "        for i in range(3):\n",
    "            signals[i] = processing_data.signal_filter(signals[i])\n",
    "    cur_X, cur_Y = processing_data.generate_matrix(split_signals)\n",
    "    # print(cur_X.shape, cur_Y.shape)\n",
    "    X = np.vstack((cur_X, X))\n",
    "    Y = np.vstack((cur_Y, Y))\n",
    "    # print(cur_X.shape)\n",
    "    # print(cur_Y.shape)\n",
    "    # break\n",
    "print(X.shape)\n",
    "print(Y.shape)"
   ]
  },
  {
   "cell_type": "code",
   "execution_count": 4,
   "id": "cb20e992",
   "metadata": {},
   "outputs": [
    {
     "name": "stdout",
     "output_type": "stream",
     "text": [
      "(14431, 200)\n",
      "(14431, 414)\n"
     ]
    }
   ],
   "source": [
    "pca1 = PCA(n_components= 200).fit(X)\n",
    "pca2 = PCA(n_components= 0.8).fit(X)\n",
    "X_pca1 = pca1.transform(X)\n",
    "X_pca2 = pca2.transform(X)\n",
    "print(X_pca1.shape)\n",
    "print(X_pca2.shape)"
   ]
  },
  {
   "cell_type": "code",
   "execution_count": 5,
   "id": "acb03cc9",
   "metadata": {},
   "outputs": [],
   "source": [
    "model = svm_builder.train_svm_model(X_pca1, Y)"
   ]
  }
 ],
 "metadata": {
  "kernelspec": {
   "display_name": "Python 3 (ipykernel)",
   "language": "python",
   "name": "python3"
  },
  "language_info": {
   "codemirror_mode": {
    "name": "ipython",
    "version": 3
   },
   "file_extension": ".py",
   "mimetype": "text/x-python",
   "name": "python",
   "nbconvert_exporter": "python",
   "pygments_lexer": "ipython3",
   "version": "3.11.2"
  }
 },
 "nbformat": 4,
 "nbformat_minor": 5
}
