{
 "cells": [
  {
   "cell_type": "code",
   "execution_count": 9,
   "id": "5c89cb38",
   "metadata": {},
   "outputs": [],
   "source": [
    "import matplotlib.pyplot as plt\n",
    "import numpy as np\n",
    "\n",
    "frequencies = [100, 100, 100, 1, 1, 1, 1]"
   ]
  },
  {
   "cell_type": "code",
   "execution_count": 10,
   "id": "f64adac2",
   "metadata": {},
   "outputs": [
    {
     "name": "stdout",
     "output_type": "stream",
     "text": [
      "Signal Labels: ['EEG Fpz-Cz', 'EEG Pz-Oz', 'EOG horizontal', 'Resp oro-nasal', 'EMG submental', 'Temp rectal', 'Event marker']\n",
      "Data Shape: [8490000, 8490000, 8490000, 84900, 84900, 84900, 84900]\n",
      "Sample Frequency: 100.0\n"
     ]
    }
   ],
   "source": [
    "from read_edf import read_edf_file\n",
    "\n",
    "file_path = \"../database/sleep-cassette/SC4002E0-PSG.edf\"\n",
    "labels, data, frequency = read_edf_file(file_path)\n",
    "\n",
    "if labels and data and frequency:\n",
    "    print(\"Signal Labels:\", labels)\n",
    "    print(\"Data Shape:\", [len(channel) for channel in data])\n",
    "    print(\"Sample Frequency:\", frequency)\n",
    "else:\n",
    "    print(\"Failed to read .edf file.\")\n"
   ]
  },
  {
   "cell_type": "code",
   "execution_count": 11,
   "id": "39d06ae8",
   "metadata": {
    "scrolled": true
   },
   "outputs": [],
   "source": [
    "from read_edf import plot_signals\n",
    "# plot_signals(labels, data, frequency)"
   ]
  },
  {
   "cell_type": "code",
   "execution_count": 12,
   "id": "fbef854b",
   "metadata": {},
   "outputs": [],
   "source": [
    "from read_result import read_result_file\n",
    "result_path = \"../database/sleep-cassette/SC4001EC-Hypnogram.edf\"\n",
    "start_times, durations, labels = read_result_file(result_path)\n",
    "# print(labels)"
   ]
  },
  {
   "cell_type": "code",
   "execution_count": 13,
   "id": "7ddb2a65",
   "metadata": {},
   "outputs": [],
   "source": [
    "from read_result import plot_sleep_stages\n",
    "# plot_sleep_stages(start_times, durations, labels)"
   ]
  },
  {
   "cell_type": "code",
   "execution_count": 15,
   "id": "2cbb3760",
   "metadata": {},
   "outputs": [
    {
     "name": "stdout",
     "output_type": "stream",
     "text": [
      "[-48.93919414  -8.71575092 -32.54432234 ...  27.94358974 -28.26739927\n",
      " -14.52014652]\n",
      "[ -2.05815559 -11.74275257 -25.9005491  ...  10.60237922  13.89097164\n",
      "  11.14604717]\n"
     ]
    }
   ],
   "source": [
    "from split_signal import split_edf_by_annotations\n",
    "from split_signal import split_edf_by_30s\n",
    "annotations = read_result_file(result_path)\n",
    "edf_path = file_path\n",
    "import pyedflib\n",
    "from band_pass import signal_filter\n",
    "import band_pass\n",
    "\n",
    "split_signals = split_edf_by_annotations(file_path, *annotations)\n",
    "new_split_signals = split_edf_by_30s(split_signals)\n",
    "for (_,signals) in new_split_signals:\n",
    "    # print(signals[0])\n",
    "    signals[0] = signal_filter(signals[0])\n",
    "    # print(signals[0])\n",
    "    signals[1] = signal_filter(signals[1])\n",
    "    signals[2] = signal_filter(signals[2])\n",
    "    break"
   ]
  },
  {
   "cell_type": "code",
   "execution_count": null,
   "id": "b561b9e1",
   "metadata": {},
   "outputs": [],
   "source": []
  }
 ],
 "metadata": {
  "kernelspec": {
   "display_name": "Python 3 (ipykernel)",
   "language": "python",
   "name": "python3"
  },
  "language_info": {
   "codemirror_mode": {
    "name": "ipython",
    "version": 3
   },
   "file_extension": ".py",
   "mimetype": "text/x-python",
   "name": "python",
   "nbconvert_exporter": "python",
   "pygments_lexer": "ipython3",
   "version": "3.11.2"
  }
 },
 "nbformat": 4,
 "nbformat_minor": 5
}
