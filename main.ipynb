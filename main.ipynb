{
 "cells": [
  {
   "cell_type": "code",
   "execution_count": 13,
   "id": "41f6b774",
   "metadata": {},
   "outputs": [],
   "source": [
    "from read_edf import plot_signals\n",
    "from read_result import read_result_file\n",
    "from read_result import plot_sleep_stages\n",
    "from split_signal import split_edf_by_annotations\n",
    "from split_signal import split_edf_by_30s\n",
    "from sklearn.decomposition import PCA\n",
    "import processing_data\n",
    "import os\n",
    "import matplotlib.pyplot as plt\n",
    "import numpy as np\n",
    "from sklearn import svm\n",
    "import svm_builder\n",
    "import importlib\n",
    "import scoring"
   ]
  },
  {
   "cell_type": "code",
   "execution_count": 2,
   "id": "dde2bf17",
   "metadata": {},
   "outputs": [],
   "source": [
    "feature_number = 105"
   ]
  },
  {
   "cell_type": "code",
   "execution_count": 3,
   "id": "d708b17e",
   "metadata": {},
   "outputs": [
    {
     "name": "stdout",
     "output_type": "stream",
     "text": [
      "(393345, 105)\n",
      "(393345,)\n"
     ]
    }
   ],
   "source": [
    "\n",
    "X = np.empty((0,feature_number))\n",
    "y = np.empty((0,))\n",
    "for dirname, _, filenames in os.walk('./result'):\n",
    "    for filename in filenames:\n",
    "        file_path = os.path.join(dirname, filename)\n",
    "        file = np.load(file_path)\n",
    "        X = np.concatenate((X, file['features']))\n",
    "        y = np.concatenate((y, file['labels']))\n",
    "print(X.shape)\n",
    "print(y.shape)\n"
   ]
  },
  {
   "cell_type": "code",
   "execution_count": 11,
   "id": "51f11965",
   "metadata": {},
   "outputs": [],
   "source": [
    "from sklearn import preprocessing\n",
    "N = len(y)\n",
    "X_test,y_test = X[0:N//4].copy(),y[0:N//4].copy()\n",
    "X_train,y_train = X[N//4:N].copy(),y[N//4:N].copy()\n",
    "scaler = preprocessing.StandardScaler().fit(X_train)\n",
    "X_train = scaler.fit_transform(X_train)\n",
    "X_test = scaler.fit_transform(X_test)"
   ]
  },
  {
   "cell_type": "code",
   "execution_count": 12,
   "id": "cb20e992",
   "metadata": {},
   "outputs": [
    {
     "name": "stdout",
     "output_type": "stream",
     "text": [
      "(295009, 82)\n",
      "(98336, 82)\n"
     ]
    }
   ],
   "source": [
    "pca = PCA(n_components= 0.999).fit(X_train)\n",
    "# pca2 = PCA(n_components= 0.95).fit(X_train)\n",
    "X_train_pca = pca.transform(X_train)\n",
    "X_test_pca = pca.transform(X_test)\n",
    "print(X_train_pca.shape)\n",
    "print(X_test_pca.shape)"
   ]
  },
  {
   "cell_type": "code",
   "execution_count": 16,
   "id": "acb03cc9",
   "metadata": {},
   "outputs": [],
   "source": [
    "import importlib"
   ]
  },
  {
   "cell_type": "code",
   "execution_count": 20,
   "id": "f8597e78",
   "metadata": {},
   "outputs": [
    {
     "name": "stdout",
     "output_type": "stream",
     "text": [
      "Training set score of logistic: 0.893107222066187\n",
      "Testing set score of logistic: 0.893223958509881\n",
      "Training set score of logistic: 0.8911702323419174\n",
      "Testing set score of logistic: 0.891517801656441\n"
     ]
    }
   ],
   "source": [
    "import logistic_builder\n",
    "importlib.reload(logistic_builder)\n",
    "model_logistic = logistic_builder.train_logistic_model(X_train, y_train)\n",
    "model_logistic_pca = logistic_builder.train_logistic_model(X_train_pca, y_train)\n"
   ]
  },
  {
   "cell_type": "code",
   "execution_count": 26,
   "id": "e47fb439",
   "metadata": {},
   "outputs": [
    {
     "name": "stdout",
     "output_type": "stream",
     "text": [
      "Class 0: Precision: 0.953, Recall: 0.986\n",
      "Class 1: Precision: 0.447, Recall: 0.140\n",
      "Class 2: Precision: 0.733, Recall: 0.899\n",
      "Class 3: Precision: 0.468, Recall: 0.034\n",
      "Class 4: Precision: 0.897, Recall: 0.546\n",
      "Class 5: Precision: 0.763, Recall: 0.541\n",
      "Class 6: Precision: 0.939, Recall: 0.670\n",
      "mf1 score: 0.629\n",
      "acc_score: 0.893\n",
      "kappa_score: 0.960\n",
      "Class 0: Precision: 0.967, Recall: 0.978\n",
      "Class 1: Precision: 0.243, Recall: 0.278\n",
      "Class 2: Precision: 0.675, Recall: 0.868\n",
      "Class 3: Precision: 0.085, Recall: 0.002\n",
      "Class 4: Precision: 0.946, Recall: 0.399\n",
      "Class 5: Precision: 0.757, Recall: 0.585\n",
      "Class 6: Precision: 0.032, Recall: 0.001\n",
      "mf1 score: 0.483\n",
      "acc_score: 0.882\n",
      "kappa_score: 0.747\n",
      "Class 0: Precision: 0.951, Recall: 0.985\n",
      "Class 1: Precision: 0.447, Recall: 0.133\n",
      "Class 2: Precision: 0.729, Recall: 0.897\n",
      "Class 3: Precision: 0.457, Recall: 0.032\n",
      "Class 4: Precision: 0.895, Recall: 0.529\n",
      "Class 5: Precision: 0.757, Recall: 0.534\n",
      "Class 6: Precision: 0.909, Recall: 0.565\n",
      "mf1 score: 0.613\n",
      "acc_score: 0.891\n",
      "kappa_score: 0.960\n",
      "Class 0: Precision: 0.965, Recall: 0.978\n",
      "Class 1: Precision: 0.239, Recall: 0.261\n",
      "Class 2: Precision: 0.666, Recall: 0.868\n",
      "Class 3: Precision: 0.083, Recall: 0.001\n",
      "Class 4: Precision: 0.963, Recall: 0.306\n",
      "Class 5: Precision: 0.757, Recall: 0.575\n",
      "Class 6: Precision: 0.000, Recall: 0.000\n",
      "mf1 score: 0.471\n",
      "acc_score: 0.880\n",
      "kappa_score: 0.741\n"
     ]
    },
    {
     "name": "stderr",
     "output_type": "stream",
     "text": [
      "c:\\Users\\29485\\Desktop\\shtech\\cs182\\project\\iml-project\\scoring.py:46: RuntimeWarning: overflow encountered in scalar add\n",
      "  pe += np.dot(cfm[:,i], cfm[i,:])\n",
      "c:\\Users\\29485\\Desktop\\shtech\\cs182\\project\\iml-project\\scoring.py:46: RuntimeWarning: overflow encountered in scalar add\n",
      "  pe += np.dot(cfm[:,i], cfm[i,:])\n"
     ]
    }
   ],
   "source": [
    "scoring.score(model_logistic.predict(X_train).tolist(),y_train)\n",
    "scoring.score(model_logistic.predict(X_test).tolist(),y_test)\n",
    "scoring.score(model_logistic_pca.predict(X_train_pca).tolist(),y_train)\n",
    "scoring.score(model_logistic_pca.predict(X_test_pca).tolist(),y_test)"
   ]
  },
  {
   "cell_type": "code",
   "execution_count": 27,
   "id": "d79915b4",
   "metadata": {},
   "outputs": [
    {
     "name": "stdout",
     "output_type": "stream",
     "text": [
      "Training set score of Bayes: 0.5895421924786689\n",
      "Testing set score of Bayes: 0.5893811509214377\n",
      "Training set score of Bayes: 0.43748365664920147\n",
      "Testing set score of Bayes: 0.4352959786673898\n"
     ]
    }
   ],
   "source": [
    "import bayes_builder\n",
    "importlib.reload(bayes_builder)\n",
    "model_bayes = bayes_builder.train_bayes_model(X_train, y_train)\n",
    "model_bayes_pca = bayes_builder.train_bayes_model(X_train_pca, y_train)\n"
   ]
  },
  {
   "cell_type": "code",
   "execution_count": 28,
   "id": "dc081ac7",
   "metadata": {},
   "outputs": [
    {
     "name": "stdout",
     "output_type": "stream",
     "text": [
      "Class 0: Precision: 0.989, Recall: 0.604\n",
      "Class 1: Precision: 0.082, Recall: 0.114\n",
      "Class 2: Precision: 0.476, Recall: 0.720\n",
      "Class 3: Precision: 0.125, Recall: 0.386\n",
      "Class 4: Precision: 0.268, Recall: 0.858\n",
      "Class 5: Precision: 0.158, Recall: 0.453\n",
      "Class 6: Precision: 0.018, Recall: 0.787\n",
      "mf1 score: 0.393\n",
      "acc_score: 0.589\n",
      "kappa_score: 0.282\n",
      "Class 0: Precision: 0.978, Recall: 0.679\n",
      "Class 1: Precision: 0.066, Recall: 0.219\n",
      "Class 2: Precision: 0.572, Recall: 0.743\n",
      "Class 3: Precision: 0.366, Recall: 0.472\n",
      "Class 4: Precision: 0.602, Recall: 0.713\n",
      "Class 5: Precision: 0.181, Recall: 0.430\n",
      "Class 6: Precision: 0.002, Recall: 0.007\n",
      "mf1 score: 0.428\n",
      "acc_score: 0.655\n",
      "kappa_score: 0.874\n",
      "Class 0: Precision: 0.952, Recall: 0.382\n",
      "Class 1: Precision: 0.142, Recall: 0.131\n",
      "Class 2: Precision: 0.234, Recall: 0.817\n",
      "Class 3: Precision: 0.277, Recall: 0.472\n",
      "Class 4: Precision: 0.518, Recall: 0.567\n",
      "Class 5: Precision: 0.453, Recall: 0.288\n",
      "Class 6: Precision: 0.014, Recall: 0.787\n",
      "mf1 score: 0.422\n",
      "acc_score: 0.437\n",
      "kappa_score: 0.447\n",
      "Class 0: Precision: 0.934, Recall: 0.455\n",
      "Class 1: Precision: 0.102, Recall: 0.214\n",
      "Class 2: Precision: 0.249, Recall: 0.813\n",
      "Class 3: Precision: 0.452, Recall: 0.474\n",
      "Class 4: Precision: 0.774, Recall: 0.371\n",
      "Class 5: Precision: 0.455, Recall: 0.270\n",
      "Class 6: Precision: 0.004, Recall: 0.020\n",
      "mf1 score: 0.397\n",
      "acc_score: 0.488\n",
      "kappa_score: 4.607\n"
     ]
    }
   ],
   "source": [
    "scoring.score(model_bayes.predict(X_train).tolist(),y_train)\n",
    "scoring.score(model_bayes.predict(X_test).tolist(),y_test)\n",
    "scoring.score(model_bayes_pca.predict(X_train_pca).tolist(),y_train)\n",
    "scoring.score(model_bayes_pca.predict(X_test_pca).tolist(),y_test)"
   ]
  },
  {
   "cell_type": "code",
   "execution_count": 32,
   "id": "555550d6",
   "metadata": {},
   "outputs": [
    {
     "name": "stdout",
     "output_type": "stream",
     "text": [
      "training set score: 0.8905503956301511\n",
      "testing set score: 0.8913031196682598\n",
      "training set score: 0.8887635226095125\n",
      "testing set score: 0.8895517666067817\n"
     ]
    }
   ],
   "source": [
    "import svm_builder\n",
    "importlib.reload(svm_builder)\n",
    "model_svm = svm_builder.train_svm_model(X_train, y_train)\n",
    "model_svm_pca = svm_builder.train_svm_model(X_train_pca, y_train)\n"
   ]
  },
  {
   "cell_type": "code",
   "execution_count": 36,
   "id": "49a393f1",
   "metadata": {},
   "outputs": [
    {
     "name": "stdout",
     "output_type": "stream",
     "text": [
      "Class 0: Precision: 0.949, Recall: 0.987\n",
      "Class 1: Precision: 0.493, Recall: 0.073\n",
      "Class 2: Precision: 0.717, Recall: 0.908\n",
      "Class 3: Precision: 0.398, Recall: 0.012\n",
      "Class 4: Precision: 0.906, Recall: 0.509\n",
      "Class 5: Precision: 0.762, Recall: 0.516\n",
      "Class 6: Precision: 0.956, Recall: 0.748\n",
      "mf1 score: 0.622\n",
      "acc_score: 0.891\n",
      "kappa_score: 0.957\n",
      "Class 0: Precision: 0.963, Recall: 0.980\n",
      "Class 1: Precision: 0.300, Recall: 0.152\n",
      "Class 2: Precision: 0.667, Recall: 0.887\n",
      "Class 3: Precision: 0.150, Recall: 0.001\n",
      "Class 4: Precision: 0.949, Recall: 0.373\n",
      "Class 5: Precision: 0.735, Recall: 0.574\n",
      "Class 6: Precision: 0.028, Recall: 0.001\n",
      "mf1 score: 0.476\n",
      "acc_score: 0.883\n",
      "kappa_score: 0.735\n",
      "Class 0: Precision: 0.948, Recall: 0.987\n",
      "Class 1: Precision: 0.492, Recall: 0.065\n",
      "Class 2: Precision: 0.714, Recall: 0.907\n",
      "Class 3: Precision: 0.380, Recall: 0.008\n",
      "Class 4: Precision: 0.908, Recall: 0.487\n",
      "Class 5: Precision: 0.757, Recall: 0.506\n",
      "Class 6: Precision: 0.897, Recall: 0.570\n",
      "mf1 score: 0.596\n",
      "acc_score: 0.889\n",
      "kappa_score: 0.957\n",
      "Class 0: Precision: 0.961, Recall: 0.980\n",
      "Class 1: Precision: 0.287, Recall: 0.134\n",
      "Class 2: Precision: 0.652, Recall: 0.890\n",
      "Class 3: Precision: 0.308, Recall: 0.002\n",
      "Class 4: Precision: 0.981, Recall: 0.196\n",
      "Class 5: Precision: 0.740, Recall: 0.555\n",
      "Class 6: Precision: 0.033, Recall: 0.001\n",
      "mf1 score: 0.465\n",
      "acc_score: 0.879\n",
      "kappa_score: 0.724\n"
     ]
    },
    {
     "name": "stderr",
     "output_type": "stream",
     "text": [
      "c:\\Users\\29485\\Desktop\\shtech\\cs182\\project\\iml-project\\scoring.py:46: RuntimeWarning: overflow encountered in scalar add\n",
      "  pe += np.dot(cfm[:,i], cfm[i,:])\n",
      "c:\\Users\\29485\\Desktop\\shtech\\cs182\\project\\iml-project\\scoring.py:46: RuntimeWarning: overflow encountered in scalar add\n",
      "  pe += np.dot(cfm[:,i], cfm[i,:])\n"
     ]
    }
   ],
   "source": [
    "scoring.score(model_svm.predict(X_train),y_train)\n",
    "scoring.score(model_svm.predict(X_test),y_test)\n",
    "scoring.score(model_svm_pca.predict(X_train_pca),y_train)\n",
    "scoring.score(model_svm_pca.predict(X_test_pca),y_test)"
   ]
  },
  {
   "cell_type": "code",
   "execution_count": null,
   "id": "fe7547b6",
   "metadata": {},
   "outputs": [],
   "source": []
  }
 ],
 "metadata": {
  "kernelspec": {
   "display_name": "Python 3 (ipykernel)",
   "language": "python",
   "name": "python3"
  },
  "language_info": {
   "codemirror_mode": {
    "name": "ipython",
    "version": 3
   },
   "file_extension": ".py",
   "mimetype": "text/x-python",
   "name": "python",
   "nbconvert_exporter": "python",
   "pygments_lexer": "ipython3",
   "version": "3.11.2"
  }
 },
 "nbformat": 4,
 "nbformat_minor": 5
}
