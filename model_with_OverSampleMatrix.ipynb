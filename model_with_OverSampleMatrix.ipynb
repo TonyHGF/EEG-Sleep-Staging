{
 "cells": [
  {
   "cell_type": "code",
   "execution_count": 2,
   "id": "81e202db",
   "metadata": {},
   "outputs": [],
   "source": [
    "from read_edf import plot_signals\n",
    "from read_result import read_result_file\n",
    "from read_result import plot_sleep_stages\n",
    "from split_signal import split_edf_by_annotations\n",
    "from split_signal import split_edf_by_30s\n",
    "from sklearn.decomposition import PCA\n",
    "import processing_data\n",
    "import os\n",
    "import matplotlib.pyplot as plt\n",
    "import numpy as np\n",
    "from sklearn import svm\n",
    "import svm_builder\n",
    "import importlib"
   ]
  },
  {
   "cell_type": "code",
   "execution_count": 3,
   "id": "3c0bbe85",
   "metadata": {},
   "outputs": [
    {
     "name": "stdout",
     "output_type": "stream",
     "text": [
      "(393345, 105)\n",
      "(393345,)\n"
     ]
    }
   ],
   "source": [
    "feature_number = 105\n",
    "\n",
    "X = np.empty((0,feature_number))\n",
    "y = np.empty((0,))\n",
    "for dirname, _, filenames in os.walk('./result'):\n",
    "    for filename in filenames:\n",
    "        file_path = os.path.join(dirname, filename)\n",
    "        file = np.load(file_path)\n",
    "        X = np.concatenate((X, file['features']))\n",
    "        y = np.concatenate((y, file['labels']))\n",
    "print(X.shape)\n",
    "print(y.shape)"
   ]
  },
  {
   "cell_type": "markdown",
   "id": "68d2580d",
   "metadata": {},
   "source": [
    "下面这段是 Balance with Over sample"
   ]
  },
  {
   "cell_type": "code",
   "execution_count": 4,
   "id": "5b320b7c",
   "metadata": {},
   "outputs": [
    {
     "name": "stdout",
     "output_type": "stream",
     "text": [
      "(1968512, 105)\n",
      "(1968512,)\n"
     ]
    }
   ],
   "source": [
    "import balance\n",
    "importlib.reload(balance)\n",
    "balance_x, balance_y = balance.get_balance_class_oversample(X, y)\n",
    "print(balance_x.shape)\n",
    "print(balance_y.shape)"
   ]
  },
  {
   "cell_type": "code",
   "execution_count": 5,
   "id": "682bfc81",
   "metadata": {},
   "outputs": [],
   "source": [
    "from sklearn import preprocessing\n",
    "scaler = preprocessing.StandardScaler().fit(balance_x)\n",
    "X_scaled = scaler.fit_transform(balance_x)"
   ]
  },
  {
   "cell_type": "code",
   "execution_count": 6,
   "id": "034177b4",
   "metadata": {},
   "outputs": [
    {
     "name": "stdout",
     "output_type": "stream",
     "text": [
      "(1968512, 81)\n",
      "(1968512, 43)\n"
     ]
    }
   ],
   "source": [
    "pca1 = PCA(n_components= 0.999).fit(X_scaled)\n",
    "pca2 = PCA(n_components= 0.95).fit(X_scaled)\n",
    "X_pca1 = pca1.transform(X_scaled)\n",
    "X_pca2 = pca2.transform(X_scaled)\n",
    "print(X_pca1.shape)\n",
    "print(X_pca2.shape)"
   ]
  },
  {
   "cell_type": "code",
   "execution_count": 7,
   "id": "14a203b7",
   "metadata": {},
   "outputs": [
    {
     "name": "stdout",
     "output_type": "stream",
     "text": [
      "(1968512, 81) (1968512,)\n"
     ]
    }
   ],
   "source": [
    "model_X = X_pca1\n",
    "model_y = balance_y\n",
    "print(model_X.shape, model_y.shape)"
   ]
  },
  {
   "cell_type": "code",
   "execution_count": 8,
   "id": "c1eea782",
   "metadata": {},
   "outputs": [],
   "source": [
    "from sklearn.model_selection import train_test_split"
   ]
  },
  {
   "cell_type": "code",
   "execution_count": 9,
   "id": "8c9e60f5",
   "metadata": {},
   "outputs": [],
   "source": [
    "# devide X and y into train dataset and test dataset:\n",
    "X_train, X_test, y_train, y_test = train_test_split(model_X, model_y, test_size=0.3, random_state=42)"
   ]
  },
  {
   "cell_type": "code",
   "execution_count": 10,
   "id": "523196d9",
   "metadata": {},
   "outputs": [],
   "source": [
    "import logistic_builder"
   ]
  },
  {
   "cell_type": "code",
   "execution_count": 19,
   "id": "e4abcecf",
   "metadata": {},
   "outputs": [
    {
     "name": "stderr",
     "output_type": "stream",
     "text": [
      "D:\\Anaconda3\\Lib\\site-packages\\scipy\\optimize\\_linesearch.py:306: LineSearchWarning: The line search algorithm did not converge\n",
      "  warn('The line search algorithm did not converge', LineSearchWarning)\n",
      "D:\\Anaconda3\\Lib\\site-packages\\sklearn\\utils\\optimize.py:204: UserWarning: Line Search failed\n",
      "  warnings.warn(\"Line Search failed\")\n"
     ]
    },
    {
     "name": "stdout",
     "output_type": "stream",
     "text": [
      "Training set score of logistic: 0.7289206589464735\n",
      "Testing set score of logistic: 0.7290342245057911\n"
     ]
    }
   ],
   "source": [
    "importlib.reload(logistic_builder)\n",
    "log_model = logistic_builder.train_logistic_model(X_train, y_train)"
   ]
  },
  {
   "cell_type": "code",
   "execution_count": 23,
   "id": "f2b8bc36",
   "metadata": {},
   "outputs": [],
   "source": [
    "y_pred = log_model.predict(X_test)\n",
    "y_pred = y_pred.astype(int).tolist()\n",
    "# y_test = y_test.astype(int).tolist()\n"
   ]
  },
  {
   "cell_type": "code",
   "execution_count": 24,
   "id": "88156df8",
   "metadata": {},
   "outputs": [
    {
     "data": {
      "text/plain": [
       "<module 'scoring' from 'E:\\\\2023 Fall\\\\IML\\\\project\\\\iml-project\\\\scoring.py'>"
      ]
     },
     "execution_count": 24,
     "metadata": {},
     "output_type": "execute_result"
    }
   ],
   "source": [
    "import scoring\n",
    "importlib.reload(scoring)"
   ]
  },
  {
   "cell_type": "code",
   "execution_count": 25,
   "id": "6b981eaf",
   "metadata": {},
   "outputs": [
    {
     "name": "stdout",
     "output_type": "stream",
     "text": [
      "Class 0: Precision: 0.8176691256073919, Recall: 0.7704552463644343\n",
      "Class 1: Precision: 0.5807565627765214, Recall: 0.5599597108662164\n",
      "Class 2: Precision: 0.5995085995085995, Recall: 0.6245437739963028\n",
      "Class 3: Precision: 0.7055396625010134, Recall: 0.7202378841083484\n",
      "Class 4: Precision: 0.8115595262921053, Recall: 0.8751464653039969\n",
      "Class 5: Precision: 0.7289109325516266, Recall: 0.6616026036964888\n",
      "Class 6: Precision: 0.8553029441855178, Recall: 0.8934712392533131\n",
      "mf1 score: 0.7289043247851748\n",
      "acc_score: 0.729335505305188\n",
      "kappa_score: 0.8992207916025664\n"
     ]
    },
    {
     "name": "stderr",
     "output_type": "stream",
     "text": [
      "E:\\2023 Fall\\IML\\project\\iml-project\\scoring.py:46: RuntimeWarning: overflow encountered in scalar add\n",
      "  pe += np.dot(cfm[:,i], cfm[i,:])\n"
     ]
    }
   ],
   "source": [
    "scoring.score(y_pred, y_test)"
   ]
  },
  {
   "cell_type": "code",
   "execution_count": null,
   "id": "7864811f",
   "metadata": {},
   "outputs": [],
   "source": []
  }
 ],
 "metadata": {
  "kernelspec": {
   "display_name": "Python 3 (ipykernel)",
   "language": "python",
   "name": "python3"
  },
  "language_info": {
   "codemirror_mode": {
    "name": "ipython",
    "version": 3
   },
   "file_extension": ".py",
   "mimetype": "text/x-python",
   "name": "python",
   "nbconvert_exporter": "python",
   "pygments_lexer": "ipython3",
   "version": "3.11.4"
  }
 },
 "nbformat": 4,
 "nbformat_minor": 5
}
