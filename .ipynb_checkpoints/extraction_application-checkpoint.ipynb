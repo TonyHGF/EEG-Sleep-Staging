{
 "cells": [
  {
   "cell_type": "code",
   "execution_count": 1,
   "id": "dcd0e72b",
   "metadata": {},
   "outputs": [],
   "source": [
    "from extraction import *\n",
    "from read_edf import *\n",
    "from read_result import *\n",
    "from split_signal import *\n",
    "from processing_data import *\n",
    "import numpy as np"
   ]
  },
  {
   "cell_type": "markdown",
   "id": "cd13579c",
   "metadata": {},
   "source": [
    "下面这段是接口的罗列，一组30s的EEG信号可以处理成35*3组特征"
   ]
  },
  {
   "cell_type": "code",
   "execution_count": 2,
   "id": "9acc10c9",
   "metadata": {},
   "outputs": [],
   "source": [
    "edf_path = \"../database/sleep-cassette/SC4001E0-PSG.edf\"\n",
    "result_path = \"../database/sleep-cassette/SC4001EC-Hypnogram.edf\""
   ]
  },
  {
   "cell_type": "code",
   "execution_count": 3,
   "id": "2ec35422",
   "metadata": {},
   "outputs": [],
   "source": [
    "start_times, durations, labels = read_result_file(result_path)\n",
    "res = split_edf_by_annotations(edf_path, start_times, durations, labels)\n",
    "split_signals = split_edf_by_30s(res)\n",
    "for (_, signals) in split_signals:\n",
    "    for i in range(3):\n",
    "        signals[i] = signal_filter(signals[i])"
   ]
  },
  {
   "cell_type": "code",
   "execution_count": 4,
   "id": "4ab553dd",
   "metadata": {},
   "outputs": [
    {
     "data": {
      "text/plain": [
       "289"
      ]
     },
     "execution_count": 4,
     "metadata": {},
     "output_type": "execute_result"
    }
   ],
   "source": [
    "calculate_zero_crossings(signals[0])"
   ]
  },
  {
   "cell_type": "code",
   "execution_count": 5,
   "id": "7628519a",
   "metadata": {},
   "outputs": [
    {
     "data": {
      "text/plain": [
       "(0.24802843204829975, 4.442511638348952)"
      ]
     },
     "execution_count": 5,
     "metadata": {},
     "output_type": "execute_result"
    }
   ],
   "source": [
    "calculate_hjorth_parameters(signals[0])"
   ]
  },
  {
   "cell_type": "code",
   "execution_count": 6,
   "id": "bc3b9bb0",
   "metadata": {},
   "outputs": [
    {
     "data": {
      "text/plain": [
       "22.787917537730344"
      ]
     },
     "execution_count": 6,
     "metadata": {},
     "output_type": "execute_result"
    }
   ],
   "source": [
    "np.std(signals[0])"
   ]
  },
  {
   "cell_type": "code",
   "execution_count": 7,
   "id": "5c9344e6",
   "metadata": {},
   "outputs": [
    {
     "data": {
      "text/plain": [
       "1.6309753794369857"
      ]
     },
     "execution_count": 7,
     "metadata": {},
     "output_type": "execute_result"
    }
   ],
   "source": [
    "calculate_binned_entropy(signals[0], 5)"
   ]
  },
  {
   "cell_type": "markdown",
   "id": "f51a27cf",
   "metadata": {},
   "source": [
    "Page 6, Table 1:\n",
    "\n",
    "- The binned entropy feature first bins the time series to then sum up the entropy of the bins (this feature is calculated four times for each time a different number of bins; 5, 10, 30, and 60 bins)\n",
    "\n",
    "- The binned Fourier entropy feature calculates the binned entropy of the power spectral density (this feature is calculated for seven different bin sizes, i.e., 2, 3, 5, 10, 30, 60, and 100 bins)"
   ]
  },
  {
   "cell_type": "code",
   "execution_count": 8,
   "id": "1cdea56f",
   "metadata": {},
   "outputs": [],
   "source": [
    "time_entropy_bins = [5, 10, 30, 60]\n",
    "frequency_entropy_bins = [2, 3, 5, 10, 30, 60, 100]"
   ]
  },
  {
   "cell_type": "code",
   "execution_count": 9,
   "id": "b18d8b35",
   "metadata": {},
   "outputs": [
    {
     "data": {
      "text/plain": [
       "array([448.9615648  -0.j        , 450.6553505 -27.035291j  ,\n",
       "       455.82845164-54.92775882j, ..., 464.87657357+84.60397162j,\n",
       "       455.82845164+54.92775882j, 450.6553505 +27.035291j  ])"
      ]
     },
     "execution_count": 9,
     "metadata": {},
     "output_type": "execute_result"
    }
   ],
   "source": [
    "frequency_signals = perform_fft(signals[0], 100)\n",
    "frequency_signals\n",
    "# print(frequency_signals.shape)"
   ]
  },
  {
   "cell_type": "code",
   "execution_count": 10,
   "id": "a5ec5747",
   "metadata": {},
   "outputs": [],
   "source": [
    "res = calculate_frequency_domain_features(frequency_signals, 100)"
   ]
  },
  {
   "cell_type": "code",
   "execution_count": 11,
   "id": "9cd793fe",
   "metadata": {},
   "outputs": [
    {
     "data": {
      "text/plain": [
       "{'spectral_centroid': -0.7961957451536096,\n",
       " 'spectral_variance': 852.3463682455729,\n",
       " 'spectral_skewness': 1.2915924313178018,\n",
       " 'spectral_kurtosis': 1.2751109534897012,\n",
       " 'binned_entropies': [0.1668958282279917,\n",
       "  0.3846451411243962,\n",
       "  0.7214050142113948,\n",
       "  1.304394634472135,\n",
       "  2.500929582639492,\n",
       "  3.3387480046631643,\n",
       "  3.9987252329249223],\n",
       " 'band_powers': {'delta_slow': 94816340737.24712,\n",
       "  'delta_fast': 218092675313.3863,\n",
       "  'theta': 723001451147.9614,\n",
       "  'alpha': 916415342758.66,\n",
       "  'sigma': 78102220933.33377,\n",
       "  'beta': 3531057243035.98},\n",
       " 'power_ratios': {'fast_delta_theta': 941094126461.3477,\n",
       "  'alpha_theta': 1.267515219096174,\n",
       "  'delta_beta': 0.02685211091500874,\n",
       "  'delta_sigma': 1.2140031308223633,\n",
       "  'delta_theta': 0.1311426700274258}}"
      ]
     },
     "execution_count": 11,
     "metadata": {},
     "output_type": "execute_result"
    }
   ],
   "source": [
    "res"
   ]
  },
  {
   "cell_type": "code",
   "execution_count": 12,
   "id": "1358a4d4",
   "metadata": {},
   "outputs": [],
   "source": [
    "res = signal_extraction(signals[0])"
   ]
  },
  {
   "cell_type": "code",
   "execution_count": 13,
   "id": "d088dbca",
   "metadata": {},
   "outputs": [
    {
     "data": {
      "text/plain": [
       "(35,)"
      ]
     },
     "execution_count": 13,
     "metadata": {},
     "output_type": "execute_result"
    }
   ],
   "source": [
    "res.shape"
   ]
  },
  {
   "cell_type": "markdown",
   "id": "eaa74f31",
   "metadata": {},
   "source": [
    "下面是批量处理部分"
   ]
  },
  {
   "cell_type": "code",
   "execution_count": 26,
   "id": "02bc5878",
   "metadata": {},
   "outputs": [],
   "source": [
    "import os\n",
    "from tqdm import tqdm\n",
    "import time"
   ]
  },
  {
   "cell_type": "code",
   "execution_count": 30,
   "id": "3abbee95",
   "metadata": {},
   "outputs": [
    {
     "name": "stderr",
     "output_type": "stream",
     "text": [
      "  0%|                                                                                          | 0/153 [00:00<?, ?it/s]"
     ]
    },
    {
     "name": "stdout",
     "output_type": "stream",
     "text": [
      "Sleep stage W\n",
      "0\n",
      "1\n"
     ]
    },
    {
     "name": "stderr",
     "output_type": "stream",
     "text": [
      "\n"
     ]
    }
   ],
   "source": [
    "edf_files = []\n",
    "result_files = []\n",
    "\n",
    "for dirname, _, filenames in os.walk('../database/sleep-cassette'):\n",
    "    for filename in filenames:\n",
    "        if filename[9] == 'P':\n",
    "            edf_files.append(os.path.join(dirname, filename))\n",
    "        else:\n",
    "            result_files.append(os.path.join(dirname, filename))\n",
    "N = len(result_files)\n",
    "\n",
    "X_list = []\n",
    "Y_list = []\n",
    "\n",
    "label_dir = {\n",
    "    'Sleep stage W': 0\n",
    "    'Sleep stage 1': 1\n",
    "    'Sleep stage 2': 2\n",
    "    'Sleep stage 3': 3\n",
    "    'Sleep stage 4': 4\n",
    "    'Sleep stage R': 5\n",
    "    'Sleep stage ?': 6\n",
    "}\n",
    "\n",
    "for i in tqdm(range(N)):\n",
    "    result_path = result_files[i]\n",
    "    edf_path = edf_files[i]\n",
    "    start_times, durations, labels = read_result_file(result_path)\n",
    "    res = split_edf_by_annotations(edf_path, start_times, durations, labels)\n",
    "    split_signals = split_edf_by_30s(res)\n",
    "    \n",
    "    for label, sub_signal in split_signals:\n",
    "        Y_list.append(label)\n",
    "        print(label)\n",
    "        break\n",
    "        vec_list = []\n",
    "        for one_of_three in sub_signal:\n",
    "           vec_list.append(signal_extraction(one_of_three)) \n",
    "        X_list.append(np.concatenate(vec_list))\n",
    "        \n",
    "    break\n",
    "#     print('*', res)\n",
    "#     for aa in res\n",
    "print(len(X_list))\n",
    "print(len(Y_list))"
   ]
  },
  {
   "cell_type": "code",
   "execution_count": null,
   "id": "99518a9e",
   "metadata": {},
   "outputs": [],
   "source": []
  }
 ],
 "metadata": {
  "kernelspec": {
   "display_name": "Python 3 (ipykernel)",
   "language": "python",
   "name": "python3"
  },
  "language_info": {
   "codemirror_mode": {
    "name": "ipython",
    "version": 3
   },
   "file_extension": ".py",
   "mimetype": "text/x-python",
   "name": "python",
   "nbconvert_exporter": "python",
   "pygments_lexer": "ipython3",
   "version": "3.11.4"
  }
 },
 "nbformat": 4,
 "nbformat_minor": 5
}
