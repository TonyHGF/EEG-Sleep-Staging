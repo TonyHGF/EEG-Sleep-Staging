{
 "cells": [
  {
   "cell_type": "code",
   "execution_count": 31,
   "id": "6d335358",
   "metadata": {},
   "outputs": [],
   "source": [
    "import os\n",
    "import numpy as np\n",
    "import importlib"
   ]
  },
  {
   "cell_type": "code",
   "execution_count": 32,
   "id": "3d080fa8",
   "metadata": {},
   "outputs": [],
   "source": [
    "feature_number = 105"
   ]
  },
  {
   "cell_type": "code",
   "execution_count": 33,
   "id": "65123d82",
   "metadata": {},
   "outputs": [
    {
     "name": "stdout",
     "output_type": "stream",
     "text": [
      "(393345, 105)\n",
      "(393345,)\n"
     ]
    }
   ],
   "source": [
    "X = np.empty((0,feature_number))\n",
    "y = np.empty((0,))\n",
    "for dirname, _, filenames in os.walk('./result'):\n",
    "    for filename in filenames:\n",
    "        file_path = os.path.join(dirname, filename)\n",
    "        file = np.load(file_path)\n",
    "        X = np.concatenate((X, file['features']))\n",
    "        y = np.concatenate((y, file['labels']))\n",
    "print(X.shape)\n",
    "print(y.shape)"
   ]
  },
  {
   "cell_type": "code",
   "execution_count": 34,
   "id": "54b41808",
   "metadata": {},
   "outputs": [],
   "source": [
    "import split"
   ]
  },
  {
   "cell_type": "code",
   "execution_count": 35,
   "id": "e3d9dccf",
   "metadata": {},
   "outputs": [
    {
     "name": "stdout",
     "output_type": "stream",
     "text": [
      "(392309, 105)\n",
      "(392309,)\n"
     ]
    }
   ],
   "source": [
    "X, y = split.delete_question_mark(X, y)\n",
    "print(X.shape)\n",
    "print(y.shape)"
   ]
  },
  {
   "cell_type": "code",
   "execution_count": 36,
   "id": "46f096f6",
   "metadata": {},
   "outputs": [],
   "source": [
    "from sklearn.model_selection import train_test_split"
   ]
  },
  {
   "cell_type": "code",
   "execution_count": 37,
   "id": "69d0bf5c",
   "metadata": {},
   "outputs": [],
   "source": [
    "X_train, X_test, y_train, y_test = train_test_split(X, y, test_size=0.2, random_state=42)"
   ]
  },
  {
   "cell_type": "code",
   "execution_count": 38,
   "id": "fabe4279",
   "metadata": {},
   "outputs": [],
   "source": [
    "from sklearn import preprocessing\n",
    "scaler = preprocessing.StandardScaler().fit(X_train)\n",
    "X_scaled = scaler.fit_transform(X_train)"
   ]
  },
  {
   "cell_type": "code",
   "execution_count": 39,
   "id": "893bdcdf",
   "metadata": {},
   "outputs": [
    {
     "data": {
      "text/plain": [
       "(313847, 82)"
      ]
     },
     "execution_count": 39,
     "metadata": {},
     "output_type": "execute_result"
    }
   ],
   "source": [
    "from sklearn.decomposition import PCA\n",
    "pca = PCA(n_components= 0.999)\n",
    "pca.fit(X_scaled)\n",
    "X_pca = pca.transform(X_scaled)\n",
    "X_pca.shape"
   ]
  },
  {
   "cell_type": "code",
   "execution_count": 40,
   "id": "66438fa6",
   "metadata": {},
   "outputs": [
    {
     "name": "stdout",
     "output_type": "stream",
     "text": [
      "(313847, 82)\n",
      "(313847,)\n"
     ]
    }
   ],
   "source": [
    "X_W, y_W = split.split_wake_and_asleep(X_pca, y_train)\n",
    "print(X_W.shape)\n",
    "print(y_W.shape)"
   ]
  },
  {
   "cell_type": "code",
   "execution_count": 41,
   "id": "e82fcbc4",
   "metadata": {},
   "outputs": [],
   "source": [
    "import intergrating_model"
   ]
  },
  {
   "cell_type": "code",
   "execution_count": 42,
   "id": "4afadbb8",
   "metadata": {},
   "outputs": [
    {
     "name": "stdout",
     "output_type": "stream",
     "text": [
      "svm finished\n",
      "log finished\n",
      "NB finished\n",
      "SVM: 0.9558069141309543\n",
      "Logistic: 0.9559343635494663\n",
      "Naive Bayes: 0.550007965588657\n"
     ]
    }
   ],
   "source": [
    "importlib.reload(intergrating_model)\n",
    "W_model = intergrating_model.generate_model(X_W, y_W)"
   ]
  },
  {
   "cell_type": "code",
   "execution_count": 59,
   "id": "8279799b",
   "metadata": {},
   "outputs": [
    {
     "name": "stdout",
     "output_type": "stream",
     "text": [
      "Class 0: Precision: 0.727, Recall: 0.951\n",
      "Class 1: Precision: 0.453, Recall: 0.102\n",
      "mf1 score: 0.557\n",
      "acc_score: 0.710\n",
      "kappa_score: 0.831\n"
     ]
    }
   ],
   "source": [
    "import test\n",
    "X_test_W, y_test_W = split.split_wake_and_asleep(X_test, y_test)\n",
    "test.test_test(X_test_W, y_test_W, pca, W_model)"
   ]
  },
  {
   "cell_type": "code",
   "execution_count": 43,
   "id": "d2a6d9b9",
   "metadata": {},
   "outputs": [
    {
     "name": "stdout",
     "output_type": "stream",
     "text": [
      "svm finished\n",
      "log finished\n",
      "NB finished\n",
      "SVM: 0.8754716981132076\n",
      "Logistic: 0.8772176851591101\n",
      "Naive Bayes: 0.788791889608561\n"
     ]
    }
   ],
   "source": [
    "X_REM, y_REM = split.split_eye_movement(X_pca, y_train)\n",
    "REM_model = intergrating_model.generate_model(X_REM, y_REM)"
   ]
  },
  {
   "cell_type": "code",
   "execution_count": 44,
   "id": "074f1da7",
   "metadata": {},
   "outputs": [
    {
     "name": "stdout",
     "output_type": "stream",
     "text": [
      "svm finished\n",
      "log finished\n",
      "NB finished\n",
      "SVM: 0.9651766402307138\n",
      "Logistic: 0.9647440519105984\n",
      "Naive Bayes: 0.9180966113914925\n"
     ]
    }
   ],
   "source": [
    "X_N, y_N = split.split_deep_sleep(X_pca, y_train)\n",
    "N_model = intergrating_model.generate_model(X_N, y_N)"
   ]
  },
  {
   "cell_type": "code",
   "execution_count": 45,
   "id": "e9dabf90",
   "metadata": {},
   "outputs": [
    {
     "name": "stdout",
     "output_type": "stream",
     "text": [
      "svm finished\n",
      "log finished\n",
      "NB finished\n",
      "SVM: 0.865979381443299\n",
      "Logistic: 0.8682170542635659\n",
      "Naive Bayes: 0.7559338288180293\n"
     ]
    }
   ],
   "source": [
    "X_12, y_12 = split.split_1_2(X_pca, y_train)\n",
    "model_12 = intergrating_model.generate_model(X_12, y_12)"
   ]
  },
  {
   "cell_type": "code",
   "execution_count": 46,
   "id": "6563a08b",
   "metadata": {},
   "outputs": [
    {
     "name": "stdout",
     "output_type": "stream",
     "text": [
      "svm finished\n",
      "log finished\n",
      "NB finished\n",
      "SVM: 0.871039056742815\n",
      "Logistic: 0.8680913780397936\n",
      "Naive Bayes: 0.7487103905674282\n"
     ]
    }
   ],
   "source": [
    "X_34, y_34 = split.split_3_4(X_pca, y_train)\n",
    "model_34 = intergrating_model.generate_model(X_34, y_34)"
   ]
  },
  {
   "cell_type": "code",
   "execution_count": 47,
   "id": "61c76ef0",
   "metadata": {},
   "outputs": [
    {
     "name": "stderr",
     "output_type": "stream",
     "text": [
      "100%|███████████████████████████████████████████████████████████████████████████| 78462/78462 [04:47<00:00, 273.32it/s]\n"
     ]
    }
   ],
   "source": [
    "importlib.reload(intergrating_model)\n",
    "y_pred = intergrating_model.int_model(X_test, pca, W_model, REM_model, N_model, model_12, model_34)"
   ]
  },
  {
   "cell_type": "code",
   "execution_count": 56,
   "id": "bdf583a0",
   "metadata": {},
   "outputs": [
    {
     "data": {
      "text/plain": [
       "78462"
      ]
     },
     "execution_count": 56,
     "metadata": {},
     "output_type": "execute_result"
    }
   ],
   "source": [
    "np.sum(y_pred == 0) + np.sum(y_pred == 5)"
   ]
  },
  {
   "cell_type": "code",
   "execution_count": 57,
   "id": "4bb8c149",
   "metadata": {},
   "outputs": [
    {
     "data": {
      "text/plain": [
       "(78462,)"
      ]
     },
     "execution_count": 57,
     "metadata": {},
     "output_type": "execute_result"
    }
   ],
   "source": [
    "y_pred.shape"
   ]
  },
  {
   "cell_type": "code",
   "execution_count": 48,
   "id": "d4635d8c",
   "metadata": {},
   "outputs": [],
   "source": [
    "import scoring"
   ]
  },
  {
   "cell_type": "code",
   "execution_count": 49,
   "id": "47e66b01",
   "metadata": {},
   "outputs": [
    {
     "name": "stdout",
     "output_type": "stream",
     "text": [
      "Class 0: Precision: 0.727, Recall: 0.951\n",
      "Class 1: Precision: 0.000, Recall: 0.000\n",
      "Class 2: Precision: 0.000, Recall: 0.000\n",
      "Class 3: Precision: 0.000, Recall: 0.000\n",
      "Class 4: Precision: 0.000, Recall: 0.000\n",
      "Class 5: Precision: 0.058, Recall: 0.060\n",
      "mf1 score: nan\n",
      "acc_score: 0.684\n",
      "kappa_score: 0.821\n"
     ]
    },
    {
     "name": "stderr",
     "output_type": "stream",
     "text": [
      "E:\\2023 Fall\\IML\\project\\iml-project\\scoring.py:26: RuntimeWarning: invalid value encountered in scalar divide\n",
      "  pre += TP / (TP + FP)\n"
     ]
    }
   ],
   "source": [
    "importlib.reload(scoring)\n",
    "scoring.score(y_pred, y_test, 6)"
   ]
  },
  {
   "cell_type": "code",
   "execution_count": null,
   "id": "497cfe09",
   "metadata": {},
   "outputs": [],
   "source": []
  }
 ],
 "metadata": {
  "kernelspec": {
   "display_name": "Python 3 (ipykernel)",
   "language": "python",
   "name": "python3"
  },
  "language_info": {
   "codemirror_mode": {
    "name": "ipython",
    "version": 3
   },
   "file_extension": ".py",
   "mimetype": "text/x-python",
   "name": "python",
   "nbconvert_exporter": "python",
   "pygments_lexer": "ipython3",
   "version": "3.11.4"
  }
 },
 "nbformat": 4,
 "nbformat_minor": 5
}
