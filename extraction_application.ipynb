{
 "cells": [
  {
   "cell_type": "code",
   "execution_count": 1,
   "id": "dcd0e72b",
   "metadata": {},
   "outputs": [],
   "source": [
    "from extraction import *\n",
    "from read_edf import *\n",
    "from read_result import *\n",
    "from split_signal import *\n",
    "from processing_data import *\n",
    "import numpy as np"
   ]
  },
  {
   "cell_type": "markdown",
   "id": "705999dc",
   "metadata": {},
   "source": [
    "下面这段是接口的罗列，一组30s的EEG信号可以处理成35*3组特征"
   ]
  },
  {
   "cell_type": "code",
   "execution_count": 2,
   "id": "9acc10c9",
   "metadata": {},
   "outputs": [],
   "source": [
    "edf_path = \"../database/sleep-cassette/SC4001E0-PSG.edf\"\n",
    "result_path = \"../database/sleep-cassette/SC4001EC-Hypnogram.edf\""
   ]
  },
  {
   "cell_type": "code",
   "execution_count": 3,
   "id": "2ec35422",
   "metadata": {},
   "outputs": [],
   "source": [
    "start_times, durations, labels = read_result_file(result_path)\n",
    "res = split_edf_by_annotations(edf_path, start_times, durations, labels)\n",
    "split_signals = split_edf_by_30s(res)\n",
    "for (_, signals) in split_signals:\n",
    "    for i in range(3):\n",
    "        signals[i] = signal_filter(signals[i])"
   ]
  },
  {
   "cell_type": "code",
   "execution_count": 4,
   "id": "4ab553dd",
   "metadata": {},
   "outputs": [
    {
     "data": {
      "text/plain": [
       "289"
      ]
     },
     "execution_count": 4,
     "metadata": {},
     "output_type": "execute_result"
    }
   ],
   "source": [
    "calculate_zero_crossings(signals[0])"
   ]
  },
  {
   "cell_type": "code",
   "execution_count": 5,
   "id": "7628519a",
   "metadata": {},
   "outputs": [
    {
     "data": {
      "text/plain": [
       "(0.24802843204829975, 4.442511638348952)"
      ]
     },
     "execution_count": 5,
     "metadata": {},
     "output_type": "execute_result"
    }
   ],
   "source": [
    "calculate_hjorth_parameters(signals[0])"
   ]
  },
  {
   "cell_type": "code",
   "execution_count": 6,
   "id": "bc3b9bb0",
   "metadata": {},
   "outputs": [
    {
     "data": {
      "text/plain": [
       "22.787917537730344"
      ]
     },
     "execution_count": 6,
     "metadata": {},
     "output_type": "execute_result"
    }
   ],
   "source": [
    "np.std(signals[0])"
   ]
  },
  {
   "cell_type": "code",
   "execution_count": 7,
   "id": "5c9344e6",
   "metadata": {},
   "outputs": [
    {
     "data": {
      "text/plain": [
       "1.6309753794369857"
      ]
     },
     "execution_count": 7,
     "metadata": {},
     "output_type": "execute_result"
    }
   ],
   "source": [
    "calculate_binned_entropy(signals[0], 5)"
   ]
  },
  {
   "cell_type": "markdown",
   "id": "f51a27cf",
   "metadata": {},
   "source": [
    "Page 6, Table 1:\n",
    "\n",
    "- The binned entropy feature first bins the time series to then sum up the entropy of the bins (this feature is calculated four times for each time a different number of bins; 5, 10, 30, and 60 bins)\n",
    "\n",
    "- The binned Fourier entropy feature calculates the binned entropy of the power spectral density (this feature is calculated for seven different bin sizes, i.e., 2, 3, 5, 10, 30, 60, and 100 bins)"
   ]
  },
  {
   "cell_type": "code",
   "execution_count": 8,
   "id": "1cdea56f",
   "metadata": {},
   "outputs": [],
   "source": [
    "time_entropy_bins = [5, 10, 30, 60]\n",
    "frequency_entropy_bins = [2, 3, 5, 10, 30, 60, 100]"
   ]
  },
  {
   "cell_type": "code",
   "execution_count": 9,
   "id": "b18d8b35",
   "metadata": {},
   "outputs": [
    {
     "data": {
      "text/plain": [
       "array([448.9615648  -0.j        , 450.6553505 -27.035291j  ,\n",
       "       455.82845164-54.92775882j, ..., 464.87657357+84.60397162j,\n",
       "       455.82845164+54.92775882j, 450.6553505 +27.035291j  ])"
      ]
     },
     "execution_count": 9,
     "metadata": {},
     "output_type": "execute_result"
    }
   ],
   "source": [
    "frequency_signals = perform_fft(signals[0], 100)\n",
    "frequency_signals\n",
    "# print(frequency_signals.shape)"
   ]
  },
  {
   "cell_type": "code",
   "execution_count": 10,
   "id": "a5ec5747",
   "metadata": {},
   "outputs": [],
   "source": [
    "res = calculate_frequency_domain_features(frequency_signals, 100)"
   ]
  },
  {
   "cell_type": "code",
   "execution_count": 11,
   "id": "9cd793fe",
   "metadata": {},
   "outputs": [
    {
     "data": {
      "text/plain": [
       "{'spectral_centroid': -0.7961957451536096,\n",
       " 'spectral_variance': 852.3463682455729,\n",
       " 'spectral_skewness': 1.2915924313178018,\n",
       " 'spectral_kurtosis': 1.2751109534897012,\n",
       " 'binned_entropies': [0.1668958282279917,\n",
       "  0.3846451411243962,\n",
       "  0.7214050142113948,\n",
       "  1.304394634472135,\n",
       "  2.500929582639492,\n",
       "  3.3387480046631643,\n",
       "  3.9987252329249223],\n",
       " 'band_powers': {'delta_slow': 94816340737.24712,\n",
       "  'delta_fast': 218092675313.3863,\n",
       "  'theta': 723001451147.9614,\n",
       "  'alpha': 916415342758.66,\n",
       "  'sigma': 78102220933.33377,\n",
       "  'beta': 3531057243035.98},\n",
       " 'power_ratios': {'fast_delta_theta': 941094126461.3477,\n",
       "  'alpha_theta': 1.267515219096174,\n",
       "  'delta_beta': 0.02685211091500874,\n",
       "  'delta_sigma': 1.2140031308223633,\n",
       "  'delta_theta': 0.1311426700274258}}"
      ]
     },
     "execution_count": 11,
     "metadata": {},
     "output_type": "execute_result"
    }
   ],
   "source": [
    "res"
   ]
  },
  {
   "cell_type": "code",
   "execution_count": 12,
   "id": "1358a4d4",
   "metadata": {},
   "outputs": [],
   "source": [
    "res = signal_extraction(signals[0])"
   ]
  },
  {
   "cell_type": "code",
   "execution_count": 13,
   "id": "d088dbca",
   "metadata": {},
   "outputs": [
    {
     "data": {
      "text/plain": [
       "(35,)"
      ]
     },
     "execution_count": 13,
     "metadata": {},
     "output_type": "execute_result"
    }
   ],
   "source": [
    "res.shape"
   ]
  },
  {
   "cell_type": "markdown",
   "id": "3d17602c",
   "metadata": {},
   "source": [
    "下面是批量处理部分"
   ]
  },
  {
   "cell_type": "code",
   "execution_count": 26,
   "id": "6949119b",
   "metadata": {},
   "outputs": [],
   "source": [
    "import os\n",
    "from tqdm import tqdm\n",
    "import time"
   ]
  },
  {
   "cell_type": "code",
   "execution_count": 42,
   "id": "3abbee95",
   "metadata": {},
   "outputs": [
    {
     "name": "stderr",
     "output_type": "stream",
     "text": [
      "inner:   2%|█▌                                                                       | 53/2497 [00:10<07:57,  5.12it/s]\n"
     ]
    },
    {
     "ename": "KeyboardInterrupt",
     "evalue": "",
     "output_type": "error",
     "traceback": [
      "\u001b[1;31m---------------------------------------------------------------------------\u001b[0m",
      "\u001b[1;31mKeyboardInterrupt\u001b[0m                         Traceback (most recent call last)",
      "Cell \u001b[1;32mIn[42], line 36\u001b[0m\n\u001b[0;32m     34\u001b[0m vec_list \u001b[38;5;241m=\u001b[39m []\n\u001b[0;32m     35\u001b[0m \u001b[38;5;28;01mfor\u001b[39;00m one_of_three \u001b[38;5;129;01min\u001b[39;00m sub_signal:\n\u001b[1;32m---> 36\u001b[0m    vec_list\u001b[38;5;241m.\u001b[39mappend(signal_extraction(one_of_three)) \n\u001b[0;32m     37\u001b[0m vec \u001b[38;5;241m=\u001b[39m np\u001b[38;5;241m.\u001b[39mconcatenate(vec_list)\n\u001b[0;32m     38\u001b[0m X_list\u001b[38;5;241m.\u001b[39mappend(vec)\n",
      "File \u001b[1;32mE:\\2023 Fall\\IML\\project\\iml-project\\extraction.py:100\u001b[0m, in \u001b[0;36msignal_extraction\u001b[1;34m(signal, cond)\u001b[0m\n\u001b[0;32m     98\u001b[0m time_entropy_bins \u001b[38;5;241m=\u001b[39m [\u001b[38;5;241m5\u001b[39m, \u001b[38;5;241m10\u001b[39m, \u001b[38;5;241m30\u001b[39m, \u001b[38;5;241m60\u001b[39m]\n\u001b[0;32m     99\u001b[0m \u001b[38;5;28;01mfor\u001b[39;00m \u001b[38;5;28mbin\u001b[39m \u001b[38;5;129;01min\u001b[39;00m time_entropy_bins:\n\u001b[1;32m--> 100\u001b[0m     li\u001b[38;5;241m.\u001b[39mappend(calculate_binned_entropy(signal, \u001b[38;5;28mbin\u001b[39m))\n\u001b[0;32m    102\u001b[0m frequency_signals \u001b[38;5;241m=\u001b[39m perform_fft(signal, \u001b[38;5;241m100\u001b[39m)\n\u001b[0;32m    103\u001b[0m res \u001b[38;5;241m=\u001b[39m calculate_frequency_domain_features(frequency_signals, \u001b[38;5;241m100\u001b[39m)\n",
      "File \u001b[1;32mE:\\2023 Fall\\IML\\project\\iml-project\\frequency_domain_operation.py:13\u001b[0m, in \u001b[0;36mcalculate_binned_entropy\u001b[1;34m(signal, num_bins)\u001b[0m\n\u001b[0;32m     11\u001b[0m \u001b[38;5;28;01mdef\u001b[39;00m \u001b[38;5;21mcalculate_binned_entropy\u001b[39m(signal, num_bins): \u001b[38;5;66;03m# by GPT\u001b[39;00m\n\u001b[0;32m     12\u001b[0m     \u001b[38;5;66;03m# 将信号数据分割成箱\u001b[39;00m\n\u001b[1;32m---> 13\u001b[0m     histogram, bin_edges \u001b[38;5;241m=\u001b[39m np\u001b[38;5;241m.\u001b[39mhistogram(signal, bins\u001b[38;5;241m=\u001b[39mnum_bins, density\u001b[38;5;241m=\u001b[39m\u001b[38;5;28;01mTrue\u001b[39;00m)\n\u001b[0;32m     15\u001b[0m     \u001b[38;5;66;03m# 计算每个箱的概率\u001b[39;00m\n\u001b[0;32m     16\u001b[0m     probabilities \u001b[38;5;241m=\u001b[39m histogram \u001b[38;5;241m*\u001b[39m np\u001b[38;5;241m.\u001b[39mdiff(bin_edges)\n",
      "File \u001b[1;32m<__array_function__ internals>:200\u001b[0m, in \u001b[0;36mhistogram\u001b[1;34m(*args, **kwargs)\u001b[0m\n",
      "File \u001b[1;32mD:\\Anaconda3\\Lib\\site-packages\\numpy\\lib\\histograms.py:839\u001b[0m, in \u001b[0;36mhistogram\u001b[1;34m(a, bins, range, density, weights)\u001b[0m\n\u001b[0;32m    836\u001b[0m \u001b[38;5;66;03m# Compute the bin indices, and for values that lie exactly on\u001b[39;00m\n\u001b[0;32m    837\u001b[0m \u001b[38;5;66;03m# last_edge we need to subtract one\u001b[39;00m\n\u001b[0;32m    838\u001b[0m f_indices \u001b[38;5;241m=\u001b[39m _unsigned_subtract(tmp_a, first_edge) \u001b[38;5;241m*\u001b[39m norm\n\u001b[1;32m--> 839\u001b[0m indices \u001b[38;5;241m=\u001b[39m f_indices\u001b[38;5;241m.\u001b[39mastype(np\u001b[38;5;241m.\u001b[39mintp)\n\u001b[0;32m    840\u001b[0m indices[indices \u001b[38;5;241m==\u001b[39m n_equal_bins] \u001b[38;5;241m-\u001b[39m\u001b[38;5;241m=\u001b[39m \u001b[38;5;241m1\u001b[39m\n\u001b[0;32m    842\u001b[0m \u001b[38;5;66;03m# The index computation is not guaranteed to give exactly\u001b[39;00m\n\u001b[0;32m    843\u001b[0m \u001b[38;5;66;03m# consistent results within ~1 ULP of the bin edges.\u001b[39;00m\n",
      "\u001b[1;31mKeyboardInterrupt\u001b[0m: "
     ]
    }
   ],
   "source": [
    "edf_files = []\n",
    "result_files = []\n",
    "\n",
    "for dirname, _, filenames in os.walk('../database/sleep-cassette'):\n",
    "    for filename in filenames:\n",
    "        if filename[9] == 'P':\n",
    "            edf_files.append(os.path.join(dirname, filename))\n",
    "        else:\n",
    "            result_files.append(os.path.join(dirname, filename))\n",
    "N = len(result_files)\n",
    "\n",
    "X_list = []\n",
    "Y_list = []\n",
    "\n",
    "label_dir = {\n",
    "    'Sleep stage W': 0,\n",
    "    'Sleep stage 1': 1,\n",
    "    'Sleep stage 2': 2,\n",
    "    'Sleep stage 3': 3,\n",
    "    'Sleep stage 4': 4,\n",
    "    'Sleep stage R': 5,\n",
    "    'Sleep stage ?': 6\n",
    "}\n",
    "\n",
    "for i in range(N):\n",
    "    result_path = result_files[i]\n",
    "    edf_path = edf_files[i]\n",
    "    start_times, durations, labels = read_result_file(result_path)\n",
    "    res = split_edf_by_annotations(edf_path, start_times, durations, labels)\n",
    "    split_signals = split_edf_by_30s(res)\n",
    "    it_name = \n",
    "    for label_name, sub_signal in tqdm(split_signals, desc=):\n",
    "        Y_list.append(label_dir[label_name])\n",
    "        vec_list = []\n",
    "        for one_of_three in sub_signal:\n",
    "           vec_list.append(signal_extraction(one_of_three)) \n",
    "        vec = np.concatenate(vec_list)\n",
    "        X_list.append(vec)\n",
    "        time.sleep(0.1)   \n",
    "print(\"done!\")\n",
    "print(len(X_list))\n",
    "print(len(Y_list))"
   ]
  },
  {
   "cell_type": "code",
   "execution_count": null,
   "id": "7bd3589c",
   "metadata": {},
   "outputs": [],
   "source": []
  }
 ],
 "metadata": {
  "kernelspec": {
   "display_name": "Python 3 (ipykernel)",
   "language": "python",
   "name": "python3"
  },
  "language_info": {
   "codemirror_mode": {
    "name": "ipython",
    "version": 3
   },
   "file_extension": ".py",
   "mimetype": "text/x-python",
   "name": "python",
   "nbconvert_exporter": "python",
   "pygments_lexer": "ipython3",
   "version": "3.11.4"
  }
 },
 "nbformat": 4,
 "nbformat_minor": 5
}
