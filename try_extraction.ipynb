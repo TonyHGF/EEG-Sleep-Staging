{
 "cells": [
  {
   "cell_type": "code",
   "execution_count": 1,
   "id": "3a7e991e",
   "metadata": {},
   "outputs": [
    {
     "data": {
      "text/plain": [
       "{'fft_aggregated': [{'aggtype': 'centroid'},\n",
       "  {'aggtype': 'variance'},\n",
       "  {'aggtype': 'skew'},\n",
       "  {'aggtype': 'kurtosis'}],\n",
       " 'fourier_entropy': [{'bins': 2},\n",
       "  {'bins': 3},\n",
       "  {'bins': 5},\n",
       "  {'bins': 10},\n",
       "  {'bins': 30},\n",
       "  {'bins': 60},\n",
       "  {'bins': 100}],\n",
       " 'binned_entropy': [{'max_bins': 5},\n",
       "  {'max_bins': 10},\n",
       "  {'max_bins': 30},\n",
       "  {'max_bins': 60}]}"
      ]
     },
     "execution_count": 1,
     "metadata": {},
     "output_type": "execute_result"
    }
   ],
   "source": [
    "# Create the collection of tsfresh features to extract\n",
    "\n",
    "tsfresh_settings = {\n",
    "    \"fft_aggregated\": [\n",
    "        {\"aggtype\": \"centroid\"},\n",
    "        {\"aggtype\": \"variance\"},\n",
    "        {\"aggtype\": \"skew\"},\n",
    "        {\"aggtype\": \"kurtosis\"},\n",
    "    ],\n",
    "    \"fourier_entropy\": [\n",
    "        {\"bins\": 2},\n",
    "        {\"bins\": 3},\n",
    "        {\"bins\": 5},\n",
    "        {\"bins\": 10},\n",
    "        {\"bins\": 30},\n",
    "        {\"bins\": 60},\n",
    "        {\"bins\": 100},\n",
    "    ],\n",
    "    \"binned_entropy\": [\n",
    "        {\"max_bins\": 5},\n",
    "        {\"max_bins\": 10},\n",
    "        {\"max_bins\": 30},\n",
    "        {\"max_bins\": 60},\n",
    "    ],\n",
    "}\n",
    "\n",
    "tsfresh_settings"
   ]
  },
  {
   "cell_type": "code",
   "execution_count": 4,
   "id": "9c4bd1ae",
   "metadata": {},
   "outputs": [],
   "source": [
    "import antropy as ant\n",
    "import scipy.stats as ss\n",
    "from yasa import bandpower\n",
    "import numpy as np\n",
    "import scipy.stats as ss\n",
    "from tsflex.features import (\n",
    "    FeatureCollection,\n",
    "    FuncWrapper,\n",
    "    MultipleFeatureDescriptors,\n",
    "    FuncWrapper,\n",
    ")\n",
    "from tsflex.features.integrations import tsfresh_settings_wrapper\n",
    "\n",
    "\n",
    "def wrapped_higuchi_fd(x):\n",
    "    x = np.array(x, dtype=\"float64\")\n",
    "    return ant.higuchi_fd(x)\n",
    "\n",
    "\n",
    "bands = [\n",
    "    (0.4, 1, \"sdelta\"),\n",
    "    (1, 4, \"fdelta\"),\n",
    "    (4, 8, \"theta\"),\n",
    "    (8, 12, \"alpha\"),\n",
    "    (12, 16, \"sigma\"),\n",
    "    (16, 30, \"beta\"),\n",
    "]\n",
    "bandpowers_ouputs = [b[2] for b in bands] + [\"TotalAbsPow\"]\n",
    "\n",
    "\n",
    "def wrapped_bandpowers(x, sf, bands):\n",
    "    return bandpower(x, sf=sf, bands=bands).values[0][:-2]\n",
    "\n",
    "\n",
    "time_funcs = [\n",
    "    np.std,\n",
    "    ss.iqr,\n",
    "    ss.skew,\n",
    "    ss.kurtosis,\n",
    "    ant.num_zerocross,\n",
    "    FuncWrapper(\n",
    "        ant.hjorth_params, output_names=[\"horth_mobility\", \"hjorth_complexity\"]\n",
    "    ),\n",
    "    wrapped_higuchi_fd,\n",
    "    ant.petrosian_fd,\n",
    "    ant.perm_entropy,\n",
    "] + tsfresh_settings_wrapper(tsfresh_settings)\n",
    "\n",
    "freq_funcs = [\n",
    "    FuncWrapper(wrapped_bandpowers, sf=100, bands=bands, output_names=bandpowers_ouputs)\n",
    "]\n",
    "\n",
    "time_feats = MultipleFeatureDescriptors(\n",
    "    time_funcs,\n",
    "    [\"EEG Fpz-Cz\", \"EEG Pz-Oz\", \"EOG horizontal\", \"EMG submental\"],\n",
    "    windows=[\"30s\", \"60s\", \"90s\"],\n",
    "    strides=\"30s\",\n",
    ")\n",
    "freq_feats = MultipleFeatureDescriptors(\n",
    "    freq_funcs,\n",
    "    [\"EEG Fpz-Cz\", \"EEG Pz-Oz\", \"EOG horizontal\"],\n",
    "    windows=[\"30s\", \"60s\", \"90s\"],\n",
    "    strides=\"30s\",\n",
    ")\n",
    "\n",
    "feature_collection = FeatureCollection([time_feats, freq_feats])"
   ]
  },
  {
   "cell_type": "code",
   "execution_count": 5,
   "id": "c5d796c7",
   "metadata": {},
   "outputs": [],
   "source": [
    "import logging\n",
    "\n",
    "from tsflex.features.logger import logger\n",
    "\n",
    "logger.setLevel(level=logging.ERROR)\n",
    "\n",
    "from tsflex.processing.logger import logger\n",
    "\n",
    "logger.setLevel(level=logging.ERROR)"
   ]
  },
  {
   "cell_type": "code",
   "execution_count": null,
   "id": "3848e364",
   "metadata": {},
   "outputs": [],
   "source": [
    "feats = feature_collection.calculate(data_processed, return_df=True, show_progress=True)"
   ]
  }
 ],
 "metadata": {
  "kernelspec": {
   "display_name": "Python 3 (ipykernel)",
   "language": "python",
   "name": "python3"
  },
  "language_info": {
   "codemirror_mode": {
    "name": "ipython",
    "version": 3
   },
   "file_extension": ".py",
   "mimetype": "text/x-python",
   "name": "python",
   "nbconvert_exporter": "python",
   "pygments_lexer": "ipython3",
   "version": "3.11.4"
  }
 },
 "nbformat": 4,
 "nbformat_minor": 5
}
