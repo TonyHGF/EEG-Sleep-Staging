{
 "cells": [
  {
   "cell_type": "code",
   "execution_count": 27,
   "id": "6d335358",
   "metadata": {},
   "outputs": [],
   "source": [
    "import os\n",
    "import numpy as np\n",
    "import importlib"
   ]
  },
  {
   "cell_type": "code",
   "execution_count": 28,
   "id": "3d080fa8",
   "metadata": {},
   "outputs": [],
   "source": [
    "feature_number = 105"
   ]
  },
  {
   "cell_type": "code",
   "execution_count": 29,
   "id": "65123d82",
   "metadata": {},
   "outputs": [
    {
     "name": "stdout",
     "output_type": "stream",
     "text": [
      "(393345, 105)\n",
      "(393345,)\n"
     ]
    }
   ],
   "source": [
    "X = np.empty((0,feature_number))\n",
    "y = np.empty((0,))\n",
    "for dirname, _, filenames in os.walk('./result'):\n",
    "    for filename in filenames:\n",
    "        file_path = os.path.join(dirname, filename)\n",
    "        file = np.load(file_path)\n",
    "        X = np.concatenate((X, file['features']))\n",
    "        y = np.concatenate((y, file['labels']))\n",
    "y = y.astype(int)\n",
    "print(X.shape)\n",
    "print(y.shape)"
   ]
  },
  {
   "cell_type": "code",
   "execution_count": 30,
   "id": "54b41808",
   "metadata": {},
   "outputs": [],
   "source": [
    "import split"
   ]
  },
  {
   "cell_type": "code",
   "execution_count": 31,
   "id": "e3d9dccf",
   "metadata": {},
   "outputs": [
    {
     "name": "stdout",
     "output_type": "stream",
     "text": [
      "(392309, 105)\n",
      "(392309,)\n"
     ]
    }
   ],
   "source": [
    "X, y = split.delete_question_mark(X, y)\n",
    "print(X.shape)\n",
    "print(y.shape)"
   ]
  },
  {
   "cell_type": "code",
   "execution_count": 32,
   "id": "46f096f6",
   "metadata": {},
   "outputs": [],
   "source": [
    "from sklearn.model_selection import train_test_split"
   ]
  },
  {
   "cell_type": "code",
   "execution_count": 33,
   "id": "69d0bf5c",
   "metadata": {},
   "outputs": [],
   "source": [
    "X_train, X_test, y_train, y_test = train_test_split(X, y, test_size=0.2, random_state=42)"
   ]
  },
  {
   "cell_type": "code",
   "execution_count": 34,
   "id": "fabe4279",
   "metadata": {},
   "outputs": [],
   "source": [
    "from sklearn import preprocessing\n",
    "scaler = preprocessing.StandardScaler().fit(X_train)\n",
    "X_scaled = scaler.fit_transform(X_train)"
   ]
  },
  {
   "cell_type": "code",
   "execution_count": 35,
   "id": "893bdcdf",
   "metadata": {},
   "outputs": [
    {
     "data": {
      "text/plain": [
       "(313847, 82)"
      ]
     },
     "execution_count": 35,
     "metadata": {},
     "output_type": "execute_result"
    }
   ],
   "source": [
    "from sklearn.decomposition import PCA\n",
    "pca = PCA(n_components= 0.999)\n",
    "pca.fit(X_scaled)\n",
    "X_pca = pca.transform(X_scaled)\n",
    "X_pca.shape"
   ]
  },
  {
   "cell_type": "code",
   "execution_count": 36,
   "id": "66438fa6",
   "metadata": {},
   "outputs": [
    {
     "name": "stdout",
     "output_type": "stream",
     "text": [
      "(313847, 82)\n",
      "(313847,)\n"
     ]
    }
   ],
   "source": [
    "X_W, y_W = split.split_wake_and_asleep(X_pca, y_train)\n",
    "print(X_W.shape)\n",
    "print(y_W.shape)"
   ]
  },
  {
   "cell_type": "code",
   "execution_count": 41,
   "id": "9e627d8d",
   "metadata": {},
   "outputs": [
    {
     "name": "stdout",
     "output_type": "stream",
     "text": [
      "(177548, 82) (177548,)\n"
     ]
    }
   ],
   "source": [
    "import balance\n",
    "importlib.reload(balance)\n",
    "X_new, y_new = balance.get_balance_class_downsample(X_W, y_W)\n",
    "print(X_new.shape, y_new.shape)"
   ]
  },
  {
   "cell_type": "code",
   "execution_count": 44,
   "id": "e82fcbc4",
   "metadata": {},
   "outputs": [],
   "source": [
    "import intergrating_model"
   ]
  },
  {
   "cell_type": "code",
   "execution_count": 45,
   "id": "4afadbb8",
   "metadata": {},
   "outputs": [
    {
     "name": "stdout",
     "output_type": "stream",
     "text": [
      "svm finished\n",
      "log finished\n",
      "NB finished\n",
      "SVM: 0.9558069141309543\n",
      "Logistic: 0.9559343635494663\n",
      "Naive Bayes: 0.550007965588657\n"
     ]
    }
   ],
   "source": [
    "importlib.reload(intergrating_model)\n",
    "W_model = intergrating_model.generate_model(X_W, y_W)"
   ]
  },
  {
   "cell_type": "code",
   "execution_count": null,
   "id": "0b76f53b",
   "metadata": {},
   "outputs": [],
   "source": []
  },
  {
   "cell_type": "code",
   "execution_count": 63,
   "id": "8279799b",
   "metadata": {},
   "outputs": [
    {
     "data": {
      "text/plain": [
       "(78462, 105)"
      ]
     },
     "execution_count": 63,
     "metadata": {},
     "output_type": "execute_result"
    }
   ],
   "source": [
    "import test\n",
    "import scoring\n",
    "importlib.reload(scoring)\n",
    "X_test_W, y_test_W = split.split_wake_and_asleep(X_test, y_test)\n",
    "# test.test_test(X_test_W, y_test_W, pca, W_model)\n",
    "X_test_W.shape"
   ]
  },
  {
   "cell_type": "code",
   "execution_count": 69,
   "id": "cf2d771e",
   "metadata": {},
   "outputs": [
    {
     "name": "stdout",
     "output_type": "stream",
     "text": [
      "(78462, 82)\n"
     ]
    }
   ],
   "source": [
    "X_test_pca = pca.transform(X_test_W)\n",
    "print(X_test_pca.shape)"
   ]
  },
  {
   "cell_type": "code",
   "execution_count": 91,
   "id": "0b385478",
   "metadata": {},
   "outputs": [
    {
     "data": {
      "application/vnd.jupyter.widget-view+json": {
       "model_id": "5dcad1ec064f4f468abd1caa49662da3",
       "version_major": 2,
       "version_minor": 0
      },
      "text/plain": [
       "  0%|          | 0/2000 [00:00<?, ?it/s]"
      ]
     },
     "metadata": {},
     "output_type": "display_data"
    }
   ],
   "source": [
    "import logistic_with_pytorch\n",
    "importlib.reload(logistic_with_pytorch)\n",
    "best_model = logistic_with_pytorch.train_logistic_model_pytorch(X_W, y_W, 1)\n",
    "y_pred = logistic_with_pytorch.predict(best_model, X_test_pca)\n",
    "y_pred = np.array(y_pred).flatten()\n",
    "best_acc = np.mean(y_pred == y_test_W)\n",
    "best_weight = 1"
   ]
  },
  {
   "cell_type": "code",
   "execution_count": 95,
   "id": "73e8b140",
   "metadata": {},
   "outputs": [],
   "source": [
    "def frange(start, end, step):\n",
    "    while start < end:\n",
    "        yield start\n",
    "        start += step"
   ]
  },
  {
   "cell_type": "code",
   "execution_count": 97,
   "id": "cfc0ca88",
   "metadata": {},
   "outputs": [
    {
     "name": "stdout",
     "output_type": "stream",
     "text": [
      "weight = 1.25\n"
     ]
    },
    {
     "data": {
      "application/vnd.jupyter.widget-view+json": {
       "model_id": "2b4521226b104e3c9758a2b560e5d823",
       "version_major": 2,
       "version_minor": 0
      },
      "text/plain": [
       "  0%|          | 0/2000 [00:00<?, ?it/s]"
      ]
     },
     "metadata": {},
     "output_type": "display_data"
    },
    {
     "name": "stdout",
     "output_type": "stream",
     "text": [
      "weight = 1.3\n"
     ]
    },
    {
     "name": "stderr",
     "output_type": "stream",
     "text": [
      "C:\\Users\\Tony\\AppData\\Local\\Temp\\ipykernel_3536\\2166015321.py:6: DeprecationWarning: elementwise comparison failed; this will raise an error in the future.\n",
      "  acc = np.mean(y_pred == y)\n"
     ]
    },
    {
     "data": {
      "application/vnd.jupyter.widget-view+json": {
       "model_id": "0302e0225b1e46c08da18f3fa1ecea26",
       "version_major": 2,
       "version_minor": 0
      },
      "text/plain": [
       "  0%|          | 0/2000 [00:00<?, ?it/s]"
      ]
     },
     "metadata": {},
     "output_type": "display_data"
    },
    {
     "name": "stdout",
     "output_type": "stream",
     "text": [
      "weight = 1.35\n"
     ]
    },
    {
     "data": {
      "application/vnd.jupyter.widget-view+json": {
       "model_id": "30285fc2e3bb46d88126199b347b7861",
       "version_major": 2,
       "version_minor": 0
      },
      "text/plain": [
       "  0%|          | 0/2000 [00:00<?, ?it/s]"
      ]
     },
     "metadata": {},
     "output_type": "display_data"
    },
    {
     "ename": "KeyboardInterrupt",
     "evalue": "",
     "output_type": "error",
     "traceback": [
      "\u001b[1;31m---------------------------------------------------------------------------\u001b[0m",
      "\u001b[1;31mKeyboardInterrupt\u001b[0m                         Traceback (most recent call last)",
      "Cell \u001b[1;32mIn[97], line 3\u001b[0m\n\u001b[0;32m      1\u001b[0m \u001b[38;5;28;01mfor\u001b[39;00m i \u001b[38;5;129;01min\u001b[39;00m frange(\u001b[38;5;241m1.25\u001b[39m, \u001b[38;5;241m20\u001b[39m, \u001b[38;5;241m0.05\u001b[39m):\n\u001b[0;32m      2\u001b[0m     \u001b[38;5;28mprint\u001b[39m(\u001b[38;5;124m\"\u001b[39m\u001b[38;5;124mweight =\u001b[39m\u001b[38;5;124m\"\u001b[39m, i)\n\u001b[1;32m----> 3\u001b[0m     model \u001b[38;5;241m=\u001b[39m logistic_with_pytorch\u001b[38;5;241m.\u001b[39mtrain_logistic_model_pytorch(X_W, y_W, i)\n\u001b[0;32m      4\u001b[0m     y_pred \u001b[38;5;241m=\u001b[39m logistic_with_pytorch\u001b[38;5;241m.\u001b[39mpredict(model, X_test_pca)\n\u001b[0;32m      5\u001b[0m     y_pred \u001b[38;5;241m=\u001b[39m np\u001b[38;5;241m.\u001b[39marray(y_pred)\n",
      "File \u001b[1;32mE:\\2023 Fall\\IML\\project\\iml-project\\logistic_with_pytorch.py:48\u001b[0m, in \u001b[0;36mtrain_logistic_model_pytorch\u001b[1;34m(X, y, pos_weight, learning_rate, epochs)\u001b[0m\n\u001b[0;32m     46\u001b[0m     \u001b[38;5;66;03m# Backward and optimize\u001b[39;00m\n\u001b[0;32m     47\u001b[0m     optimizer\u001b[38;5;241m.\u001b[39mzero_grad()\n\u001b[1;32m---> 48\u001b[0m     loss\u001b[38;5;241m.\u001b[39mbackward()\n\u001b[0;32m     49\u001b[0m     optimizer\u001b[38;5;241m.\u001b[39mstep()\n\u001b[0;32m     51\u001b[0m \u001b[38;5;28;01mreturn\u001b[39;00m model\n",
      "File \u001b[1;32m~\\AppData\\Roaming\\Python\\Python311\\site-packages\\torch\\_tensor.py:492\u001b[0m, in \u001b[0;36mTensor.backward\u001b[1;34m(self, gradient, retain_graph, create_graph, inputs)\u001b[0m\n\u001b[0;32m    482\u001b[0m \u001b[38;5;28;01mif\u001b[39;00m has_torch_function_unary(\u001b[38;5;28mself\u001b[39m):\n\u001b[0;32m    483\u001b[0m     \u001b[38;5;28;01mreturn\u001b[39;00m handle_torch_function(\n\u001b[0;32m    484\u001b[0m         Tensor\u001b[38;5;241m.\u001b[39mbackward,\n\u001b[0;32m    485\u001b[0m         (\u001b[38;5;28mself\u001b[39m,),\n\u001b[1;32m   (...)\u001b[0m\n\u001b[0;32m    490\u001b[0m         inputs\u001b[38;5;241m=\u001b[39minputs,\n\u001b[0;32m    491\u001b[0m     )\n\u001b[1;32m--> 492\u001b[0m torch\u001b[38;5;241m.\u001b[39mautograd\u001b[38;5;241m.\u001b[39mbackward(\n\u001b[0;32m    493\u001b[0m     \u001b[38;5;28mself\u001b[39m, gradient, retain_graph, create_graph, inputs\u001b[38;5;241m=\u001b[39minputs\n\u001b[0;32m    494\u001b[0m )\n",
      "File \u001b[1;32m~\\AppData\\Roaming\\Python\\Python311\\site-packages\\torch\\autograd\\__init__.py:251\u001b[0m, in \u001b[0;36mbackward\u001b[1;34m(tensors, grad_tensors, retain_graph, create_graph, grad_variables, inputs)\u001b[0m\n\u001b[0;32m    246\u001b[0m     retain_graph \u001b[38;5;241m=\u001b[39m create_graph\n\u001b[0;32m    248\u001b[0m \u001b[38;5;66;03m# The reason we repeat the same comment below is that\u001b[39;00m\n\u001b[0;32m    249\u001b[0m \u001b[38;5;66;03m# some Python versions print out the first line of a multi-line function\u001b[39;00m\n\u001b[0;32m    250\u001b[0m \u001b[38;5;66;03m# calls in the traceback and some print out the last line\u001b[39;00m\n\u001b[1;32m--> 251\u001b[0m Variable\u001b[38;5;241m.\u001b[39m_execution_engine\u001b[38;5;241m.\u001b[39mrun_backward(  \u001b[38;5;66;03m# Calls into the C++ engine to run the backward pass\u001b[39;00m\n\u001b[0;32m    252\u001b[0m     tensors,\n\u001b[0;32m    253\u001b[0m     grad_tensors_,\n\u001b[0;32m    254\u001b[0m     retain_graph,\n\u001b[0;32m    255\u001b[0m     create_graph,\n\u001b[0;32m    256\u001b[0m     inputs,\n\u001b[0;32m    257\u001b[0m     allow_unreachable\u001b[38;5;241m=\u001b[39m\u001b[38;5;28;01mTrue\u001b[39;00m,\n\u001b[0;32m    258\u001b[0m     accumulate_grad\u001b[38;5;241m=\u001b[39m\u001b[38;5;28;01mTrue\u001b[39;00m,\n\u001b[0;32m    259\u001b[0m )\n",
      "\u001b[1;31mKeyboardInterrupt\u001b[0m: "
     ]
    }
   ],
   "source": [
    "for i in frange(1.25, 20, 0.05):\n",
    "    print(\"weight =\", i)\n",
    "    model = logistic_with_pytorch.train_logistic_model_pytorch(X_W, y_W, i)\n",
    "    y_pred = logistic_with_pytorch.predict(model, X_test_pca)\n",
    "    y_pred = np.array(y_pred)\n",
    "    acc = np.mean(y_pred == y_test_W)\n",
    "    if acc > best_acc:\n",
    "        best_weight = i\n",
    "        best_acc = acc\n",
    "        best_model = model\n",
    "\n",
    "print(\"best_weight:\", i)"
   ]
  },
  {
   "cell_type": "code",
   "execution_count": 74,
   "id": "f1d96639",
   "metadata": {},
   "outputs": [
    {
     "data": {
      "text/plain": [
       "78462"
      ]
     },
     "execution_count": 74,
     "metadata": {},
     "output_type": "execute_result"
    }
   ],
   "source": [
    "np.sum(y_pred == 0)"
   ]
  },
  {
   "cell_type": "code",
   "execution_count": null,
   "id": "d2a6d9b9",
   "metadata": {},
   "outputs": [],
   "source": [
    "X_REM, y_REM = split.split_eye_movement(X_pca, y_train)\n",
    "REM_model = intergrating_model.generate_model(X_REM, y_REM)"
   ]
  },
  {
   "cell_type": "code",
   "execution_count": null,
   "id": "074f1da7",
   "metadata": {},
   "outputs": [],
   "source": [
    "X_N, y_N = split.split_deep_sleep(X_pca, y_train)\n",
    "N_model = intergrating_model.generate_model(X_N, y_N)"
   ]
  },
  {
   "cell_type": "code",
   "execution_count": null,
   "id": "e9dabf90",
   "metadata": {},
   "outputs": [],
   "source": [
    "X_12, y_12 = split.split_1_2(X_pca, y_train)\n",
    "model_12 = intergrating_model.generate_model(X_12, y_12)"
   ]
  },
  {
   "cell_type": "code",
   "execution_count": null,
   "id": "6563a08b",
   "metadata": {},
   "outputs": [],
   "source": [
    "X_34, y_34 = split.split_3_4(X_pca, y_train)\n",
    "model_34 = intergrating_model.generate_model(X_34, y_34)"
   ]
  },
  {
   "cell_type": "code",
   "execution_count": null,
   "id": "61c76ef0",
   "metadata": {},
   "outputs": [],
   "source": [
    "importlib.reload(intergrating_model)\n",
    "y_pred = intergrating_model.int_model(X_test, pca, W_model, REM_model, N_model, model_12, model_34)"
   ]
  },
  {
   "cell_type": "code",
   "execution_count": null,
   "id": "bdf583a0",
   "metadata": {},
   "outputs": [],
   "source": [
    "np.sum(y_pred == 0) + np.sum(y_pred == 5)"
   ]
  },
  {
   "cell_type": "code",
   "execution_count": null,
   "id": "4bb8c149",
   "metadata": {},
   "outputs": [],
   "source": [
    "y_pred.shape"
   ]
  },
  {
   "cell_type": "code",
   "execution_count": null,
   "id": "d4635d8c",
   "metadata": {},
   "outputs": [],
   "source": [
    "import scoring"
   ]
  },
  {
   "cell_type": "code",
   "execution_count": null,
   "id": "47e66b01",
   "metadata": {},
   "outputs": [],
   "source": [
    "importlib.reload(scoring)\n",
    "scoring.score(y_pred, y_test, 6)"
   ]
  },
  {
   "cell_type": "code",
   "execution_count": null,
   "id": "497cfe09",
   "metadata": {},
   "outputs": [],
   "source": []
  }
 ],
 "metadata": {
  "kernelspec": {
   "display_name": "Python 3 (ipykernel)",
   "language": "python",
   "name": "python3"
  },
  "language_info": {
   "codemirror_mode": {
    "name": "ipython",
    "version": 3
   },
   "file_extension": ".py",
   "mimetype": "text/x-python",
   "name": "python",
   "nbconvert_exporter": "python",
   "pygments_lexer": "ipython3",
   "version": "3.11.4"
  }
 },
 "nbformat": 4,
 "nbformat_minor": 5
}
