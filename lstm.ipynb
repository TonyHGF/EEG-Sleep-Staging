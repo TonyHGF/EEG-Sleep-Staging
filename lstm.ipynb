{
 "cells": [
  {
   "cell_type": "code",
   "execution_count": 2,
   "metadata": {},
   "outputs": [],
   "source": [
    "import skorch\n",
    "import numpy as np\n",
    "import torch\n",
    "from torch import nn\n",
    "import os"
   ]
  },
  {
   "cell_type": "code",
   "execution_count": 3,
   "metadata": {},
   "outputs": [],
   "source": [
    "class LSTMNet(nn.Module):\n",
    "    def __init__(self, in_features, hidden_size, out_features):\n",
    "        super(LSTMNet, self).__init__()\n",
    "        self.in_features = in_features\n",
    "        self.hidden_size = hidden_size\n",
    "        self.out_features = out_features\n",
    "        self.linear = nn.Linear(in_features=in_features, out_features=hidden_size * 2, dtype=torch.double)\n",
    "        self.lstm = nn.LSTM(in_features, hidden_size, num_layers=2, bidirectional=True, dropout=0.5, dtype=torch.double)\n",
    "        # self.softmax = nn.Sequential(\n",
    "        #                 nn.Linear(in_features=hidden_size * 2, out_features=out_features),\n",
    "        #                 nn.Softmax(dim=1)\n",
    "        #             )\n",
    "        self.linear2 = nn.Sequential(\n",
    "                        nn.Dropout(0.5),\n",
    "                        nn.Linear(in_features=hidden_size * 2, out_features=out_features, dtype=torch.double)\n",
    "                       )\n",
    "\n",
    "    def forward(self, input):\n",
    "        # linear_output = self.linear(input)\n",
    "        # lstm_output = self.lstm(input.reshape(-1, LENGTH_OF_SIGNAL, self.in_features))\n",
    "        linear_output = self.linear(input)\n",
    "        lstm_output,_ = self.lstm(input.reshape(-1,1,self.in_features))\n",
    "        lstm_output = lstm_output.reshape(-1, self.hidden_size * 2)\n",
    "        # output = self.softmax(linear_output + lstm_output)\n",
    "        output = self.linear2(linear_output + lstm_output)\n",
    "        return output\n",
    "\n",
    "    \n",
    "def predict(model, x, out_features):\n",
    "    tag = model(x)\n",
    "    y=torch.zeros((tag.shape[0],), dtype=int)\n",
    "    for i in range(tag.shape[0]):\n",
    "        mx=tag[i][0]\n",
    "        for j in range(1,tag.shape[1]):\n",
    "            if(tag[i][j]>mx):\n",
    "                mx=tag[i][j]\n",
    "                y[i]=j\n",
    "    return y\n"
   ]
  },
  {
   "cell_type": "code",
   "execution_count": null,
   "metadata": {},
   "outputs": [
    {
     "name": "stdout",
     "output_type": "stream",
     "text": [
      "epoch:  0\n"
     ]
    },
    {
     "data": {
      "application/vnd.jupyter.widget-view+json": {
       "model_id": "3faa4bde709548649bb67eefe44002a8",
       "version_major": 2,
       "version_minor": 0
      },
      "text/plain": [
       "  0%|          | 0/32 [00:00<?, ?it/s]"
      ]
     },
     "metadata": {},
     "output_type": "display_data"
    },
    {
     "data": {
      "application/vnd.jupyter.widget-view+json": {
       "model_id": "f31dbfdb91864928b38b5b43a1206b2e",
       "version_major": 2,
       "version_minor": 0
      },
      "text/plain": [
       "  0%|          | 0/115 [00:00<?, ?it/s]"
      ]
     },
     "metadata": {},
     "output_type": "display_data"
    },
    {
     "name": "stdout",
     "output_type": "stream",
     "text": [
      "Class 0: Precision: 0.718, Recall: 1.000\n",
      "Class 1: Precision: 0.000, Recall: 0.000\n",
      "Class 2: Precision: 0.000, Recall: 0.000\n",
      "Class 3: Precision: 0.000, Recall: 0.000\n",
      "Class 4: Precision: 0.000, Recall: 0.000\n",
      "Class 5: Precision: 0.000, Recall: 0.000\n",
      "Class 6: Precision: 0.000, Recall: 0.000\n",
      "mf1 score: nan\n",
      "acc_score: 0.718\n",
      "kappa_score: 1.117\n",
      "epoch:  1\n"
     ]
    },
    {
     "name": "stderr",
     "output_type": "stream",
     "text": [
      "E:\\2023 Fall\\IML\\project\\iml-project\\scoring.py:27: RuntimeWarning: invalid value encountered in scalar divide\n",
      "  pre += TP / (TP + FP)\n"
     ]
    },
    {
     "data": {
      "application/vnd.jupyter.widget-view+json": {
       "model_id": "52dcc507a5a44895828a2a59c0ebb75a",
       "version_major": 2,
       "version_minor": 0
      },
      "text/plain": [
       "  0%|          | 0/32 [00:00<?, ?it/s]"
      ]
     },
     "metadata": {},
     "output_type": "display_data"
    },
    {
     "data": {
      "application/vnd.jupyter.widget-view+json": {
       "model_id": "7735727a2e3d49afa106fe908f2a18e9",
       "version_major": 2,
       "version_minor": 0
      },
      "text/plain": [
       "  0%|          | 0/115 [00:00<?, ?it/s]"
      ]
     },
     "metadata": {},
     "output_type": "display_data"
    },
    {
     "name": "stdout",
     "output_type": "stream",
     "text": [
      "Class 0: Precision: 0.718, Recall: 1.000\n",
      "Class 1: Precision: 0.000, Recall: 0.000\n",
      "Class 2: Precision: 0.000, Recall: 0.000\n",
      "Class 3: Precision: 0.000, Recall: 0.000\n",
      "Class 4: Precision: 0.000, Recall: 0.000\n",
      "Class 5: Precision: 0.000, Recall: 0.000\n",
      "Class 6: Precision: 0.000, Recall: 0.000\n",
      "mf1 score: nan\n",
      "acc_score: 0.718\n",
      "kappa_score: 1.117\n",
      "epoch:  2\n"
     ]
    },
    {
     "data": {
      "application/vnd.jupyter.widget-view+json": {
       "model_id": "a5e56289d23f4a3098be203724bf40d5",
       "version_major": 2,
       "version_minor": 0
      },
      "text/plain": [
       "  0%|          | 0/32 [00:00<?, ?it/s]"
      ]
     },
     "metadata": {},
     "output_type": "display_data"
    },
    {
     "data": {
      "application/vnd.jupyter.widget-view+json": {
       "model_id": "d2cc21c0a6fd4999bd3c2216e2a81e46",
       "version_major": 2,
       "version_minor": 0
      },
      "text/plain": [
       "  0%|          | 0/115 [00:00<?, ?it/s]"
      ]
     },
     "metadata": {},
     "output_type": "display_data"
    },
    {
     "name": "stdout",
     "output_type": "stream",
     "text": [
      "Class 0: Precision: 0.718, Recall: 1.000\n",
      "Class 1: Precision: 0.000, Recall: 0.000\n",
      "Class 2: Precision: 0.000, Recall: 0.000\n",
      "Class 3: Precision: 0.000, Recall: 0.000\n",
      "Class 4: Precision: 0.000, Recall: 0.000\n",
      "Class 5: Precision: 0.000, Recall: 0.000\n",
      "Class 6: Precision: 0.000, Recall: 0.000\n",
      "mf1 score: nan\n",
      "acc_score: 0.718\n",
      "kappa_score: 1.117\n",
      "epoch:  3\n"
     ]
    },
    {
     "data": {
      "application/vnd.jupyter.widget-view+json": {
       "model_id": "113bf6c5d8dc4405921946f2d9de2322",
       "version_major": 2,
       "version_minor": 0
      },
      "text/plain": [
       "  0%|          | 0/32 [00:00<?, ?it/s]"
      ]
     },
     "metadata": {},
     "output_type": "display_data"
    },
    {
     "data": {
      "application/vnd.jupyter.widget-view+json": {
       "model_id": "deb0ef355ee74e59969cfe8d4d6c530b",
       "version_major": 2,
       "version_minor": 0
      },
      "text/plain": [
       "  0%|          | 0/115 [00:00<?, ?it/s]"
      ]
     },
     "metadata": {},
     "output_type": "display_data"
    }
   ],
   "source": [
    "import scoring\n",
    "import importlib\n",
    "from tqdm.notebook import tqdm\n",
    "importlib.reload(scoring)\n",
    "feature_number = 105\n",
    "X = []\n",
    "y = []\n",
    "\n",
    "model = LSTMNet(in_features=feature_number, hidden_size=20, out_features=7)\n",
    "\n",
    "\n",
    "for dirname, _, filenames in os.walk('./result'):\n",
    "    for filename in filenames:\n",
    "        file_path = os.path.join(dirname, filename)\n",
    "        file = np.load(file_path)\n",
    "        X.append(file['features'])\n",
    "        y.append(file['labels'])\n",
    "\n",
    "num_file = len(X)\n",
    "# print(num_file)\n",
    "\n",
    "X_train = X[num_file//4:num_file]\n",
    "y_train = y[num_file//4:num_file]\n",
    "\n",
    "X_test = X[0:num_file//4]\n",
    "y_test = y[0:num_file//4]\n",
    "\n",
    "optimizer = torch.optim.SGD(model.parameters(), lr=0.1)\n",
    "loss_function = nn.CrossEntropyLoss()\n",
    "max_epochs = 50\n",
    "batch_size = 32\n",
    "\n",
    "for epoch in range(max_epochs):\n",
    "    print(\"epoch: \", epoch)\n",
    "    sum_loss = 0\n",
    "    array = np.arange(len(X_train))\n",
    "    slice=np.random.choice(array.shape[0],batch_size)\n",
    "    for i in tqdm(slice, colour=\"pink\"):\n",
    "    # for i in range(len(X_train)):\n",
    "        sentence = torch.DoubleTensor(X_train[i])\n",
    "        target = torch.LongTensor(y_train[i])\n",
    "        # f=[0,0,0,0,0,0,0,0]\n",
    "        # for t in target:\n",
    "        #     f[t]=1\n",
    "        # print(f)\n",
    "        tag_score = model(sentence)\n",
    "        loss = loss_function(tag_score, target)\n",
    "        loss.backward()\n",
    "        optimizer.step()\n",
    "\n",
    "    y_pred = np.zeros((0,))\n",
    "    y_true = np.zeros((0,))\n",
    "    for i in tqdm(range(len(X_train))):\n",
    "        y_pred=np.concatenate((y_pred, predict(model, torch.DoubleTensor(X_train[i]), out_features=7)))\n",
    "        y_true = np.concatenate((y_true, y_train[i]))\n",
    "    scoring.score(y_pred, y_true)"
   ]
  },
  {
   "cell_type": "code",
   "execution_count": null,
   "metadata": {},
   "outputs": [],
   "source": []
  }
 ],
 "metadata": {
  "kernelspec": {
   "display_name": "Python 3 (ipykernel)",
   "language": "python",
   "name": "python3"
  },
  "language_info": {
   "codemirror_mode": {
    "name": "ipython",
    "version": 3
   },
   "file_extension": ".py",
   "mimetype": "text/x-python",
   "name": "python",
   "nbconvert_exporter": "python",
   "pygments_lexer": "ipython3",
   "version": "3.11.4"
  }
 },
 "nbformat": 4,
 "nbformat_minor": 2
}
