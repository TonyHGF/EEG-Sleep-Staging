{
 "cells": [
  {
   "cell_type": "code",
   "execution_count": 1,
   "id": "ccf10b16",
   "metadata": {},
   "outputs": [],
   "source": [
    "from read_edf import plot_signals\n",
    "from read_result import read_result_file\n",
    "from read_result import plot_sleep_stages\n",
    "from split_signal import split_edf_by_annotations\n",
    "from split_signal import split_edf_by_30s\n",
    "from sklearn.decomposition import PCA\n",
    "import processing_data\n",
    "import os\n",
    "import matplotlib.pyplot as plt\n",
    "import numpy as np\n",
    "from sklearn import svm\n",
    "import svm_builder\n",
    "import importlib"
   ]
  },
  {
   "cell_type": "code",
   "execution_count": 2,
   "id": "b8f8abf8",
   "metadata": {},
   "outputs": [
    {
     "name": "stdout",
     "output_type": "stream",
     "text": [
      "(393345, 105)\n",
      "(393345,)\n"
     ]
    }
   ],
   "source": [
    "feature_number = 105\n",
    "\n",
    "X = np.empty((0,feature_number))\n",
    "y = np.empty((0,))\n",
    "for dirname, _, filenames in os.walk('./result'):\n",
    "    for filename in filenames:\n",
    "        file_path = os.path.join(dirname, filename)\n",
    "        file = np.load(file_path)\n",
    "        X = np.concatenate((X, file['features']))\n",
    "        y = np.concatenate((y, file['labels']))\n",
    "print(X.shape)\n",
    "print(y.shape)"
   ]
  },
  {
   "cell_type": "markdown",
   "id": "97c89b45",
   "metadata": {},
   "source": [
    "下面这段是 Balance with Down sample，效果不好"
   ]
  },
  {
   "cell_type": "code",
   "execution_count": 5,
   "id": "c68dd48e",
   "metadata": {},
   "outputs": [
    {
     "name": "stdout",
     "output_type": "stream",
     "text": [
      "(7252, 105)\n",
      "(7252,)\n"
     ]
    }
   ],
   "source": [
    "import balance\n",
    "importlib.reload(balance)\n",
    "\n",
    "# down sample\n",
    "balance_x, balance_y = balance.get_balance_class_downsample(X, y)\n",
    "print(balance_x.shape)\n",
    "print(balance_y.shape)"
   ]
  },
  {
   "cell_type": "code",
   "execution_count": 6,
   "id": "2ce63334",
   "metadata": {},
   "outputs": [],
   "source": [
    "from sklearn import preprocessing\n",
    "scaler = preprocessing.StandardScaler().fit(balance_x)\n",
    "X_scaled = scaler.fit_transform(balance_x)"
   ]
  },
  {
   "cell_type": "code",
   "execution_count": 7,
   "id": "ae9d6a9c",
   "metadata": {},
   "outputs": [
    {
     "name": "stdout",
     "output_type": "stream",
     "text": [
      "(7252, 80)\n",
      "(7252, 42)\n"
     ]
    }
   ],
   "source": [
    "pca1 = PCA(n_components= 0.999).fit(X_scaled)\n",
    "pca2 = PCA(n_components= 0.95).fit(X_scaled)\n",
    "X_pca1 = pca1.transform(X_scaled)\n",
    "X_pca2 = pca2.transform(X_scaled)\n",
    "print(X_pca1.shape)\n",
    "print(X_pca2.shape)"
   ]
  },
  {
   "cell_type": "code",
   "execution_count": 9,
   "id": "ae5da63c",
   "metadata": {},
   "outputs": [
    {
     "name": "stdout",
     "output_type": "stream",
     "text": [
      "(7252, 80) (7252,)\n"
     ]
    }
   ],
   "source": [
    "model_X = X_pca1\n",
    "model_y = balance_y\n",
    "print(model_X.shape, model_y.shape)"
   ]
  },
  {
   "cell_type": "code",
   "execution_count": 10,
   "id": "15ddf4f5",
   "metadata": {},
   "outputs": [],
   "source": [
    "from sklearn.model_selection import train_test_split"
   ]
  },
  {
   "cell_type": "code",
   "execution_count": 11,
   "id": "c13f5dde",
   "metadata": {},
   "outputs": [],
   "source": [
    "# devide X and y into train dataset and test dataset:\n",
    "X_train, X_test, y_train, y_test = train_test_split(model_X, model_y, test_size=0.3, random_state=42)"
   ]
  },
  {
   "cell_type": "code",
   "execution_count": 12,
   "id": "f50bc2ce",
   "metadata": {},
   "outputs": [],
   "source": [
    "import logistic_builder"
   ]
  },
  {
   "cell_type": "code",
   "execution_count": 13,
   "id": "f89d96c4",
   "metadata": {},
   "outputs": [
    {
     "name": "stdout",
     "output_type": "stream",
     "text": [
      "Training set score of logistic: 0.747255840135097\n",
      "Testing set score of logistic: 0.7078135259356533\n"
     ]
    }
   ],
   "source": [
    "log_model = logistic_builder.train_logistic_model(X_train, y_train)"
   ]
  },
  {
   "cell_type": "code",
   "execution_count": 14,
   "id": "c995ba6e",
   "metadata": {},
   "outputs": [],
   "source": [
    "y_pred = log_model.predict(X_test)\n",
    "y_pred = y_pred.astype(int).tolist()\n",
    "y_test = y_test.astype(int).tolist()"
   ]
  },
  {
   "cell_type": "code",
   "execution_count": 15,
   "id": "777ca38a",
   "metadata": {},
   "outputs": [
    {
     "data": {
      "text/plain": [
       "<module 'scoring' from 'E:\\\\2023 Fall\\\\IML\\\\project\\\\iml-project\\\\scoring.py'>"
      ]
     },
     "execution_count": 15,
     "metadata": {},
     "output_type": "execute_result"
    }
   ],
   "source": [
    "import scoring\n",
    "importlib.reload(scoring)"
   ]
  },
  {
   "cell_type": "code",
   "execution_count": 16,
   "id": "d4f6da03",
   "metadata": {},
   "outputs": [
    {
     "name": "stdout",
     "output_type": "stream",
     "text": [
      "Class 0: Accuracy: 0.9361213235294118, Precision: 0.8047138047138047, Recall: 0.746875\n",
      "Class 1: Accuracy: 0.8708639705882353, Precision: 0.5587188612099644, Recall: 0.5\n",
      "Class 2: Accuracy: 0.8736213235294118, Precision: 0.5693215339233039, Recall: 0.5993788819875776\n",
      "Class 3: Accuracy: 0.9076286764705882, Precision: 0.6318840579710145, Recall: 0.7465753424657534\n",
      "Class 4: Accuracy: 0.9471507352941176, Precision: 0.8235294117647058, Recall: 0.8209876543209876\n",
      "Class 5: Accuracy: 0.9131433823529411, Precision: 0.7037037037037037, Recall: 0.6354515050167224\n",
      "Class 6: Accuracy: 0.9604779411764706, Precision: 0.8411214953271028, Recall: 0.8852459016393442\n",
      "mf1 score: 0.7048219228189334\n",
      "acc_score: 0.7045036764705882\n",
      "kappa_score: 0.6795205708658937\n"
     ]
    }
   ],
   "source": [
    "scoring.score(y_pred, y_test)"
   ]
  },
  {
   "cell_type": "code",
   "execution_count": 17,
   "id": "b91a7973",
   "metadata": {},
   "outputs": [
    {
     "name": "stdout",
     "output_type": "stream",
     "text": [
      "Accuracy of class 0: 0.746875\n",
      "Accuracy of class 1: 0.5\n",
      "Accuracy of class 2: 0.5993788819875776\n",
      "Accuracy of class 3: 0.7465753424657534\n",
      "Accuracy of class 4: 0.8209876543209876\n",
      "Accuracy of class 5: 0.6354515050167224\n",
      "Accuracy of class 6: 0.8852459016393442\n"
     ]
    }
   ],
   "source": [
    "cnt = len(y_test)\n",
    "acc = np.zeros(7)\n",
    "for i in range(cnt):\n",
    "    if y_test[i] == y_pred[i]:\n",
    "        acc[int(y_test[i])] += 1\n",
    "for i in range(7):\n",
    "    print(f\"Accuracy of class {i}: {acc[i]/y_test.count(i)}\")"
   ]
  },
  {
   "cell_type": "code",
   "execution_count": 18,
   "id": "c48441dc",
   "metadata": {},
   "outputs": [
    {
     "name": "stdout",
     "output_type": "stream",
     "text": [
      "(1968512, 105)\n",
      "(1968512,)\n"
     ]
    }
   ],
   "source": []
  },
  {
   "cell_type": "code",
   "execution_count": null,
   "id": "0e53f91a",
   "metadata": {},
   "outputs": [],
   "source": []
  }
 ],
 "metadata": {
  "kernelspec": {
   "display_name": "Python 3 (ipykernel)",
   "language": "python",
   "name": "python3"
  },
  "language_info": {
   "codemirror_mode": {
    "name": "ipython",
    "version": 3
   },
   "file_extension": ".py",
   "mimetype": "text/x-python",
   "name": "python",
   "nbconvert_exporter": "python",
   "pygments_lexer": "ipython3",
   "version": "3.11.4"
  }
 },
 "nbformat": 4,
 "nbformat_minor": 5
}
