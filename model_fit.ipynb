{
 "cells": [
  {
   "cell_type": "code",
   "execution_count": 1,
   "id": "805dfff7",
   "metadata": {},
   "outputs": [],
   "source": [
    "from read_edf import plot_signals\n",
    "from read_result import read_result_file\n",
    "from read_result import plot_sleep_stages\n",
    "from split_signal import split_edf_by_annotations\n",
    "from split_signal import split_edf_by_30s\n",
    "from sklearn.decomposition import PCA\n",
    "import processing_data\n",
    "import os\n",
    "import matplotlib.pyplot as plt\n",
    "import numpy as np\n",
    "from sklearn import svm\n",
    "import svm_builder\n",
    "import importlib"
   ]
  },
  {
   "cell_type": "code",
   "execution_count": 2,
   "id": "b7ad710c",
   "metadata": {},
   "outputs": [
    {
     "name": "stdout",
     "output_type": "stream",
     "text": [
      "(393345, 105)\n",
      "(393345,)\n"
     ]
    }
   ],
   "source": [
    "feature_number = 105\n",
    "\n",
    "X = np.empty((0,feature_number))\n",
    "y = np.empty((0,))\n",
    "for dirname, _, filenames in os.walk('./result'):\n",
    "    for filename in filenames:\n",
    "        file_path = os.path.join(dirname, filename)\n",
    "        file = np.load(file_path)\n",
    "        X = np.concatenate((X, file['features']))\n",
    "        y = np.concatenate((y, file['labels']))\n",
    "print(X.shape)\n",
    "print(y.shape)"
   ]
  },
  {
   "cell_type": "code",
   "execution_count": 3,
   "id": "04b42f95",
   "metadata": {},
   "outputs": [],
   "source": [
    "from sklearn import preprocessing\n",
    "scaler = preprocessing.StandardScaler().fit(X)\n",
    "X_scaled = scaler.fit_transform(X)"
   ]
  },
  {
   "cell_type": "code",
   "execution_count": 4,
   "id": "4b0ccb19",
   "metadata": {},
   "outputs": [
    {
     "name": "stdout",
     "output_type": "stream",
     "text": [
      "(393345, 82)\n",
      "(393345, 46)\n"
     ]
    }
   ],
   "source": [
    "pca1 = PCA(n_components= 0.999).fit(X_scaled)\n",
    "pca2 = PCA(n_components= 0.95).fit(X_scaled)\n",
    "X_pca1 = pca1.transform(X_scaled)\n",
    "X_pca2 = pca2.transform(X_scaled)\n",
    "print(X_pca1.shape)\n",
    "print(X_pca2.shape)"
   ]
  },
  {
   "cell_type": "code",
   "execution_count": 5,
   "id": "494f16e3",
   "metadata": {},
   "outputs": [
    {
     "name": "stdout",
     "output_type": "stream",
     "text": [
      "(393345, 82) (393345,)\n"
     ]
    }
   ],
   "source": [
    "model_X = X_pca1\n",
    "model_y = y\n",
    "print(model_X.shape, model_y.shape)"
   ]
  },
  {
   "cell_type": "code",
   "execution_count": 9,
   "id": "da373660",
   "metadata": {},
   "outputs": [],
   "source": [
    "from sklearn.model_selection import train_test_split"
   ]
  },
  {
   "cell_type": "code",
   "execution_count": 11,
   "id": "d48b7d34",
   "metadata": {},
   "outputs": [],
   "source": [
    "# devide X and y into train dataset and test dataset:\n",
    "X_train, X_test, y_train, y_test = train_test_split(model_X, model_y, test_size=0.3, random_state=42)"
   ]
  },
  {
   "cell_type": "code",
   "execution_count": 12,
   "id": "7e8a2eed",
   "metadata": {},
   "outputs": [],
   "source": [
    "import logistic_builder"
   ]
  },
  {
   "cell_type": "code",
   "execution_count": 13,
   "id": "0e62f989",
   "metadata": {},
   "outputs": [
    {
     "name": "stdout",
     "output_type": "stream",
     "text": [
      "Training set score of logistic: 0.8915159439238759\n",
      "Testing set score of logistic: 0.8916746365144123\n"
     ]
    }
   ],
   "source": [
    "log_model = logistic_builder.train_logistic_model(X_train, y_train)"
   ]
  },
  {
   "cell_type": "code",
   "execution_count": 47,
   "id": "33d708a4",
   "metadata": {},
   "outputs": [],
   "source": [
    "y_pred = log_model.predict(X_test)\n",
    "y_pred = y_pred.astype(int).tolist()\n",
    "y_test = y_test.astype(int).tolist()\n"
   ]
  },
  {
   "cell_type": "code",
   "execution_count": 55,
   "id": "f41f2fff",
   "metadata": {},
   "outputs": [
    {
     "data": {
      "text/plain": [
       "<module 'scoring' from 'E:\\\\2023 Fall\\\\IML\\\\project\\\\iml-project\\\\scoring.py'>"
      ]
     },
     "execution_count": 55,
     "metadata": {},
     "output_type": "execute_result"
    }
   ],
   "source": [
    "import scoring\n",
    "importlib.reload(scoring)"
   ]
  },
  {
   "cell_type": "code",
   "execution_count": 56,
   "id": "d0b6d1be",
   "metadata": {
    "scrolled": true
   },
   "outputs": [
    {
     "name": "stdout",
     "output_type": "stream",
     "text": [
      "Class 0: Precision: 0.952, Recall: 0.985\n",
      "Class 1: Precision: 0.426, Recall: 0.116\n",
      "Class 2: Precision: 0.720, Recall: 0.892\n",
      "Class 3: Precision: 0.424, Recall: 0.038\n",
      "Class 4: Precision: 0.855, Recall: 0.634\n",
      "Class 5: Precision: 0.756, Recall: 0.545\n",
      "Class 6: Precision: 0.724, Recall: 0.070\n",
      "mf1 score: 0.559\n",
      "acc_score: 0.890\n",
      "kappa_score: 0.953\n"
     ]
    }
   ],
   "source": [
    "scoring.score(y_pred, y_test)"
   ]
  },
  {
   "cell_type": "code",
   "execution_count": 50,
   "id": "9fe3dce1",
   "metadata": {},
   "outputs": [
    {
     "name": "stdout",
     "output_type": "stream",
     "text": [
      "Accuracy of class 0: 0.9845500788503266\n",
      "Accuracy of class 1: 0.11566927468809474\n",
      "Accuracy of class 2: 0.8919277044575185\n",
      "Accuracy of class 3: 0.03796653796653797\n",
      "Accuracy of class 4: 0.634313725490196\n",
      "Accuracy of class 5: 0.544734648513476\n",
      "Accuracy of class 6: 0.07023411371237458\n"
     ]
    }
   ],
   "source": [
    "cnt = len(y_test)\n",
    "acc = np.zeros(7)\n",
    "for i in range(cnt):\n",
    "    if y_test[i] == y_pred[i]:\n",
    "        acc[int(y_test[i])] += 1\n",
    "for i in range(7):\n",
    "    print(f\"Accuracy of class {i}: {acc[i]/y_test.count(i)}\")"
   ]
  },
  {
   "cell_type": "code",
   "execution_count": null,
   "id": "6945e74f",
   "metadata": {},
   "outputs": [],
   "source": []
  }
 ],
 "metadata": {
  "kernelspec": {
   "display_name": "Python 3 (ipykernel)",
   "language": "python",
   "name": "python3"
  },
  "language_info": {
   "codemirror_mode": {
    "name": "ipython",
    "version": 3
   },
   "file_extension": ".py",
   "mimetype": "text/x-python",
   "name": "python",
   "nbconvert_exporter": "python",
   "pygments_lexer": "ipython3",
   "version": "3.11.4"
  }
 },
 "nbformat": 4,
 "nbformat_minor": 5
}
