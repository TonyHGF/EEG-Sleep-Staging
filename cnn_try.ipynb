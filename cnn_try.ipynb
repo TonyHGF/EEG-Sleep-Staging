{
 "cells": [
  {
   "cell_type": "code",
   "execution_count": 1,
   "metadata": {},
   "outputs": [],
   "source": [
    "from read_edf import plot_signals\n",
    "from read_result import read_result_file\n",
    "from read_result import plot_sleep_stages\n",
    "from split_signal import split_edf_by_annotations\n",
    "from split_signal import split_edf_by_30s\n",
    "from sklearn.decomposition import PCA\n",
    "import processing_data\n",
    "import os\n",
    "import matplotlib.pyplot as plt\n",
    "import numpy as np\n",
    "from sklearn import svm"
   ]
  },
  {
   "cell_type": "code",
   "execution_count": 2,
   "metadata": {},
   "outputs": [],
   "source": [
    "feature_number = 105"
   ]
  },
  {
   "cell_type": "code",
   "execution_count": 3,
   "metadata": {},
   "outputs": [
    {
     "name": "stdout",
     "output_type": "stream",
     "text": [
      "(393345, 105)\n",
      "(393345,)\n"
     ]
    }
   ],
   "source": [
    "X = np.empty((0,feature_number))\n",
    "y = np.empty((0,))\n",
    "for dirname, _, filenames in os.walk('./result'):\n",
    "    for filename in filenames:\n",
    "        file_path = os.path.join(dirname, filename)\n",
    "        file = np.load(file_path)\n",
    "        X = np.concatenate((X, file['features']))\n",
    "        y = np.concatenate((y, file['labels']))\n",
    "print(X.shape)\n",
    "print(y.shape)"
   ]
  },
  {
   "cell_type": "code",
   "execution_count": 4,
   "metadata": {},
   "outputs": [],
   "source": [
    "from sklearn import preprocessing\n",
    "scaler = preprocessing.StandardScaler().fit(X)\n",
    "X_scaled = scaler.fit_transform(X)"
   ]
  },
  {
   "cell_type": "code",
   "execution_count": 5,
   "metadata": {},
   "outputs": [
    {
     "name": "stdout",
     "output_type": "stream",
     "text": [
      "(393345, 82)\n"
     ]
    }
   ],
   "source": [
    "pca = PCA(n_components= 0.999).fit(X_scaled)\n",
    "X_pca = pca.transform(X_scaled)\n",
    "print(X_pca.shape)"
   ]
  },
  {
   "cell_type": "code",
   "execution_count": 6,
   "metadata": {},
   "outputs": [
    {
     "name": "stdout",
     "output_type": "stream",
     "text": [
      "(393345, 82) (393345,)\n"
     ]
    }
   ],
   "source": [
    "model_X = X_pca\n",
    "model_y = y\n",
    "print(model_X.shape, model_y.shape)"
   ]
  },
  {
   "cell_type": "code",
   "execution_count": 7,
   "metadata": {},
   "outputs": [
    {
     "name": "stdout",
     "output_type": "stream",
     "text": [
      "[0. 1. 2. 3. 4. 5. 6.]\n"
     ]
    }
   ],
   "source": [
    "# find how many kinds of values in y\n",
    "y_values = np.unique(model_y)\n",
    "print(y_values)"
   ]
  },
  {
   "cell_type": "code",
   "execution_count": 8,
   "metadata": {},
   "outputs": [
    {
     "name": "stdout",
     "output_type": "stream",
     "text": [
      "Start with learning rate: 0.01 and channel: 32\n",
      "  epoch    train_loss    valid_acc    valid_loss     dur\n",
      "-------  ------------  -----------  ------------  ------\n",
      "      1        \u001b[36m0.9684\u001b[0m       \u001b[32m0.7155\u001b[0m        \u001b[35m0.9404\u001b[0m  5.3925\n",
      "      2        \u001b[36m0.8287\u001b[0m       \u001b[32m0.8350\u001b[0m        \u001b[35m0.5457\u001b[0m  5.1442\n",
      "      3        \u001b[36m0.4886\u001b[0m       \u001b[32m0.8590\u001b[0m        \u001b[35m0.4477\u001b[0m  5.0885\n",
      "      4        \u001b[36m0.4194\u001b[0m       \u001b[32m0.8743\u001b[0m        \u001b[35m0.3931\u001b[0m  4.9244\n",
      "      5        \u001b[36m0.3750\u001b[0m       \u001b[32m0.8819\u001b[0m        \u001b[35m0.3561\u001b[0m  4.9147\n",
      "      6        \u001b[36m0.3478\u001b[0m       \u001b[32m0.8868\u001b[0m        \u001b[35m0.3345\u001b[0m  5.0698\n",
      "      7        \u001b[36m0.3301\u001b[0m       \u001b[32m0.8915\u001b[0m        \u001b[35m0.3185\u001b[0m  4.9883\n",
      "      8        \u001b[36m0.3167\u001b[0m       \u001b[32m0.8953\u001b[0m        \u001b[35m0.3061\u001b[0m  4.9331\n",
      "      9        \u001b[36m0.3061\u001b[0m       \u001b[32m0.8979\u001b[0m        \u001b[35m0.2967\u001b[0m  4.9035\n",
      "     10        \u001b[36m0.2975\u001b[0m       \u001b[32m0.9004\u001b[0m        \u001b[35m0.2895\u001b[0m  4.8470\n",
      "     11        \u001b[36m0.2906\u001b[0m       \u001b[32m0.9019\u001b[0m        \u001b[35m0.2839\u001b[0m  4.8932\n",
      "     12        \u001b[36m0.2852\u001b[0m       \u001b[32m0.9030\u001b[0m        \u001b[35m0.2793\u001b[0m  4.9070\n",
      "     13        \u001b[36m0.2807\u001b[0m       \u001b[32m0.9039\u001b[0m        \u001b[35m0.2754\u001b[0m  4.9630\n",
      "     14        \u001b[36m0.2769\u001b[0m       \u001b[32m0.9049\u001b[0m        \u001b[35m0.2722\u001b[0m  5.0205\n",
      "     15        \u001b[36m0.2735\u001b[0m       \u001b[32m0.9056\u001b[0m        \u001b[35m0.2695\u001b[0m  5.0943\n",
      "     16        \u001b[36m0.2706\u001b[0m       \u001b[32m0.9065\u001b[0m        \u001b[35m0.2670\u001b[0m  5.0200\n",
      "     17        \u001b[36m0.2680\u001b[0m       \u001b[32m0.9071\u001b[0m        \u001b[35m0.2649\u001b[0m  5.0602\n",
      "     18        \u001b[36m0.2656\u001b[0m       \u001b[32m0.9081\u001b[0m        \u001b[35m0.2630\u001b[0m  5.1609\n",
      "     19        \u001b[36m0.2635\u001b[0m       \u001b[32m0.9088\u001b[0m        \u001b[35m0.2613\u001b[0m  5.0035\n",
      "     20        \u001b[36m0.2615\u001b[0m       \u001b[32m0.9094\u001b[0m        \u001b[35m0.2596\u001b[0m  4.7697\n",
      "     21        \u001b[36m0.2596\u001b[0m       \u001b[32m0.9101\u001b[0m        \u001b[35m0.2581\u001b[0m  5.0855\n",
      "     22        \u001b[36m0.2579\u001b[0m       \u001b[32m0.9103\u001b[0m        \u001b[35m0.2569\u001b[0m  4.8611\n",
      "     23        \u001b[36m0.2563\u001b[0m       \u001b[32m0.9108\u001b[0m        \u001b[35m0.2559\u001b[0m  5.0094\n",
      "     24        \u001b[36m0.2547\u001b[0m       \u001b[32m0.9108\u001b[0m        \u001b[35m0.2548\u001b[0m  5.1607\n",
      "     25        \u001b[36m0.2533\u001b[0m       \u001b[32m0.9111\u001b[0m        \u001b[35m0.2538\u001b[0m  5.1417\n",
      "     26        \u001b[36m0.2519\u001b[0m       \u001b[32m0.9112\u001b[0m        \u001b[35m0.2529\u001b[0m  5.0105\n",
      "     27        \u001b[36m0.2506\u001b[0m       \u001b[32m0.9117\u001b[0m        \u001b[35m0.2522\u001b[0m  4.7226\n",
      "     28        \u001b[36m0.2493\u001b[0m       0.9117        \u001b[35m0.2515\u001b[0m  4.9961\n",
      "     29        \u001b[36m0.2480\u001b[0m       \u001b[32m0.9120\u001b[0m        \u001b[35m0.2508\u001b[0m  4.6874\n",
      "     30        \u001b[36m0.2468\u001b[0m       \u001b[32m0.9123\u001b[0m        \u001b[35m0.2501\u001b[0m  4.8914\n",
      "     31        \u001b[36m0.2456\u001b[0m       0.9121        \u001b[35m0.2497\u001b[0m  5.1436\n",
      "     32        \u001b[36m0.2445\u001b[0m       0.9123        \u001b[35m0.2490\u001b[0m  4.9495\n",
      "     33        \u001b[36m0.2434\u001b[0m       \u001b[32m0.9123\u001b[0m        \u001b[35m0.2484\u001b[0m  5.0907\n",
      "     34        \u001b[36m0.2424\u001b[0m       \u001b[32m0.9124\u001b[0m        \u001b[35m0.2481\u001b[0m  5.2297\n",
      "     35        \u001b[36m0.2414\u001b[0m       0.9123        \u001b[35m0.2476\u001b[0m  5.2580\n",
      "     36        \u001b[36m0.2404\u001b[0m       0.9124        \u001b[35m0.2472\u001b[0m  5.1332\n",
      "     37        \u001b[36m0.2395\u001b[0m       \u001b[32m0.9125\u001b[0m        \u001b[35m0.2467\u001b[0m  5.2641\n",
      "     38        \u001b[36m0.2386\u001b[0m       \u001b[32m0.9126\u001b[0m        \u001b[35m0.2466\u001b[0m  5.1924\n",
      "     39        \u001b[36m0.2377\u001b[0m       \u001b[32m0.9126\u001b[0m        \u001b[35m0.2464\u001b[0m  5.1949\n",
      "     40        \u001b[36m0.2368\u001b[0m       0.9124        \u001b[35m0.2461\u001b[0m  5.2292\n",
      "     41        \u001b[36m0.2360\u001b[0m       0.9126        \u001b[35m0.2458\u001b[0m  5.1869\n",
      "     42        \u001b[36m0.2351\u001b[0m       0.9125        \u001b[35m0.2457\u001b[0m  5.2212\n",
      "     43        \u001b[36m0.2343\u001b[0m       \u001b[32m0.9129\u001b[0m        \u001b[35m0.2449\u001b[0m  5.1108\n",
      "     44        \u001b[36m0.2335\u001b[0m       \u001b[32m0.9130\u001b[0m        0.2450  5.0456\n",
      "     45        \u001b[36m0.2327\u001b[0m       0.9127        \u001b[35m0.2448\u001b[0m  5.0984\n",
      "     46        \u001b[36m0.2319\u001b[0m       \u001b[32m0.9132\u001b[0m        \u001b[35m0.2438\u001b[0m  5.0214\n",
      "     47        \u001b[36m0.2311\u001b[0m       0.9127        0.2443  5.0359\n",
      "     48        \u001b[36m0.2304\u001b[0m       0.9129        0.2442  4.9933\n",
      "     49        \u001b[36m0.2297\u001b[0m       \u001b[32m0.9133\u001b[0m        \u001b[35m0.2431\u001b[0m  5.1241\n",
      "     50        \u001b[36m0.2290\u001b[0m       \u001b[32m0.9134\u001b[0m        \u001b[35m0.2430\u001b[0m  5.1136\n",
      "     51        \u001b[36m0.2283\u001b[0m       0.9131        0.2431  5.1167\n",
      "     52        \u001b[36m0.2276\u001b[0m       0.9131        0.2434  5.1055\n",
      "     53        \u001b[36m0.2270\u001b[0m       0.9133        0.2432  5.0737\n",
      "     54        \u001b[36m0.2263\u001b[0m       0.9133        \u001b[35m0.2424\u001b[0m  5.0571\n",
      "     55        \u001b[36m0.2257\u001b[0m       0.9131        0.2430  5.0309\n",
      "     56        \u001b[36m0.2251\u001b[0m       \u001b[32m0.9136\u001b[0m        \u001b[35m0.2415\u001b[0m  5.0073\n",
      "     57        \u001b[36m0.2244\u001b[0m       0.9133        0.2423  5.0644\n",
      "     58        \u001b[36m0.2238\u001b[0m       0.9130        0.2422  5.0128\n",
      "     59        \u001b[36m0.2232\u001b[0m       0.9131        0.2419  5.0152\n",
      "     60        \u001b[36m0.2226\u001b[0m       0.9129        0.2422  4.9751\n",
      "Stopping since valid_loss has not improved in the last 5 epochs.\n",
      "training set score: 0.9184284214846318\n",
      "Find each accuracy of each class:\n",
      "Accuracy of class 0: 0.9774128041611743\n",
      "Accuracy of class 1: 0.2796878295718203\n",
      "Accuracy of class 2: 0.9083703233988586\n",
      "Accuracy of class 3: 0.43038779402415767\n",
      "Accuracy of class 4: 0.8412698412698413\n",
      "Accuracy of class 5: 0.7114695340501792\n",
      "Accuracy of class 6: 0.31986531986531985\n",
      "testing set score: 0.9118504457476018\n"
     ]
    }
   ],
   "source": [
    "from cnn_builder2 import *\n",
    "\n",
    "\n",
    "# learning_rate = 2e-2\n",
    "# channel = 32\n",
    "\n",
    "\n",
    "# model_X_normalized = torch.Tensor(model_X)\n",
    "# model_X_normalized = torch.unsqueeze(model_X_normalized, 1)\n",
    "\n",
    "\n",
    "# cnn = CNN_Sleeping(channels = channel)\n",
    "\n",
    "# model = skorch.NeuralNetClassifier(cnn, criterion=torch.nn.CrossEntropyLoss,\n",
    "#                              device=\"cuda\",\n",
    "#                              optimizer=torch.optim.SGD ,\n",
    "#                              lr=learning_rate,\n",
    "#                              max_epochs=120,\n",
    "#                              batch_size=128,\n",
    "#                              callbacks=[skorch.callbacks.EarlyStopping(lower_is_better=True)])\n",
    "\n",
    "# model.fit(model_X_normalized, np.asarray(model_y, dtype=np.int64))\n",
    "\n",
    "train_cnn_model(model_X, model_y)"
   ]
  },
  {
   "cell_type": "code",
   "execution_count": 9,
   "metadata": {},
   "outputs": [
    {
     "name": "stdout",
     "output_type": "stream",
     "text": [
      "0.0 281216\n",
      "1.0 15578\n",
      "2.0 62754\n",
      "3.0 5255\n",
      "4.0 3231\n",
      "5.0 24275\n",
      "6.0 1036\n"
     ]
    }
   ],
   "source": [
    "# distribution of labels y\n",
    "# print every count of labels\n",
    "for i in y_values:\n",
    "    print(i, np.sum(model_y == i))\n"
   ]
  }
 ],
 "metadata": {
  "kernelspec": {
   "display_name": "Python 3 (ipykernel)",
   "language": "python",
   "name": "python3"
  },
  "language_info": {
   "codemirror_mode": {
    "name": "ipython",
    "version": 3
   },
   "file_extension": ".py",
   "mimetype": "text/x-python",
   "name": "python",
   "nbconvert_exporter": "python",
   "pygments_lexer": "ipython3",
   "version": "3.11.5"
  }
 },
 "nbformat": 4,
 "nbformat_minor": 2
}
