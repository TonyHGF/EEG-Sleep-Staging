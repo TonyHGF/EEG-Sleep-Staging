{
 "cells": [
  {
   "cell_type": "code",
   "execution_count": 1,
   "id": "a67d75e4",
   "metadata": {},
   "outputs": [],
   "source": [
    "# edf_path = \"../database/sleep_cassette/SC4001E0-PSG.edf\"\n",
    "edf_path = \"E:\\\\2023 Fall\\IML\\project\\database\\sleep-cassette\\SC4001E0-PSG.edf\"\n",
    "result_path = \"../database/sleep-cassette/SC4002EC-Hypnogram.edf\""
   ]
  },
  {
   "cell_type": "code",
   "execution_count": 2,
   "id": "15464b8c",
   "metadata": {},
   "outputs": [],
   "source": [
    "from read_edf import *\n",
    "from read_result import *\n",
    "from split_signal import *\n",
    "from processing_data import *"
   ]
  },
  {
   "cell_type": "code",
   "execution_count": 3,
   "id": "af076a5d",
   "metadata": {},
   "outputs": [],
   "source": [
    "signal_labels, signals, sample_frequency = read_edf_file(edf_path)\n",
    "# plot_signals(signal_labels, signals, sample_frequency, True)\n"
   ]
  },
  {
   "cell_type": "code",
   "execution_count": 4,
   "id": "72394148",
   "metadata": {},
   "outputs": [],
   "source": [
    "start_times, durations, labels = read_result_file(result_path)"
   ]
  },
  {
   "cell_type": "code",
   "execution_count": 5,
   "id": "8771a38a",
   "metadata": {},
   "outputs": [],
   "source": [
    "# plot_sleep_stages(start_times, durations, labels, True)"
   ]
  },
  {
   "cell_type": "code",
   "execution_count": 6,
   "id": "5e0f02cc",
   "metadata": {},
   "outputs": [],
   "source": [
    "split = split_edf_by_annotations(edf_path, start_times, durations, labels)"
   ]
  },
  {
   "cell_type": "code",
   "execution_count": 7,
   "id": "460c4adb",
   "metadata": {},
   "outputs": [
    {
     "ename": "NameError",
     "evalue": "name 'plot_nparray' is not defined",
     "output_type": "error",
     "traceback": [
      "\u001b[1;31m---------------------------------------------------------------------------\u001b[0m",
      "\u001b[1;31mNameError\u001b[0m                                 Traceback (most recent call last)",
      "Cell \u001b[1;32mIn[7], line 6\u001b[0m\n\u001b[0;32m      4\u001b[0m eog \u001b[38;5;241m=\u001b[39m split[i][\u001b[38;5;241m1\u001b[39m][\u001b[38;5;241m2\u001b[39m]\n\u001b[0;32m      5\u001b[0m label \u001b[38;5;241m=\u001b[39m split[i][\u001b[38;5;241m0\u001b[39m]\n\u001b[1;32m----> 6\u001b[0m plot_nparray(eeg1, label \u001b[38;5;241m+\u001b[39m \u001b[38;5;124m\"\u001b[39m\u001b[38;5;124mEEG Fpz-Cz\u001b[39m\u001b[38;5;124m\"\u001b[39m)\n\u001b[0;32m      7\u001b[0m plot_nparray(eeg2, label \u001b[38;5;241m+\u001b[39m \u001b[38;5;124m\"\u001b[39m\u001b[38;5;124mEEG Pz-Oz\u001b[39m\u001b[38;5;124m\"\u001b[39m)\n\u001b[0;32m      8\u001b[0m plot_nparray(eog, label \u001b[38;5;241m+\u001b[39m \u001b[38;5;124m\"\u001b[39m\u001b[38;5;124mEOG\u001b[39m\u001b[38;5;124m\"\u001b[39m)\n",
      "\u001b[1;31mNameError\u001b[0m: name 'plot_nparray' is not defined"
     ]
    }
   ],
   "source": [
    "\n",
    "for i in range(3):\n",
    "    eeg1 = split[i][1][0]\n",
    "    eeg2 = split[i][1][1]\n",
    "    eog = split[i][1][2]\n",
    "    label = split[i][0]\n",
    "    plot_by_nparray(eeg1, label + \"EEG Fpz-Cz\")\n",
    "    plot_nparray(eeg2, label + \"EEG Pz-Oz\")\n",
    "    plot_nparray(eog, label + \"EOG\")"
   ]
  },
  {
   "cell_type": "code",
   "execution_count": null,
   "id": "975d6e4c",
   "metadata": {},
   "outputs": [],
   "source": []
  }
 ],
 "metadata": {
  "kernelspec": {
   "display_name": "Python 3 (ipykernel)",
   "language": "python",
   "name": "python3"
  },
  "language_info": {
   "codemirror_mode": {
    "name": "ipython",
    "version": 3
   },
   "file_extension": ".py",
   "mimetype": "text/x-python",
   "name": "python",
   "nbconvert_exporter": "python",
   "pygments_lexer": "ipython3",
   "version": "3.11.4"
  }
 },
 "nbformat": 4,
 "nbformat_minor": 5
}
