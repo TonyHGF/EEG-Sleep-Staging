{
 "cells": [
  {
   "cell_type": "code",
   "execution_count": 2,
   "id": "81e202db",
   "metadata": {},
   "outputs": [],
   "source": [
    "from read_edf import plot_signals\n",
    "from read_result import read_result_file\n",
    "from read_result import plot_sleep_stages\n",
    "from split_signal import split_edf_by_annotations\n",
    "from split_signal import split_edf_by_30s\n",
    "from sklearn.decomposition import PCA\n",
    "import processing_data\n",
    "import os\n",
    "import matplotlib.pyplot as plt\n",
    "import numpy as np\n",
    "from sklearn import svm\n",
    "import svm_builder\n",
    "import importlib"
   ]
  },
  {
   "cell_type": "code",
   "execution_count": 3,
   "id": "3c0bbe85",
   "metadata": {},
   "outputs": [
    {
     "name": "stdout",
     "output_type": "stream",
     "text": [
      "(393345, 105)\n",
      "(393345,)\n"
     ]
    }
   ],
   "source": [
    "feature_number = 105\n",
    "\n",
    "X = np.empty((0,feature_number))\n",
    "y = np.empty((0,))\n",
    "for dirname, _, filenames in os.walk('./result'):\n",
    "    for filename in filenames:\n",
    "        file_path = os.path.join(dirname, filename)\n",
    "        file = np.load(file_path)\n",
    "        X = np.concatenate((X, file['features']))\n",
    "        y = np.concatenate((y, file['labels']))\n",
    "print(X.shape)\n",
    "print(y.shape)"
   ]
  },
  {
   "cell_type": "markdown",
   "id": "68d2580d",
   "metadata": {},
   "source": [
    "下面这段是 Balance with Over sample"
   ]
  },
  {
   "cell_type": "code",
   "execution_count": 4,
   "id": "5b320b7c",
   "metadata": {},
   "outputs": [
    {
     "name": "stdout",
     "output_type": "stream",
     "text": [
      "(1968512, 105)\n",
      "(1968512,)\n"
     ]
    }
   ],
   "source": [
    "import balance\n",
    "importlib.reload(balance)\n",
    "balance_x, balance_y = balance.get_balance_class_oversample(X, y)\n",
    "print(balance_x.shape)\n",
    "print(balance_y.shape)"
   ]
  },
  {
   "cell_type": "code",
   "execution_count": 5,
   "id": "682bfc81",
   "metadata": {},
   "outputs": [],
   "source": [
    "from sklearn import preprocessing\n",
    "scaler = preprocessing.StandardScaler().fit(balance_x)\n",
    "X_scaled = scaler.fit_transform(balance_x)"
   ]
  },
  {
   "cell_type": "code",
   "execution_count": 6,
   "id": "034177b4",
   "metadata": {},
   "outputs": [
    {
     "name": "stdout",
     "output_type": "stream",
     "text": [
      "(1968512, 81)\n",
      "(1968512, 43)\n"
     ]
    }
   ],
   "source": [
    "pca1 = PCA(n_components= 0.999).fit(X_scaled)\n",
    "pca2 = PCA(n_components= 0.95).fit(X_scaled)\n",
    "X_pca1 = pca1.transform(X_scaled)\n",
    "X_pca2 = pca2.transform(X_scaled)\n",
    "print(X_pca1.shape)\n",
    "print(X_pca2.shape)"
   ]
  },
  {
   "cell_type": "code",
   "execution_count": 7,
   "id": "14a203b7",
   "metadata": {},
   "outputs": [
    {
     "name": "stdout",
     "output_type": "stream",
     "text": [
      "(1968512, 81) (1968512,)\n"
     ]
    }
   ],
   "source": [
    "model_X = X_pca1\n",
    "model_y = balance_y\n",
    "print(model_X.shape, model_y.shape)"
   ]
  },
  {
   "cell_type": "code",
   "execution_count": 8,
   "id": "c1eea782",
   "metadata": {},
   "outputs": [],
   "source": [
    "from sklearn.model_selection import train_test_split"
   ]
  },
  {
   "cell_type": "code",
   "execution_count": 9,
   "id": "8c9e60f5",
   "metadata": {},
   "outputs": [],
   "source": [
    "# devide X and y into train dataset and test dataset:\n",
    "X_train, X_test, y_train, y_test = train_test_split(model_X, model_y, test_size=0.3, random_state=42)"
   ]
  },
  {
   "cell_type": "code",
   "execution_count": 10,
   "id": "523196d9",
   "metadata": {},
   "outputs": [],
   "source": [
    "import logistic_builder"
   ]
  },
  {
   "cell_type": "code",
   "execution_count": null,
   "id": "e4abcecf",
   "metadata": {},
   "outputs": [
    {
     "name": "stderr",
     "output_type": "stream",
     "text": [
      "D:\\Anaconda3\\Lib\\site-packages\\scipy\\optimize\\_linesearch.py:306: LineSearchWarning: The line search algorithm did not converge\n",
      "  warn('The line search algorithm did not converge', LineSearchWarning)\n",
      "D:\\Anaconda3\\Lib\\site-packages\\sklearn\\utils\\optimize.py:204: UserWarning: Line Search failed\n",
      "  warnings.warn(\"Line Search failed\")\n"
     ]
    }
   ],
   "source": [
    "log_model = logistic_builder.train_logistic_model(X_train, y_train)"
   ]
  },
  {
   "cell_type": "code",
   "execution_count": null,
   "id": "f2b8bc36",
   "metadata": {},
   "outputs": [],
   "source": [
    "y_pred = log_model.predict(X_test)\n",
    "y_pred = y_pred.astype(int).tolist()\n",
    "y_test = y_test.astype(int).tolist()"
   ]
  },
  {
   "cell_type": "code",
   "execution_count": null,
   "id": "88156df8",
   "metadata": {},
   "outputs": [],
   "source": [
    "import scoring\n",
    "importlib.reload(scoring)"
   ]
  },
  {
   "cell_type": "code",
   "execution_count": null,
   "id": "6b981eaf",
   "metadata": {},
   "outputs": [],
   "source": [
    "scoring.score(y_pred, y_test)"
   ]
  },
  {
   "cell_type": "code",
   "execution_count": null,
   "id": "adb6d8b4",
   "metadata": {},
   "outputs": [],
   "source": [
    "cnt = len(y_test)\n",
    "acc = np.zeros(7)\n",
    "for i in range(cnt):\n",
    "    if y_test[i] == y_pred[i]:\n",
    "        acc[int(y_test[i])] += 1\n",
    "for i in range(7):\n",
    "    print(f\"Accuracy of class {i}: {acc[i]/y_test.count(i)}\")"
   ]
  },
  {
   "cell_type": "code",
   "execution_count": null,
   "id": "4915f6eb",
   "metadata": {},
   "outputs": [],
   "source": [
    "importlib.reload(balance)\n",
    "balance_x, balance_y = balance.get_balance_class_oversample(X, y)\n",
    "print(balance_x.shape)\n",
    "print(balance_y.shape)"
   ]
  },
  {
   "cell_type": "code",
   "execution_count": null,
   "id": "7864811f",
   "metadata": {},
   "outputs": [],
   "source": []
  }
 ],
 "metadata": {
  "kernelspec": {
   "display_name": "Python 3 (ipykernel)",
   "language": "python",
   "name": "python3"
  },
  "language_info": {
   "codemirror_mode": {
    "name": "ipython",
    "version": 3
   },
   "file_extension": ".py",
   "mimetype": "text/x-python",
   "name": "python",
   "nbconvert_exporter": "python",
   "pygments_lexer": "ipython3",
   "version": "3.11.4"
  }
 },
 "nbformat": 4,
 "nbformat_minor": 5
}
